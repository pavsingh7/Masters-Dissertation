{
 "cells": [
  {
   "attachments": {},
   "cell_type": "markdown",
   "metadata": {},
   "source": [
    "# <a id='toc1_'></a>[Data Cleaning and Processing](#toc0_)"
   ]
  },
  {
   "attachments": {},
   "cell_type": "markdown",
   "metadata": {},
   "source": [
    "**Table of contents**<a id='toc0_'></a>    \n",
    "- [Data Cleaning Processes](#toc2_)    \n",
    "  - [Removing Unnecessary Columns](#toc2_1_)    \n",
    "  - [NaN Values in the Data](#toc2_2_)    \n",
    "  - [Duplicates in the Data](#toc2_3_)    \n",
    "  - [Outliers in the Data](#toc2_4_)    \n",
    "  - [Standardizing and Checking Data Types](#toc2_5_)    \n",
    "  - [Dealing with Text Data](#toc2_6_)    \n",
    "  - [Dealing with Categorical Data](#toc2_7_)    \n",
    "  - [Checking for Data Consistency](#toc2_8_)    \n",
    "  - [Normalizing Data](#toc2_9_)    \n",
    "  - [Check Data Imbalance](#toc2_10_)    \n",
    "  - [Feature Engineering](#toc2_11_)    \n",
    "- [Creating New Dataset and Saving](#toc3_)    \n",
    "\n",
    "<!-- vscode-jupyter-toc-config\n",
    "\tnumbering=false\n",
    "\tanchor=true\n",
    "\tflat=false\n",
    "\tminLevel=1\n",
    "\tmaxLevel=6\n",
    "\t/vscode-jupyter-toc-config -->\n",
    "<!-- THIS CELL WILL BE REPLACED ON TOC UPDATE. DO NOT WRITE YOUR TEXT IN THIS CELL -->"
   ]
  },
  {
   "cell_type": "code",
   "execution_count": 114,
   "metadata": {},
   "outputs": [],
   "source": [
    "# import all the necessary packages\n",
    "import pandas as pd\n",
    "import numpy as np\n",
    "import warnings\n",
    "warnings.filterwarnings('ignore')\n",
    "import re\n"
   ]
  },
  {
   "attachments": {},
   "cell_type": "markdown",
   "metadata": {},
   "source": [
    "In this workbook we will clean and process the data for the project. We will also create a new dataset that will be used for the analysis. This dataset will be saved as a csv file and will be used in the analysis workbook. Specifically, we will do the following:\n",
    "\n",
    "1. Load the data from the csv file created in the data loadings workbook\n",
    "2. Clean the data by:\n",
    "    - removing or looking at columns that are not needed\n",
    "    - looking at missing values\n",
    "    - looking at duplicates\n",
    "    - looking at outliers\n",
    "    - standardizing and checking data types\n",
    "    - deal with text data\n",
    "    - deal with categorical data (categories)\n",
    "    - check for data consistency across columns\n",
    "    - look at normalizing data (price, votes, etc. )\n",
    "    - Looking at rows with missing values\n",
    "    - check data balance\n",
    "    - feature engineering (sentiment analysis, etc.)\n",
    "\n",
    "3. Create a new dataset\n",
    "4. Save the new dataset"
   ]
  },
  {
   "attachments": {},
   "cell_type": "markdown",
   "metadata": {},
   "source": [
    "# <a id='toc2_'></a>[Data Cleaning Processes](#toc0_)"
   ]
  },
  {
   "cell_type": "code",
   "execution_count": 115,
   "metadata": {},
   "outputs": [],
   "source": [
    "# load data - MAC OS\n",
    "amz_rev = pd.read_csv('/Users/pavansingh/Library/CloudStorage/GoogleDrive-pavansingho23@gmail.com/My Drive/Portfolio/Masters-Dissertation/Code/Data/all_revs_meta.csv', low_memory=True)\n"
   ]
  },
  {
   "cell_type": "code",
   "execution_count": 116,
   "metadata": {},
   "outputs": [
    {
     "data": {
      "text/html": [
       "<div>\n",
       "<style scoped>\n",
       "    .dataframe tbody tr th:only-of-type {\n",
       "        vertical-align: middle;\n",
       "    }\n",
       "\n",
       "    .dataframe tbody tr th {\n",
       "        vertical-align: top;\n",
       "    }\n",
       "\n",
       "    .dataframe thead th {\n",
       "        text-align: right;\n",
       "    }\n",
       "</style>\n",
       "<table border=\"1\" class=\"dataframe\">\n",
       "  <thead>\n",
       "    <tr style=\"text-align: right;\">\n",
       "      <th></th>\n",
       "      <th>overall</th>\n",
       "      <th>verified</th>\n",
       "      <th>reviewTime</th>\n",
       "      <th>reviewerID</th>\n",
       "      <th>asin</th>\n",
       "      <th>style</th>\n",
       "      <th>reviewerName</th>\n",
       "      <th>reviewText</th>\n",
       "      <th>summary</th>\n",
       "      <th>unixReviewTime</th>\n",
       "      <th>category_x</th>\n",
       "      <th>vote</th>\n",
       "      <th>description</th>\n",
       "      <th>title</th>\n",
       "      <th>brand</th>\n",
       "      <th>feature</th>\n",
       "      <th>rank</th>\n",
       "      <th>main_cat</th>\n",
       "      <th>date</th>\n",
       "      <th>price</th>\n",
       "    </tr>\n",
       "  </thead>\n",
       "  <tbody>\n",
       "    <tr>\n",
       "      <th>0</th>\n",
       "      <td>5.0</td>\n",
       "      <td>False</td>\n",
       "      <td>04 7, 2018</td>\n",
       "      <td>A31URN5S2Q0UJV</td>\n",
       "      <td>B000URXP6E</td>\n",
       "      <td>{'Size:': ' Small'}</td>\n",
       "      <td>Boris Jones</td>\n",
       "      <td>Was skeptical at first. The liquid is kind of ...</td>\n",
       "      <td>Awesome quality!</td>\n",
       "      <td>1523059200</td>\n",
       "      <td>beauty</td>\n",
       "      <td>NaN</td>\n",
       "      <td>['Juicy burst of Starburst fruit flavored Lip ...</td>\n",
       "      <td>Bonne Bell Smackers Bath and Body Starburst Co...</td>\n",
       "      <td>Bonne Bell</td>\n",
       "      <td>[]</td>\n",
       "      <td>1,390,827 in Beauty &amp;amp; Personal Care (</td>\n",
       "      <td>All Beauty</td>\n",
       "      <td>NaN</td>\n",
       "      <td>NaN</td>\n",
       "    </tr>\n",
       "    <tr>\n",
       "      <th>1</th>\n",
       "      <td>5.0</td>\n",
       "      <td>True</td>\n",
       "      <td>02 4, 2014</td>\n",
       "      <td>A31XUJMEDBUGKR</td>\n",
       "      <td>B000URXP6E</td>\n",
       "      <td>{'Size:': ' 23'}</td>\n",
       "      <td>Terry V.</td>\n",
       "      <td>Beautiful Beginnings have been the answer to m...</td>\n",
       "      <td>Works great!</td>\n",
       "      <td>1391472000</td>\n",
       "      <td>beauty</td>\n",
       "      <td>NaN</td>\n",
       "      <td>['Juicy burst of Starburst fruit flavored Lip ...</td>\n",
       "      <td>Bonne Bell Smackers Bath and Body Starburst Co...</td>\n",
       "      <td>Bonne Bell</td>\n",
       "      <td>[]</td>\n",
       "      <td>1,390,827 in Beauty &amp;amp; Personal Care (</td>\n",
       "      <td>All Beauty</td>\n",
       "      <td>NaN</td>\n",
       "      <td>NaN</td>\n",
       "    </tr>\n",
       "    <tr>\n",
       "      <th>2</th>\n",
       "      <td>5.0</td>\n",
       "      <td>True</td>\n",
       "      <td>05 11, 2013</td>\n",
       "      <td>A2XPTXCAX8WLHU</td>\n",
       "      <td>B000URXP6E</td>\n",
       "      <td>{'Size:': ' 263'}</td>\n",
       "      <td>Mindy Lipton</td>\n",
       "      <td>My daughter bought this for me because she kno...</td>\n",
       "      <td>Love it</td>\n",
       "      <td>1368230400</td>\n",
       "      <td>beauty</td>\n",
       "      <td>NaN</td>\n",
       "      <td>['Juicy burst of Starburst fruit flavored Lip ...</td>\n",
       "      <td>Bonne Bell Smackers Bath and Body Starburst Co...</td>\n",
       "      <td>Bonne Bell</td>\n",
       "      <td>[]</td>\n",
       "      <td>1,390,827 in Beauty &amp;amp; Personal Care (</td>\n",
       "      <td>All Beauty</td>\n",
       "      <td>NaN</td>\n",
       "      <td>NaN</td>\n",
       "    </tr>\n",
       "  </tbody>\n",
       "</table>\n",
       "</div>"
      ],
      "text/plain": [
       "   overall  verified   reviewTime      reviewerID        asin  \\\n",
       "0      5.0     False   04 7, 2018  A31URN5S2Q0UJV  B000URXP6E   \n",
       "1      5.0      True   02 4, 2014  A31XUJMEDBUGKR  B000URXP6E   \n",
       "2      5.0      True  05 11, 2013  A2XPTXCAX8WLHU  B000URXP6E   \n",
       "\n",
       "                 style  reviewerName  \\\n",
       "0  {'Size:': ' Small'}   Boris Jones   \n",
       "1     {'Size:': ' 23'}      Terry V.   \n",
       "2    {'Size:': ' 263'}  Mindy Lipton   \n",
       "\n",
       "                                          reviewText           summary  \\\n",
       "0  Was skeptical at first. The liquid is kind of ...  Awesome quality!   \n",
       "1  Beautiful Beginnings have been the answer to m...      Works great!   \n",
       "2  My daughter bought this for me because she kno...           Love it   \n",
       "\n",
       "   unixReviewTime category_x vote  \\\n",
       "0      1523059200     beauty  NaN   \n",
       "1      1391472000     beauty  NaN   \n",
       "2      1368230400     beauty  NaN   \n",
       "\n",
       "                                         description  \\\n",
       "0  ['Juicy burst of Starburst fruit flavored Lip ...   \n",
       "1  ['Juicy burst of Starburst fruit flavored Lip ...   \n",
       "2  ['Juicy burst of Starburst fruit flavored Lip ...   \n",
       "\n",
       "                                               title       brand feature  \\\n",
       "0  Bonne Bell Smackers Bath and Body Starburst Co...  Bonne Bell      []   \n",
       "1  Bonne Bell Smackers Bath and Body Starburst Co...  Bonne Bell      []   \n",
       "2  Bonne Bell Smackers Bath and Body Starburst Co...  Bonne Bell      []   \n",
       "\n",
       "                                        rank    main_cat date price  \n",
       "0  1,390,827 in Beauty &amp; Personal Care (  All Beauty  NaN   NaN  \n",
       "1  1,390,827 in Beauty &amp; Personal Care (  All Beauty  NaN   NaN  \n",
       "2  1,390,827 in Beauty &amp; Personal Care (  All Beauty  NaN   NaN  "
      ]
     },
     "metadata": {},
     "output_type": "display_data"
    },
    {
     "name": "stdout",
     "output_type": "stream",
     "text": [
      "Shape of the data:  (617770, 20)\n"
     ]
    }
   ],
   "source": [
    "#  drop column 'Unnamed: 0'\n",
    "amz_rev = amz_rev.drop(columns=['Unnamed: 0'])\n",
    "\n",
    "# initial data view\n",
    "display(amz_rev.head(3))\n",
    "print(\"Shape of the data: \", amz_rev.shape)"
   ]
  },
  {
   "attachments": {},
   "cell_type": "markdown",
   "metadata": {},
   "source": [
    "## <a id='toc2_1_'></a>[Removing Unnecessary Columns](#toc0_)\n",
    "\n",
    "We look at removing columns that are not needed for the analysis.\n"
   ]
  },
  {
   "cell_type": "code",
   "execution_count": 117,
   "metadata": {},
   "outputs": [
    {
     "name": "stdout",
     "output_type": "stream",
     "text": [
      "Columns in the data: \n",
      " Index(['overall', 'verified', 'reviewTime', 'reviewerID', 'asin', 'style',\n",
      "       'reviewerName', 'reviewText', 'summary', 'unixReviewTime', 'category_x',\n",
      "       'vote', 'description', 'title', 'brand', 'feature', 'rank', 'main_cat',\n",
      "       'date', 'price'],\n",
      "      dtype='object')\n"
     ]
    }
   ],
   "source": [
    "# see columns\n",
    "print(\"Columns in the data: \\n\", amz_rev.columns)"
   ]
  },
  {
   "cell_type": "code",
   "execution_count": 118,
   "metadata": {},
   "outputs": [
    {
     "data": {
      "text/html": [
       "<div>\n",
       "<style scoped>\n",
       "    .dataframe tbody tr th:only-of-type {\n",
       "        vertical-align: middle;\n",
       "    }\n",
       "\n",
       "    .dataframe tbody tr th {\n",
       "        vertical-align: top;\n",
       "    }\n",
       "\n",
       "    .dataframe thead th {\n",
       "        text-align: right;\n",
       "    }\n",
       "</style>\n",
       "<table border=\"1\" class=\"dataframe\">\n",
       "  <thead>\n",
       "    <tr style=\"text-align: right;\">\n",
       "      <th></th>\n",
       "      <th>overall</th>\n",
       "      <th>reviewerID</th>\n",
       "      <th>asin</th>\n",
       "      <th>reviewerName</th>\n",
       "      <th>reviewText</th>\n",
       "      <th>unixReviewTime</th>\n",
       "      <th>category_x</th>\n",
       "      <th>description</th>\n",
       "      <th>title</th>\n",
       "      <th>brand</th>\n",
       "    </tr>\n",
       "  </thead>\n",
       "  <tbody>\n",
       "    <tr>\n",
       "      <th>0</th>\n",
       "      <td>5.0</td>\n",
       "      <td>A31URN5S2Q0UJV</td>\n",
       "      <td>B000URXP6E</td>\n",
       "      <td>Boris Jones</td>\n",
       "      <td>Was skeptical at first. The liquid is kind of ...</td>\n",
       "      <td>1523059200</td>\n",
       "      <td>beauty</td>\n",
       "      <td>['Juicy burst of Starburst fruit flavored Lip ...</td>\n",
       "      <td>Bonne Bell Smackers Bath and Body Starburst Co...</td>\n",
       "      <td>Bonne Bell</td>\n",
       "    </tr>\n",
       "    <tr>\n",
       "      <th>1</th>\n",
       "      <td>5.0</td>\n",
       "      <td>A31XUJMEDBUGKR</td>\n",
       "      <td>B000URXP6E</td>\n",
       "      <td>Terry V.</td>\n",
       "      <td>Beautiful Beginnings have been the answer to m...</td>\n",
       "      <td>1391472000</td>\n",
       "      <td>beauty</td>\n",
       "      <td>['Juicy burst of Starburst fruit flavored Lip ...</td>\n",
       "      <td>Bonne Bell Smackers Bath and Body Starburst Co...</td>\n",
       "      <td>Bonne Bell</td>\n",
       "    </tr>\n",
       "    <tr>\n",
       "      <th>2</th>\n",
       "      <td>5.0</td>\n",
       "      <td>A2XPTXCAX8WLHU</td>\n",
       "      <td>B000URXP6E</td>\n",
       "      <td>Mindy Lipton</td>\n",
       "      <td>My daughter bought this for me because she kno...</td>\n",
       "      <td>1368230400</td>\n",
       "      <td>beauty</td>\n",
       "      <td>['Juicy burst of Starburst fruit flavored Lip ...</td>\n",
       "      <td>Bonne Bell Smackers Bath and Body Starburst Co...</td>\n",
       "      <td>Bonne Bell</td>\n",
       "    </tr>\n",
       "  </tbody>\n",
       "</table>\n",
       "</div>"
      ],
      "text/plain": [
       "   overall      reviewerID        asin  reviewerName  \\\n",
       "0      5.0  A31URN5S2Q0UJV  B000URXP6E   Boris Jones   \n",
       "1      5.0  A31XUJMEDBUGKR  B000URXP6E      Terry V.   \n",
       "2      5.0  A2XPTXCAX8WLHU  B000URXP6E  Mindy Lipton   \n",
       "\n",
       "                                          reviewText  unixReviewTime  \\\n",
       "0  Was skeptical at first. The liquid is kind of ...      1523059200   \n",
       "1  Beautiful Beginnings have been the answer to m...      1391472000   \n",
       "2  My daughter bought this for me because she kno...      1368230400   \n",
       "\n",
       "  category_x                                        description  \\\n",
       "0     beauty  ['Juicy burst of Starburst fruit flavored Lip ...   \n",
       "1     beauty  ['Juicy burst of Starburst fruit flavored Lip ...   \n",
       "2     beauty  ['Juicy burst of Starburst fruit flavored Lip ...   \n",
       "\n",
       "                                               title       brand  \n",
       "0  Bonne Bell Smackers Bath and Body Starburst Co...  Bonne Bell  \n",
       "1  Bonne Bell Smackers Bath and Body Starburst Co...  Bonne Bell  \n",
       "2  Bonne Bell Smackers Bath and Body Starburst Co...  Bonne Bell  "
      ]
     },
     "metadata": {},
     "output_type": "display_data"
    }
   ],
   "source": [
    "# remove certain columns\n",
    "amz_rev.drop(['verified', 'style', 'reviewTime', 'vote', 'feature', 'main_cat', 'date', 'summary', 'price', 'rank'], axis=1, inplace=True)\n",
    "\n",
    "# see updated dataframe\n",
    "display(amz_rev.head(3))"
   ]
  },
  {
   "cell_type": "code",
   "execution_count": 119,
   "metadata": {},
   "outputs": [
    {
     "data": {
      "text/html": [
       "<div>\n",
       "<style scoped>\n",
       "    .dataframe tbody tr th:only-of-type {\n",
       "        vertical-align: middle;\n",
       "    }\n",
       "\n",
       "    .dataframe tbody tr th {\n",
       "        vertical-align: top;\n",
       "    }\n",
       "\n",
       "    .dataframe thead th {\n",
       "        text-align: right;\n",
       "    }\n",
       "</style>\n",
       "<table border=\"1\" class=\"dataframe\">\n",
       "  <thead>\n",
       "    <tr style=\"text-align: right;\">\n",
       "      <th></th>\n",
       "      <th>reviewerID</th>\n",
       "      <th>reviewerName</th>\n",
       "      <th>unixReviewTime</th>\n",
       "      <th>asin</th>\n",
       "      <th>title</th>\n",
       "      <th>brand</th>\n",
       "      <th>description</th>\n",
       "      <th>reviewText</th>\n",
       "      <th>category_x</th>\n",
       "      <th>overall</th>\n",
       "    </tr>\n",
       "  </thead>\n",
       "  <tbody>\n",
       "    <tr>\n",
       "      <th>563599</th>\n",
       "      <td>A3WJELEV137U</td>\n",
       "      <td>John Bennett</td>\n",
       "      <td>1433462400</td>\n",
       "      <td>0001526863</td>\n",
       "      <td>Steve Green: Hide 'em in Your Heart: 13 Bible ...</td>\n",
       "      <td>Steve Green</td>\n",
       "      <td>[\"Steve Green: Hide 'em in Your Heart: 13 Bibl...</td>\n",
       "      <td>Product worked as advertised and am pleased wi...</td>\n",
       "      <td>movies_and_tv</td>\n",
       "      <td>5.0</td>\n",
       "    </tr>\n",
       "    <tr>\n",
       "      <th>539385</th>\n",
       "      <td>A2P64DWIPY4O2</td>\n",
       "      <td>Joycemarie58</td>\n",
       "      <td>1357430400</td>\n",
       "      <td>0005019281</td>\n",
       "      <td>An American Christmas Carol VHS</td>\n",
       "      <td>NaN</td>\n",
       "      <td>[\"In Depression-era New England, a miserly bus...</td>\n",
       "      <td>This is one of my favorites... I was very happ...</td>\n",
       "      <td>movies_and_tv</td>\n",
       "      <td>5.0</td>\n",
       "    </tr>\n",
       "    <tr>\n",
       "      <th>554411</th>\n",
       "      <td>ACER35NN2GG52</td>\n",
       "      <td>Jack2</td>\n",
       "      <td>1482710400</td>\n",
       "      <td>0005019281</td>\n",
       "      <td>An American Christmas Carol VHS</td>\n",
       "      <td>NaN</td>\n",
       "      <td>[\"In Depression-era New England, a miserly bus...</td>\n",
       "      <td>Interesting adaption of the scrooge story.</td>\n",
       "      <td>movies_and_tv</td>\n",
       "      <td>3.0</td>\n",
       "    </tr>\n",
       "  </tbody>\n",
       "</table>\n",
       "</div>"
      ],
      "text/plain": [
       "           reviewerID  reviewerName  unixReviewTime        asin  \\\n",
       "563599   A3WJELEV137U  John Bennett      1433462400  0001526863   \n",
       "539385  A2P64DWIPY4O2  Joycemarie58      1357430400  0005019281   \n",
       "554411  ACER35NN2GG52         Jack2      1482710400  0005019281   \n",
       "\n",
       "                                                    title        brand  \\\n",
       "563599  Steve Green: Hide 'em in Your Heart: 13 Bible ...  Steve Green   \n",
       "539385                    An American Christmas Carol VHS          NaN   \n",
       "554411                    An American Christmas Carol VHS          NaN   \n",
       "\n",
       "                                              description  \\\n",
       "563599  [\"Steve Green: Hide 'em in Your Heart: 13 Bibl...   \n",
       "539385  [\"In Depression-era New England, a miserly bus...   \n",
       "554411  [\"In Depression-era New England, a miserly bus...   \n",
       "\n",
       "                                               reviewText     category_x  \\\n",
       "563599  Product worked as advertised and am pleased wi...  movies_and_tv   \n",
       "539385  This is one of my favorites... I was very happ...  movies_and_tv   \n",
       "554411         Interesting adaption of the scrooge story.  movies_and_tv   \n",
       "\n",
       "        overall  \n",
       "563599      5.0  \n",
       "539385      5.0  \n",
       "554411      3.0  "
      ]
     },
     "metadata": {},
     "output_type": "display_data"
    }
   ],
   "source": [
    "# sort and order the data\n",
    "amz_rev.sort_values(by=['asin', 'overall'], ascending=[True, False], inplace=True)\n",
    "\n",
    "# reorder columns\n",
    "amz_rev = amz_rev[['reviewerID', 'reviewerName', 'unixReviewTime', 'asin', 'title', 'brand', 'description', 'reviewText', 'category_x', 'overall']]\n",
    "\n",
    "# see updated dataframe\n",
    "display(amz_rev.head(3))"
   ]
  },
  {
   "attachments": {},
   "cell_type": "markdown",
   "metadata": {},
   "source": [
    "## <a id='toc2_2_'></a>[NaN/Missing Values in the Data](#toc0_)\n",
    "\n",
    "We look at NaN values in the data. If any review (row) has missing values (NaN) in any column listed here:\n",
    "    - (description, title, brand, price, rank)\n",
    "then we remove that review (row) from the dataset. \n",
    "\n"
   ]
  },
  {
   "cell_type": "code",
   "execution_count": 120,
   "metadata": {},
   "outputs": [
    {
     "name": "stdout",
     "output_type": "stream",
     "text": [
      "Number of rows with all null values in columns: description, title, brand:  28168\n"
     ]
    },
    {
     "data": {
      "text/html": [
       "<div>\n",
       "<style scoped>\n",
       "    .dataframe tbody tr th:only-of-type {\n",
       "        vertical-align: middle;\n",
       "    }\n",
       "\n",
       "    .dataframe tbody tr th {\n",
       "        vertical-align: top;\n",
       "    }\n",
       "\n",
       "    .dataframe thead th {\n",
       "        text-align: right;\n",
       "    }\n",
       "</style>\n",
       "<table border=\"1\" class=\"dataframe\">\n",
       "  <thead>\n",
       "    <tr style=\"text-align: right;\">\n",
       "      <th></th>\n",
       "      <th>reviewerID</th>\n",
       "      <th>reviewerName</th>\n",
       "      <th>unixReviewTime</th>\n",
       "      <th>asin</th>\n",
       "      <th>title</th>\n",
       "      <th>brand</th>\n",
       "      <th>description</th>\n",
       "      <th>reviewText</th>\n",
       "      <th>category_x</th>\n",
       "      <th>overall</th>\n",
       "    </tr>\n",
       "  </thead>\n",
       "  <tbody>\n",
       "    <tr>\n",
       "      <th>128638</th>\n",
       "      <td>ACWMEEUINNGEP</td>\n",
       "      <td>Sean</td>\n",
       "      <td>1504656000</td>\n",
       "      <td>0209688726</td>\n",
       "      <td>NaN</td>\n",
       "      <td>NaN</td>\n",
       "      <td>NaN</td>\n",
       "      <td>Nifty little vac/pump, I absolutely love the f...</td>\n",
       "      <td>automotive</td>\n",
       "      <td>3.0</td>\n",
       "    </tr>\n",
       "    <tr>\n",
       "      <th>103788</th>\n",
       "      <td>A1NTV9VYC23VGY</td>\n",
       "      <td>Kindle Customer</td>\n",
       "      <td>1513555200</td>\n",
       "      <td>0449819906</td>\n",
       "      <td>NaN</td>\n",
       "      <td>NaN</td>\n",
       "      <td>NaN</td>\n",
       "      <td>So easy to understand, great fun learning new ...</td>\n",
       "      <td>arts_crafts</td>\n",
       "      <td>5.0</td>\n",
       "    </tr>\n",
       "    <tr>\n",
       "      <th>107475</th>\n",
       "      <td>A304F5HPIBLUX2</td>\n",
       "      <td>dkp</td>\n",
       "      <td>1434758400</td>\n",
       "      <td>048625531X</td>\n",
       "      <td>NaN</td>\n",
       "      <td>NaN</td>\n",
       "      <td>NaN</td>\n",
       "      <td>great for kids</td>\n",
       "      <td>arts_crafts</td>\n",
       "      <td>5.0</td>\n",
       "    </tr>\n",
       "  </tbody>\n",
       "</table>\n",
       "</div>"
      ],
      "text/plain": [
       "            reviewerID     reviewerName  unixReviewTime        asin title  \\\n",
       "128638   ACWMEEUINNGEP             Sean      1504656000  0209688726   NaN   \n",
       "103788  A1NTV9VYC23VGY  Kindle Customer      1513555200  0449819906   NaN   \n",
       "107475  A304F5HPIBLUX2              dkp      1434758400  048625531X   NaN   \n",
       "\n",
       "       brand description                                         reviewText  \\\n",
       "128638   NaN         NaN  Nifty little vac/pump, I absolutely love the f...   \n",
       "103788   NaN         NaN  So easy to understand, great fun learning new ...   \n",
       "107475   NaN         NaN                                     great for kids   \n",
       "\n",
       "         category_x  overall  \n",
       "128638   automotive      3.0  \n",
       "103788  arts_crafts      5.0  \n",
       "107475  arts_crafts      5.0  "
      ]
     },
     "metadata": {},
     "output_type": "display_data"
    },
    {
     "data": {
      "text/plain": [
       "category_x\n",
       "digital_music                 24646\n",
       "cds_and_vinyl                  2647\n",
       "arts_crafts                     105\n",
       "kindle_store                    103\n",
       "tools_and_home_improvement       97\n",
       "video_games                      71\n",
       "magazine_subscriptions           64\n",
       "sports_and_outdoors              48\n",
       "patio_lawn_and_garden            48\n",
       "toys_and_games                   40\n",
       "home_and_kitchen                 39\n",
       "industrial                       39\n",
       "luxury_beauty                    36\n",
       "automotive                       36\n",
       "movies_and_tv                    34\n",
       "office_products                  30\n",
       "pet_supplies                     24\n",
       "electronics                      23\n",
       "grocery_and_gourmet_food         19\n",
       "musical_instruments              10\n",
       "cell_phones                       4\n",
       "prime_pantry                      3\n",
       "appliances                        2\n",
       "dtype: int64"
      ]
     },
     "execution_count": 120,
     "metadata": {},
     "output_type": "execute_result"
    }
   ],
   "source": [
    "# how many rows have all null values in columns: description, title, brand\n",
    "print(\"Number of rows with all null values in columns: description, title, brand: \", amz_rev[(amz_rev['description'].isnull()) & (amz_rev['title'].isnull()) & (amz_rev['brand'].isnull())].shape[0])\n",
    "\n",
    "# see some of the rows with all null values in columns: description, title, brand, price, rank\n",
    "display(amz_rev[(amz_rev['description'].isnull()) & (amz_rev['title'].isnull()) & (amz_rev['brand'].isnull())].head(3))\n",
    "\n",
    "# which categories of reviews have the most null values in columns: description, title, brand, price, rank\n",
    "amz_rev[(amz_rev['description'].isnull()) & (amz_rev['title'].isnull()) & (amz_rev['brand'].isnull())].groupby(['category_x']).size().sort_values(ascending=False)"
   ]
  },
  {
   "cell_type": "code",
   "execution_count": 121,
   "metadata": {},
   "outputs": [
    {
     "data": {
      "text/html": [
       "<div>\n",
       "<style scoped>\n",
       "    .dataframe tbody tr th:only-of-type {\n",
       "        vertical-align: middle;\n",
       "    }\n",
       "\n",
       "    .dataframe tbody tr th {\n",
       "        vertical-align: top;\n",
       "    }\n",
       "\n",
       "    .dataframe thead th {\n",
       "        text-align: right;\n",
       "    }\n",
       "</style>\n",
       "<table border=\"1\" class=\"dataframe\">\n",
       "  <thead>\n",
       "    <tr style=\"text-align: right;\">\n",
       "      <th></th>\n",
       "      <th>reviewerID</th>\n",
       "      <th>reviewerName</th>\n",
       "      <th>unixReviewTime</th>\n",
       "      <th>asin</th>\n",
       "      <th>title</th>\n",
       "      <th>brand</th>\n",
       "      <th>description</th>\n",
       "      <th>reviewText</th>\n",
       "      <th>category_x</th>\n",
       "      <th>overall</th>\n",
       "    </tr>\n",
       "  </thead>\n",
       "  <tbody>\n",
       "    <tr>\n",
       "      <th>563599</th>\n",
       "      <td>A3WJELEV137U</td>\n",
       "      <td>John Bennett</td>\n",
       "      <td>1433462400</td>\n",
       "      <td>0001526863</td>\n",
       "      <td>Steve Green: Hide 'em in Your Heart: 13 Bible ...</td>\n",
       "      <td>Steve Green</td>\n",
       "      <td>[\"Steve Green: Hide 'em in Your Heart: 13 Bibl...</td>\n",
       "      <td>Product worked as advertised and am pleased wi...</td>\n",
       "      <td>movies_and_tv</td>\n",
       "      <td>5.0</td>\n",
       "    </tr>\n",
       "    <tr>\n",
       "      <th>539385</th>\n",
       "      <td>A2P64DWIPY4O2</td>\n",
       "      <td>Joycemarie58</td>\n",
       "      <td>1357430400</td>\n",
       "      <td>0005019281</td>\n",
       "      <td>An American Christmas Carol VHS</td>\n",
       "      <td>NaN</td>\n",
       "      <td>[\"In Depression-era New England, a miserly bus...</td>\n",
       "      <td>This is one of my favorites... I was very happ...</td>\n",
       "      <td>movies_and_tv</td>\n",
       "      <td>5.0</td>\n",
       "    </tr>\n",
       "    <tr>\n",
       "      <th>554411</th>\n",
       "      <td>ACER35NN2GG52</td>\n",
       "      <td>Jack2</td>\n",
       "      <td>1482710400</td>\n",
       "      <td>0005019281</td>\n",
       "      <td>An American Christmas Carol VHS</td>\n",
       "      <td>NaN</td>\n",
       "      <td>[\"In Depression-era New England, a miserly bus...</td>\n",
       "      <td>Interesting adaption of the scrooge story.</td>\n",
       "      <td>movies_and_tv</td>\n",
       "      <td>3.0</td>\n",
       "    </tr>\n",
       "  </tbody>\n",
       "</table>\n",
       "</div>"
      ],
      "text/plain": [
       "           reviewerID  reviewerName  unixReviewTime        asin  \\\n",
       "563599   A3WJELEV137U  John Bennett      1433462400  0001526863   \n",
       "539385  A2P64DWIPY4O2  Joycemarie58      1357430400  0005019281   \n",
       "554411  ACER35NN2GG52         Jack2      1482710400  0005019281   \n",
       "\n",
       "                                                    title        brand  \\\n",
       "563599  Steve Green: Hide 'em in Your Heart: 13 Bible ...  Steve Green   \n",
       "539385                    An American Christmas Carol VHS          NaN   \n",
       "554411                    An American Christmas Carol VHS          NaN   \n",
       "\n",
       "                                              description  \\\n",
       "563599  [\"Steve Green: Hide 'em in Your Heart: 13 Bibl...   \n",
       "539385  [\"In Depression-era New England, a miserly bus...   \n",
       "554411  [\"In Depression-era New England, a miserly bus...   \n",
       "\n",
       "                                               reviewText     category_x  \\\n",
       "563599  Product worked as advertised and am pleased wi...  movies_and_tv   \n",
       "539385  This is one of my favorites... I was very happ...  movies_and_tv   \n",
       "554411         Interesting adaption of the scrooge story.  movies_and_tv   \n",
       "\n",
       "        overall  \n",
       "563599      5.0  \n",
       "539385      5.0  \n",
       "554411      3.0  "
      ]
     },
     "metadata": {},
     "output_type": "display_data"
    },
    {
     "data": {
      "text/plain": [
       "musical_instruments           31134\n",
       "office_products               28545\n",
       "video_games                   28525\n",
       "movies_and_tv                 28218\n",
       "pet_supplies                  27795\n",
       "cds_and_vinyl                 27114\n",
       "tools_and_home_improvement    26672\n",
       "industrial                    26495\n",
       "home_and_kitchen              26237\n",
       "electronics                   26197\n",
       "luxury_beauty                 26098\n",
       "patio_lawn_and_garden         26072\n",
       "automotive                    25908\n",
       "toys_and_games                25806\n",
       "grocery_and_gourmet_food      25481\n",
       "clothing_shoes_and_jewelry    25383\n",
       "sports_and_outdoors           25323\n",
       "arts_crafts                   25287\n",
       "cell_phones                   25011\n",
       "prime_pantry                  24997\n",
       "kindle_store                  24897\n",
       "software                      14103\n",
       "beauty                         5767\n",
       "magazine_subscriptions         3746\n",
       "fashion                        3176\n",
       "gift_cards                     2972\n",
       "appliances                     2281\n",
       "digital_music                   362\n",
       "Name: category_x, dtype: int64"
      ]
     },
     "execution_count": 121,
     "metadata": {},
     "output_type": "execute_result"
    }
   ],
   "source": [
    "# remove rows with all null values in columns: description, title, brand\n",
    "amz_rev = amz_rev[~((amz_rev['description'].isnull()) & (amz_rev['title'].isnull()) & (amz_rev['brand'].isnull()))]\n",
    "\n",
    "# see updated dataframe\n",
    "display(amz_rev.head(3))\n",
    "\n",
    "# see value counts for column: category_x\n",
    "amz_rev['category_x'].value_counts()"
   ]
  },
  {
   "cell_type": "code",
   "execution_count": 122,
   "metadata": {},
   "outputs": [],
   "source": [
    "# remove rows with null values in column: description\n",
    "amz_rev = amz_rev[~(amz_rev['description'].isnull())]\n",
    "\n",
    "# remove rows with null values in column: reviewText\n",
    "amz_rev = amz_rev[~(amz_rev['reviewText'].isnull())]\n",
    "\n",
    "# remove rows with null values in column: title\n",
    "amz_rev = amz_rev[~(amz_rev['title'].isnull())]\n",
    "\n",
    "# remove rows with null values in column: brand\n",
    "amz_rev = amz_rev[~(amz_rev['brand'].isnull())]"
   ]
  },
  {
   "cell_type": "code",
   "execution_count": 123,
   "metadata": {},
   "outputs": [
    {
     "name": "stdout",
     "output_type": "stream",
     "text": [
      "Shape of the data:  (538515, 10)\n",
      "\n",
      "Number of missing values:  101\n",
      "\\Percentage of missing values in each column: \n",
      " reviewerID        0.00\n",
      "reviewerName      0.02\n",
      "unixReviewTime    0.00\n",
      "asin              0.00\n",
      "title             0.00\n",
      "brand             0.00\n",
      "description       0.00\n",
      "reviewText        0.00\n",
      "category_x        0.00\n",
      "overall           0.00\n",
      "dtype: float64\n",
      "\\Percentage of missing values in each category: \n",
      " category_x\n",
      "appliances                    0.0\n",
      "arts_crafts                   0.0\n",
      "automotive                    0.0\n",
      "beauty                        0.0\n",
      "cds_and_vinyl                 0.0\n",
      "cell_phones                   0.0\n",
      "clothing_shoes_and_jewelry    0.0\n",
      "digital_music                 0.0\n",
      "electronics                   0.0\n",
      "fashion                       0.0\n",
      "gift_cards                    0.0\n",
      "grocery_and_gourmet_food      0.0\n",
      "home_and_kitchen              0.0\n",
      "industrial                    0.0\n",
      "kindle_store                  0.0\n",
      "luxury_beauty                 0.0\n",
      "magazine_subscriptions        0.0\n",
      "movies_and_tv                 0.0\n",
      "musical_instruments           0.0\n",
      "office_products               0.0\n",
      "patio_lawn_and_garden         0.0\n",
      "pet_supplies                  0.0\n",
      "prime_pantry                  0.0\n",
      "software                      0.0\n",
      "sports_and_outdoors           0.0\n",
      "tools_and_home_improvement    0.0\n",
      "toys_and_games                0.0\n",
      "video_games                   0.0\n",
      "dtype: float64\n"
     ]
    }
   ],
   "source": [
    "# shape of the data\n",
    "print(\"Shape of the data: \", amz_rev.shape)\n",
    "\n",
    "# see if any missing values\n",
    "print(\"\\nNumber of missing values: \", amz_rev.isnull().sum().sum())\n",
    "\n",
    "# show count columns have missing values (as a percentage)\n",
    "print(\"\\Percentage of missing values in each column: \\n\", round(amz_rev.isnull().sum()/len(amz_rev)*100,2))\n",
    "\n",
    "# show count of rows with missing data per category (as a percentage)\n",
    "print(\"\\Percentage of missing values in each category: \\n\", round(amz_rev.groupby(['category_x']).apply(lambda x: x.isnull().sum()).sum(axis=1)/len(amz_rev)*100,2))"
   ]
  },
  {
   "attachments": {},
   "cell_type": "markdown",
   "metadata": {},
   "source": [
    "## <a id='toc2_3_'></a>[Duplicates in the Data](#toc0_)\n",
    "\n",
    "We looking at duplicates in the data.\n",
    "\n",
    "A duplicate is defined as a review (row) that has the same values across all columns. We remove duplicates from the dataset."
   ]
  },
  {
   "cell_type": "code",
   "execution_count": 124,
   "metadata": {},
   "outputs": [
    {
     "name": "stdout",
     "output_type": "stream",
     "text": [
      "Number of duplicates:  42257\n"
     ]
    },
    {
     "data": {
      "text/html": [
       "<div>\n",
       "<style scoped>\n",
       "    .dataframe tbody tr th:only-of-type {\n",
       "        vertical-align: middle;\n",
       "    }\n",
       "\n",
       "    .dataframe tbody tr th {\n",
       "        vertical-align: top;\n",
       "    }\n",
       "\n",
       "    .dataframe thead th {\n",
       "        text-align: right;\n",
       "    }\n",
       "</style>\n",
       "<table border=\"1\" class=\"dataframe\">\n",
       "  <thead>\n",
       "    <tr style=\"text-align: right;\">\n",
       "      <th></th>\n",
       "      <th>reviewerID</th>\n",
       "      <th>reviewerName</th>\n",
       "      <th>unixReviewTime</th>\n",
       "      <th>asin</th>\n",
       "      <th>title</th>\n",
       "      <th>brand</th>\n",
       "      <th>description</th>\n",
       "      <th>reviewText</th>\n",
       "      <th>category_x</th>\n",
       "      <th>overall</th>\n",
       "    </tr>\n",
       "  </thead>\n",
       "  <tbody>\n",
       "    <tr>\n",
       "      <th>142104</th>\n",
       "      <td>A1LICUG9QWBN4N</td>\n",
       "      <td>M. L. Johnson</td>\n",
       "      <td>1185667200</td>\n",
       "      <td>B000000J04</td>\n",
       "      <td>Ray Gun Suitcase</td>\n",
       "      <td>Pere Ubu</td>\n",
       "      <td>[]</td>\n",
       "      <td>After tinkering with a more (supposedly) comme...</td>\n",
       "      <td>cds_and_vinyl</td>\n",
       "      <td>5.0</td>\n",
       "    </tr>\n",
       "    <tr>\n",
       "      <th>150133</th>\n",
       "      <td>A1LICUG9QWBN4N</td>\n",
       "      <td>M. L. Johnson</td>\n",
       "      <td>1185667200</td>\n",
       "      <td>B000000J04</td>\n",
       "      <td>Ray Gun Suitcase</td>\n",
       "      <td>Pere Ubu</td>\n",
       "      <td>[]</td>\n",
       "      <td>After tinkering with a more (supposedly) comme...</td>\n",
       "      <td>cds_and_vinyl</td>\n",
       "      <td>5.0</td>\n",
       "    </tr>\n",
       "    <tr>\n",
       "      <th>140859</th>\n",
       "      <td>A1LO9CD1U3DSO8</td>\n",
       "      <td>Pancake</td>\n",
       "      <td>1359936000</td>\n",
       "      <td>B00000I8A3</td>\n",
       "      <td>Singin' in the Bathtub</td>\n",
       "      <td>John Lithgow</td>\n",
       "      <td>['CD']</td>\n",
       "      <td>My kids love this.  Its quite entertaining for...</td>\n",
       "      <td>cds_and_vinyl</td>\n",
       "      <td>5.0</td>\n",
       "    </tr>\n",
       "  </tbody>\n",
       "</table>\n",
       "</div>"
      ],
      "text/plain": [
       "            reviewerID   reviewerName  unixReviewTime        asin  \\\n",
       "142104  A1LICUG9QWBN4N  M. L. Johnson      1185667200  B000000J04   \n",
       "150133  A1LICUG9QWBN4N  M. L. Johnson      1185667200  B000000J04   \n",
       "140859  A1LO9CD1U3DSO8        Pancake      1359936000  B00000I8A3   \n",
       "\n",
       "                         title         brand description  \\\n",
       "142104        Ray Gun Suitcase      Pere Ubu          []   \n",
       "150133        Ray Gun Suitcase      Pere Ubu          []   \n",
       "140859  Singin' in the Bathtub  John Lithgow      ['CD']   \n",
       "\n",
       "                                               reviewText     category_x  \\\n",
       "142104  After tinkering with a more (supposedly) comme...  cds_and_vinyl   \n",
       "150133  After tinkering with a more (supposedly) comme...  cds_and_vinyl   \n",
       "140859  My kids love this.  Its quite entertaining for...  cds_and_vinyl   \n",
       "\n",
       "        overall  \n",
       "142104      5.0  \n",
       "150133      5.0  \n",
       "140859      5.0  "
      ]
     },
     "execution_count": 124,
     "metadata": {},
     "output_type": "execute_result"
    }
   ],
   "source": [
    "# see if any duplicates\n",
    "print(\"Number of duplicates: \", amz_rev.duplicated().sum())\n",
    "\n",
    "# see duplicates\n",
    "amz_rev[amz_rev.duplicated(keep=False)].sort_values(by=['asin']).head(3)"
   ]
  },
  {
   "cell_type": "code",
   "execution_count": 125,
   "metadata": {},
   "outputs": [
    {
     "data": {
      "text/html": [
       "<div>\n",
       "<style scoped>\n",
       "    .dataframe tbody tr th:only-of-type {\n",
       "        vertical-align: middle;\n",
       "    }\n",
       "\n",
       "    .dataframe tbody tr th {\n",
       "        vertical-align: top;\n",
       "    }\n",
       "\n",
       "    .dataframe thead th {\n",
       "        text-align: right;\n",
       "    }\n",
       "</style>\n",
       "<table border=\"1\" class=\"dataframe\">\n",
       "  <thead>\n",
       "    <tr style=\"text-align: right;\">\n",
       "      <th></th>\n",
       "      <th>reviewerID</th>\n",
       "      <th>reviewerName</th>\n",
       "      <th>unixReviewTime</th>\n",
       "      <th>asin</th>\n",
       "      <th>title</th>\n",
       "      <th>brand</th>\n",
       "      <th>description</th>\n",
       "      <th>reviewText</th>\n",
       "      <th>category_x</th>\n",
       "      <th>overall</th>\n",
       "    </tr>\n",
       "  </thead>\n",
       "  <tbody>\n",
       "    <tr>\n",
       "      <th>563599</th>\n",
       "      <td>A3WJELEV137U</td>\n",
       "      <td>John Bennett</td>\n",
       "      <td>1433462400</td>\n",
       "      <td>0001526863</td>\n",
       "      <td>Steve Green: Hide 'em in Your Heart: 13 Bible ...</td>\n",
       "      <td>Steve Green</td>\n",
       "      <td>[\"Steve Green: Hide 'em in Your Heart: 13 Bibl...</td>\n",
       "      <td>Product worked as advertised and am pleased wi...</td>\n",
       "      <td>movies_and_tv</td>\n",
       "      <td>5.0</td>\n",
       "    </tr>\n",
       "    <tr>\n",
       "      <th>162328</th>\n",
       "      <td>A3OJM6TXMK3J53</td>\n",
       "      <td>samson</td>\n",
       "      <td>1449273600</td>\n",
       "      <td>0005164885</td>\n",
       "      <td>Christmas Eve and Other Stories</td>\n",
       "      <td>Trans-Siberian Orchestra</td>\n",
       "      <td>['This is a concept album all the way, with ta...</td>\n",
       "      <td>nice to hear this cd  beautiful</td>\n",
       "      <td>cds_and_vinyl</td>\n",
       "      <td>5.0</td>\n",
       "    </tr>\n",
       "    <tr>\n",
       "      <th>147642</th>\n",
       "      <td>A14YR7QK3ASFFW</td>\n",
       "      <td>Amazon Customer</td>\n",
       "      <td>988070400</td>\n",
       "      <td>0005465079</td>\n",
       "      <td>Forgiven</td>\n",
       "      <td>Don Francisco</td>\n",
       "      <td>[\"1. Jesus Lord Of The Way I Feel, 2. Jehoshap...</td>\n",
       "      <td>That one song has to be one of the best in CCM...</td>\n",
       "      <td>cds_and_vinyl</td>\n",
       "      <td>5.0</td>\n",
       "    </tr>\n",
       "  </tbody>\n",
       "</table>\n",
       "</div>"
      ],
      "text/plain": [
       "            reviewerID     reviewerName  unixReviewTime        asin  \\\n",
       "563599    A3WJELEV137U     John Bennett      1433462400  0001526863   \n",
       "162328  A3OJM6TXMK3J53           samson      1449273600  0005164885   \n",
       "147642  A14YR7QK3ASFFW  Amazon Customer       988070400  0005465079   \n",
       "\n",
       "                                                    title  \\\n",
       "563599  Steve Green: Hide 'em in Your Heart: 13 Bible ...   \n",
       "162328                    Christmas Eve and Other Stories   \n",
       "147642                                           Forgiven   \n",
       "\n",
       "                           brand  \\\n",
       "563599               Steve Green   \n",
       "162328  Trans-Siberian Orchestra   \n",
       "147642             Don Francisco   \n",
       "\n",
       "                                              description  \\\n",
       "563599  [\"Steve Green: Hide 'em in Your Heart: 13 Bibl...   \n",
       "162328  ['This is a concept album all the way, with ta...   \n",
       "147642  [\"1. Jesus Lord Of The Way I Feel, 2. Jehoshap...   \n",
       "\n",
       "                                               reviewText     category_x  \\\n",
       "563599  Product worked as advertised and am pleased wi...  movies_and_tv   \n",
       "162328                    nice to hear this cd  beautiful  cds_and_vinyl   \n",
       "147642  That one song has to be one of the best in CCM...  cds_and_vinyl   \n",
       "\n",
       "        overall  \n",
       "563599      5.0  \n",
       "162328      5.0  \n",
       "147642      5.0  "
      ]
     },
     "metadata": {},
     "output_type": "display_data"
    },
    {
     "name": "stdout",
     "output_type": "stream",
     "text": [
      "Shape of the data:  (496258, 10)\n"
     ]
    }
   ],
   "source": [
    "# remove duplicates\n",
    "amz_rev.drop_duplicates(inplace=True)\n",
    "\n",
    "# see updated dataframe\n",
    "display(amz_rev.head(3))\n",
    "\n",
    "# shape of the data\n",
    "print(\"Shape of the data: \", amz_rev.shape)"
   ]
  },
  {
   "attachments": {},
   "cell_type": "markdown",
   "metadata": {},
   "source": [
    "## <a id='toc2_4_'></a>[Outliers in the Data](#toc0_)\n",
    "\n",
    "We looking at outliers in the data."
   ]
  },
  {
   "cell_type": "code",
   "execution_count": 126,
   "metadata": {},
   "outputs": [
    {
     "data": {
      "text/plain": [
       "count    496258.000000\n",
       "mean          4.383577\n",
       "std           1.086635\n",
       "min           1.000000\n",
       "25%           4.000000\n",
       "50%           5.000000\n",
       "75%           5.000000\n",
       "max           5.000000\n",
       "Name: overall, dtype: float64"
      ]
     },
     "execution_count": 126,
     "metadata": {},
     "output_type": "execute_result"
    }
   ],
   "source": [
    "# get summary statistics for the data - overall\n",
    "amz_rev['overall'].describe()"
   ]
  },
  {
   "attachments": {},
   "cell_type": "markdown",
   "metadata": {},
   "source": [
    "## <a id='toc2_5_'></a>[Standardizing and Checking Data Types](#toc0_)\n",
    "\n",
    "We turn to standardizing and checking data types. "
   ]
  },
  {
   "cell_type": "code",
   "execution_count": 127,
   "metadata": {},
   "outputs": [
    {
     "data": {
      "text/html": [
       "<div>\n",
       "<style scoped>\n",
       "    .dataframe tbody tr th:only-of-type {\n",
       "        vertical-align: middle;\n",
       "    }\n",
       "\n",
       "    .dataframe tbody tr th {\n",
       "        vertical-align: top;\n",
       "    }\n",
       "\n",
       "    .dataframe thead th {\n",
       "        text-align: right;\n",
       "    }\n",
       "</style>\n",
       "<table border=\"1\" class=\"dataframe\">\n",
       "  <thead>\n",
       "    <tr style=\"text-align: right;\">\n",
       "      <th></th>\n",
       "      <th>reviewerID</th>\n",
       "      <th>reviewerName</th>\n",
       "      <th>reviewTime</th>\n",
       "      <th>asin</th>\n",
       "      <th>title</th>\n",
       "      <th>brand</th>\n",
       "      <th>description</th>\n",
       "      <th>reviewText</th>\n",
       "      <th>category_x</th>\n",
       "      <th>overall</th>\n",
       "    </tr>\n",
       "  </thead>\n",
       "  <tbody>\n",
       "    <tr>\n",
       "      <th>563599</th>\n",
       "      <td>A3WJELEV137U</td>\n",
       "      <td>John Bennett</td>\n",
       "      <td>2015-06-05</td>\n",
       "      <td>0001526863</td>\n",
       "      <td>Steve Green: Hide 'em in Your Heart: 13 Bible ...</td>\n",
       "      <td>Steve Green</td>\n",
       "      <td>[\"Steve Green: Hide 'em in Your Heart: 13 Bibl...</td>\n",
       "      <td>Product worked as advertised and am pleased wi...</td>\n",
       "      <td>movies_and_tv</td>\n",
       "      <td>5.0</td>\n",
       "    </tr>\n",
       "    <tr>\n",
       "      <th>162328</th>\n",
       "      <td>A3OJM6TXMK3J53</td>\n",
       "      <td>samson</td>\n",
       "      <td>2015-12-05</td>\n",
       "      <td>0005164885</td>\n",
       "      <td>Christmas Eve and Other Stories</td>\n",
       "      <td>Trans-Siberian Orchestra</td>\n",
       "      <td>['This is a concept album all the way, with ta...</td>\n",
       "      <td>nice to hear this cd  beautiful</td>\n",
       "      <td>cds_and_vinyl</td>\n",
       "      <td>5.0</td>\n",
       "    </tr>\n",
       "    <tr>\n",
       "      <th>147642</th>\n",
       "      <td>A14YR7QK3ASFFW</td>\n",
       "      <td>Amazon Customer</td>\n",
       "      <td>2001-04-24</td>\n",
       "      <td>0005465079</td>\n",
       "      <td>Forgiven</td>\n",
       "      <td>Don Francisco</td>\n",
       "      <td>[\"1. Jesus Lord Of The Way I Feel, 2. Jehoshap...</td>\n",
       "      <td>That one song has to be one of the best in CCM...</td>\n",
       "      <td>cds_and_vinyl</td>\n",
       "      <td>5.0</td>\n",
       "    </tr>\n",
       "  </tbody>\n",
       "</table>\n",
       "</div>"
      ],
      "text/plain": [
       "            reviewerID     reviewerName reviewTime        asin  \\\n",
       "563599    A3WJELEV137U     John Bennett 2015-06-05  0001526863   \n",
       "162328  A3OJM6TXMK3J53           samson 2015-12-05  0005164885   \n",
       "147642  A14YR7QK3ASFFW  Amazon Customer 2001-04-24  0005465079   \n",
       "\n",
       "                                                    title  \\\n",
       "563599  Steve Green: Hide 'em in Your Heart: 13 Bible ...   \n",
       "162328                    Christmas Eve and Other Stories   \n",
       "147642                                           Forgiven   \n",
       "\n",
       "                           brand  \\\n",
       "563599               Steve Green   \n",
       "162328  Trans-Siberian Orchestra   \n",
       "147642             Don Francisco   \n",
       "\n",
       "                                              description  \\\n",
       "563599  [\"Steve Green: Hide 'em in Your Heart: 13 Bibl...   \n",
       "162328  ['This is a concept album all the way, with ta...   \n",
       "147642  [\"1. Jesus Lord Of The Way I Feel, 2. Jehoshap...   \n",
       "\n",
       "                                               reviewText     category_x  \\\n",
       "563599  Product worked as advertised and am pleased wi...  movies_and_tv   \n",
       "162328                    nice to hear this cd  beautiful  cds_and_vinyl   \n",
       "147642  That one song has to be one of the best in CCM...  cds_and_vinyl   \n",
       "\n",
       "        overall  \n",
       "563599      5.0  \n",
       "162328      5.0  \n",
       "147642      5.0  "
      ]
     },
     "metadata": {},
     "output_type": "display_data"
    }
   ],
   "source": [
    "# change unixReviewTime to datetime\n",
    "amz_rev['unixReviewTime'] = pd.to_datetime(amz_rev['unixReviewTime'], unit='s')\n",
    "\n",
    "# rename column: unixReviewTime to reviewTime\n",
    "amz_rev.rename(columns={'unixReviewTime': 'reviewTime'}, inplace=True)\n",
    "\n",
    "# see updated dataframe\n",
    "display(amz_rev.head(3))"
   ]
  },
  {
   "cell_type": "code",
   "execution_count": 128,
   "metadata": {},
   "outputs": [
    {
     "data": {
      "text/plain": [
       "reviewerID              object\n",
       "reviewerName            object\n",
       "reviewTime      datetime64[ns]\n",
       "asin                    object\n",
       "title                   object\n",
       "brand                   object\n",
       "description             object\n",
       "reviewText              object\n",
       "category_x              object\n",
       "overall                float64\n",
       "dtype: object"
      ]
     },
     "execution_count": 128,
     "metadata": {},
     "output_type": "execute_result"
    }
   ],
   "source": [
    "# check data types\n",
    "amz_rev.dtypes"
   ]
  },
  {
   "attachments": {},
   "cell_type": "markdown",
   "metadata": {},
   "source": [
    "## <a id='toc2_6_'></a>[Dealing with Text Data](#toc0_)\n",
    "\n",
    "We deal with text data. We have the following columns that contain text data:\n",
    "- description\n",
    "- title\n",
    "- brand\n",
    "- category\n",
    "- reviewText\n",
    "\n",
    "\n",
    "We handle each of these columns separately. We look out for: \n",
    "\n",
    "**Identify special characters or symbols**: Look for any special characters, symbols, or non-alphanumeric characters that may need to be cleaned or removed. These characters can sometimes interfere with downstream analysis or modeling.\n",
    "\n",
    "**Handle HTML tags or formatting**: If the 'description' column contains HTML tags or formatting, you may consider removing them or converting them into plain text"
   ]
  },
  {
   "attachments": {},
   "cell_type": "markdown",
   "metadata": {},
   "source": [
    "### Description"
   ]
  },
  {
   "cell_type": "code",
   "execution_count": 129,
   "metadata": {},
   "outputs": [
    {
     "name": "stdout",
     "output_type": "stream",
     "text": [
      "Before cleaning: ['Juicy burst of Starburst fruit flavored Lip Smacker lip glosses. Smooth formula glides on lips for moisture and juicy flavor that lasts. Fun lip smacker flavors in limited collection  are offered every year, especially during holidays.', '', '']\n",
      "\n",
      "After cleaning: juicy burst of starburst fruit flavored lip smacker lip glosses. smooth formula glides on lips for moisture and juicy flavor that lasts. fun lip smacker flavors in limited collection are offered every year especially during holidays\n"
     ]
    }
   ],
   "source": [
    "# description column\n",
    "print(\"Before cleaning:\", amz_rev['description'][0])\n",
    "\n",
    "# create function to clean description column\n",
    "def clean_description(text):\n",
    "    # Remove square brackets, single quotes, HTML tags, double quotes, commas, URLs, and CSS styling\n",
    "    text = re.sub(r\"\\[|\\]|\\'|<[^>]*>|\\\"|,|\\\\https?://[^\\s]+|{[^}]+}\", \"\", text)\n",
    "    \n",
    "    # Remove extra whitespace\n",
    "    text = \" \".join(text.split())\n",
    "    \n",
    "    # Remove trailing punctuation\n",
    "    text = re.sub(r\"\\.$\", \"\", text)\n",
    "    \n",
    "    # Convert to lowercase\n",
    "    text = text.lower()\n",
    "    \n",
    "    return text\n",
    "\n",
    "# apply function to description column\n",
    "amz_rev['description'] = amz_rev['description'].apply(clean_description)\n",
    "\n",
    "# see updated dataframe\n",
    "print(\"\\nAfter cleaning:\", amz_rev['description'][0])\n",
    "\n"
   ]
  },
  {
   "cell_type": "code",
   "execution_count": 130,
   "metadata": {},
   "outputs": [
    {
     "name": "stdout",
     "output_type": "stream",
     "text": [
      "Number records with \"http\" in description: 0\n"
     ]
    }
   ],
   "source": [
    "# see which products have \"http\" in their description\n",
    "amz_rev[amz_rev['description'].str.contains(\"http\")]['asin'].unique().size\n",
    "\n",
    "# see this\n",
    "amz_rev[amz_rev['description'].str.contains(\"http\")]['description']\n",
    "\n",
    "# remove everything from \"htpp\" to \".com\" from the description\n",
    "amz_rev['description'] = amz_rev['description'].str.replace(\"http.*.com\", \"\")\n",
    "amz_rev['description'] = amz_rev['description'].str.replace(\"http.*.html\", \"\")\n",
    "\n",
    "# remove everything from \"www\" to \".com\" from the description\n",
    "amz_rev['description'] = amz_rev['description'].str.replace(\"www.*.com\", \"\")\n",
    "\n",
    "# remove \"http*\" from the description\n",
    "amz_rev['description'] = amz_rev['description'].str.replace(\"http.*\", \"\")\n",
    "\n",
    "# count of records with \"http\" in the description\n",
    "print(\"Number records with \\\"http\\\" in description:\", amz_rev[amz_rev['description'].str.contains(\"http\")]['asin'].unique().size)"
   ]
  },
  {
   "cell_type": "code",
   "execution_count": 131,
   "metadata": {},
   "outputs": [],
   "source": [
    "# remove \"&nbsp;\" from the description\n",
    "amz_rev['description'] = amz_rev['description'].str.replace(\"&nbsp\", \"\")"
   ]
  },
  {
   "cell_type": "code",
   "execution_count": 132,
   "metadata": {},
   "outputs": [],
   "source": [
    "# identify rows with html tags in the description\n",
    "amz_rev[amz_rev['description'].str.contains(\"<[^>]*>\")]['asin'].unique().size\n",
    "\n",
    "# identify rows with special characters in the description\n",
    "amz_rev[amz_rev['description'].str.contains(\"[^a-zA-Z0-9\\s]\")]\n",
    "\n",
    "# remove special characters from the description\n",
    "amz_rev['description'] = amz_rev['description'].str.replace(\"[^a-zA-Z0-9\\s]\", \"\")\n"
   ]
  },
  {
   "cell_type": "code",
   "execution_count": 133,
   "metadata": {},
   "outputs": [
    {
     "data": {
      "text/plain": [
       "741.5782999971789"
      ]
     },
     "execution_count": 133,
     "metadata": {},
     "output_type": "execute_result"
    }
   ],
   "source": [
    "# average length of description\n",
    "amz_rev['description'].str.len().mean()"
   ]
  },
  {
   "attachments": {},
   "cell_type": "markdown",
   "metadata": {},
   "source": [
    "We are here, finding the mean of the lengths of each individual description in terms of the number of characters."
   ]
  },
  {
   "attachments": {},
   "cell_type": "markdown",
   "metadata": {},
   "source": [
    "### Title"
   ]
  },
  {
   "cell_type": "code",
   "execution_count": 134,
   "metadata": {},
   "outputs": [
    {
     "data": {
      "text/plain": [
       "563599    steve green: hide em in your heart: 13 bible m...\n",
       "162328                      christmas eve and other stories\n",
       "147642                                             forgiven\n",
       "550234                     santa claus is comin to town vhs\n",
       "552729                     santa claus is comin to town vhs\n",
       "                                ...                        \n",
       "88735     60 glitter gel pens for adult coloring books a...\n",
       "176940    deego nylon micro cable-002 chefzbest screen p...\n",
       "256258    vantrue upgraded n1 small dash cam full hd 108...\n",
       "446622    poison kisses 2: my best kept secret - kindle ...\n",
       "248118    jricoo nylon braided 2.0 micro usb charging ca...\n",
       "Name: title, Length: 496258, dtype: object"
      ]
     },
     "execution_count": 134,
     "metadata": {},
     "output_type": "execute_result"
    }
   ],
   "source": [
    "# see titles\n",
    "amz_rev['title']\n",
    "\n",
    "# create function to clean title column\n",
    "def clean_title(text):\n",
    "    # Remove square brackets, single quotes, HTML tags, double quotes, commas, URLs, and CSS styling\n",
    "    text = re.sub(r\"\\[|\\]|\\'|<[^>]*>|\\\"|,|\\\\https?://[^\\s]+|{[^}]+}\", \"\", text)\n",
    "    \n",
    "    # Remove extra whitespace\n",
    "    text = \" \".join(text.split())\n",
    "    \n",
    "    # Remove trailing punctuation\n",
    "    text = re.sub(r\"\\.$\", \"\", text)\n",
    "    \n",
    "    # Convert to lowercase\n",
    "    text = text.lower()\n",
    "    \n",
    "    return text\n",
    "\n",
    "# apply function to title column\n",
    "amz_rev['title'] = amz_rev['title'].apply(clean_title)\n",
    "\n",
    "# see updated dataframe\n",
    "amz_rev['title']\n"
   ]
  },
  {
   "cell_type": "code",
   "execution_count": 135,
   "metadata": {},
   "outputs": [
    {
     "name": "stdout",
     "output_type": "stream",
     "text": [
      "Number records with special character in title: 0\n"
     ]
    }
   ],
   "source": [
    "# check any special characters in title\n",
    "amz_rev[amz_rev['title'].str.contains(\"[^a-zA-Z0-9\\s]\")]\n",
    "\n",
    "# replace special characters in title\n",
    "amz_rev['title'] = amz_rev['title'].str.replace(\"[^a-zA-Z0-9\\s]\", \"\")\n",
    "\n",
    "# count of records with special character in the title\n",
    "print(\"Number records with special character in title:\", amz_rev[amz_rev['title'].str.contains(\"[^a-zA-Z0-9\\s]\")]['asin'].unique().size)\n"
   ]
  },
  {
   "attachments": {},
   "cell_type": "markdown",
   "metadata": {},
   "source": [
    "### Brand"
   ]
  },
  {
   "cell_type": "code",
   "execution_count": 136,
   "metadata": {},
   "outputs": [
    {
     "data": {
      "text/plain": [
       "563599                     steve green\n",
       "162328        trans-siberian orchestra\n",
       "147642                   don francisco\n",
       "550234                    fred astaire\n",
       "552729                    fred astaire\n",
       "                      ...             \n",
       "88735                        pita-maci\n",
       "176940                           deego\n",
       "256258                         vantrue\n",
       "446622    visit amazons kia meche page\n",
       "248118                          jricoo\n",
       "Name: brand, Length: 496258, dtype: object"
      ]
     },
     "execution_count": 136,
     "metadata": {},
     "output_type": "execute_result"
    }
   ],
   "source": [
    "# see brand\n",
    "amz_rev['brand']\n",
    "\n",
    "# create function to clean brand column\n",
    "def clean_brand(text):\n",
    "    # Remove square brackets, single quotes, HTML tags, double quotes, commas, URLs, and CSS styling\n",
    "    text = re.sub(r\"\\[|\\]|\\'|<[^>]*>|\\\"|,|\\\\https?://[^\\s]+|{[^}]+}\", \"\", text)\n",
    "    \n",
    "    # Remove extra whitespace\n",
    "    text = \" \".join(text.split())\n",
    "    \n",
    "    # Remove trailing punctuation\n",
    "    text = re.sub(r\"\\.$\", \"\", text)\n",
    "    \n",
    "    # Convert to lowercase\n",
    "    text = text.lower()\n",
    "    \n",
    "    return text\n",
    "\n",
    "\n",
    "# apply function to brand column\n",
    "amz_rev['brand'] = amz_rev['brand'].apply(clean_brand)\n",
    "\n",
    "# see updated dataframe\n",
    "amz_rev['brand']"
   ]
  },
  {
   "cell_type": "code",
   "execution_count": 137,
   "metadata": {},
   "outputs": [
    {
     "name": "stdout",
     "output_type": "stream",
     "text": [
      "Number records with special character in brand: 0\n"
     ]
    }
   ],
   "source": [
    "# see if any special characters in brand\n",
    "amz_rev['brand'].str.contains(\"[^a-zA-Z0-9\\s]\")\n",
    "\n",
    "# see rows with special characters\n",
    "amz_rev[amz_rev['brand'].str.contains(\"[^a-zA-Z0-9\\s]\")]\n",
    "\n",
    "# change \"&\" to and\n",
    "amz_rev['brand'] = amz_rev['brand'].str.replace(\"&\", \"and\")\n",
    "\n",
    "# change \"-\" to \" \"\n",
    "amz_rev['brand'] = amz_rev['brand'].str.replace(\"-\", \" \")\n",
    "\n",
    "# change \".\" to \" \"\n",
    "amz_rev['brand'] = amz_rev['brand'].str.replace(\".\", \" \")\n",
    "\n",
    "# replace rest special characters in title\n",
    "amz_rev['brand'] = amz_rev['brand'].str.replace(\"[^a-zA-Z0-9\\s]\", \" \")\n",
    "\n",
    "# see if any products have special characters in brand\n",
    "print(\"Number records with special character in brand:\", amz_rev[amz_rev['brand'].str.contains(\"[^a-zA-Z0-9\\s]\")]['asin'].unique().size)"
   ]
  },
  {
   "attachments": {},
   "cell_type": "markdown",
   "metadata": {},
   "source": [
    "### Category\n",
    "\n"
   ]
  },
  {
   "cell_type": "code",
   "execution_count": 138,
   "metadata": {},
   "outputs": [
    {
     "data": {
      "text/plain": [
       "array(['movies_and_tv', 'cds_and_vinyl', 'office_products', 'software',\n",
       "       'toys_and_games', 'electronics', 'video_games',\n",
       "       'musical_instruments', 'sports_and_outdoors',\n",
       "       'tools_and_home_improvement', 'pet_supplies', 'digital_music',\n",
       "       'grocery_and_gourmet_food', 'home_and_kitchen', 'automotive',\n",
       "       'cell_phones', 'arts_crafts', 'patio_lawn_and_garden',\n",
       "       'industrial', 'beauty', 'magazine_subscriptions',\n",
       "       'clothing_shoes_and_jewelry', 'appliances', 'prime_pantry',\n",
       "       'kindle_store', 'fashion', 'gift_cards', 'luxury_beauty'],\n",
       "      dtype=object)"
      ]
     },
     "execution_count": 138,
     "metadata": {},
     "output_type": "execute_result"
    }
   ],
   "source": [
    "amz_rev.category_x.unique()"
   ]
  },
  {
   "cell_type": "code",
   "execution_count": 139,
   "metadata": {},
   "outputs": [
    {
     "data": {
      "text/plain": [
       "array(['moviesandtv', 'cdsandvinyl', 'officeproducts', 'software',\n",
       "       'toysandgames', 'electronics', 'videogames', 'musicalinstruments',\n",
       "       'sportsandoutdoors', 'toolsandhomeimprovement', 'petsupplies',\n",
       "       'digitalmusic', 'groceryandgourmetfood', 'homeandkitchen',\n",
       "       'automotive', 'cellphones', 'artscrafts', 'patiolawnandgarden',\n",
       "       'industrial', 'beauty', 'magazinesubscriptions',\n",
       "       'clothingshoesandjewelry', 'appliances', 'primepantry',\n",
       "       'kindlestore', 'fashion', 'giftcards', 'luxurybeauty'],\n",
       "      dtype=object)"
      ]
     },
     "execution_count": 139,
     "metadata": {},
     "output_type": "execute_result"
    }
   ],
   "source": [
    "# see brand\n",
    "amz_rev['category_x'].unique()\n",
    "\n",
    "# replace \"_\" with \"\"\n",
    "amz_rev['category_x'] = amz_rev['category_x'].str.replace(\"_\", \"\")\n",
    "\n",
    "# see updated dataframe\n",
    "amz_rev['category_x'].unique()"
   ]
  },
  {
   "attachments": {},
   "cell_type": "markdown",
   "metadata": {},
   "source": [
    "## ReviewText"
   ]
  },
  {
   "cell_type": "code",
   "execution_count": 140,
   "metadata": {},
   "outputs": [
    {
     "data": {
      "text/plain": [
       "563599    product worked as advertised and am pleased wi...\n",
       "162328                       nice to hear this cd beautiful\n",
       "147642    that one song has to be one of the best in ccm...\n",
       "550234    i just love these older movies they really are...\n",
       "552729                    love this movie at christmas time\n",
       "                                ...                        \n",
       "88735     one of the gel pens leaked in the case when sh...\n",
       "176940    love the long long cord. i can plug it is most...\n",
       "256258    quick and easy review: great small inexpensive...\n",
       "446622    kia i loved this book. i am so glad that sky g...\n",
       "248118    only two out of the three we ordered still wor...\n",
       "Name: reviewText, Length: 496258, dtype: object"
      ]
     },
     "execution_count": 140,
     "metadata": {},
     "output_type": "execute_result"
    }
   ],
   "source": [
    "# see brand\n",
    "amz_rev['reviewText']\n",
    "\n",
    "# create function to clean brand column\n",
    "def clean_brand(text):\n",
    "    # Remove square brackets, single quotes, HTML tags, double quotes, commas, URLs, and CSS styling\n",
    "    text = re.sub(r\"\\[|\\]|\\'|<[^>]*>|\\\"|,|\\\\https?://[^\\s]+|{[^}]+}\", \"\", text)\n",
    "    \n",
    "    # Remove extra whitespace\n",
    "    text = \" \".join(text.split())\n",
    "    \n",
    "    # Remove common update notes\n",
    "    update_regex = r'update \\d+/\\d+/\\d+:'\n",
    "    text = re.sub(update_regex, '', text)\n",
    "\n",
    "    # Remove trailing punctuation\n",
    "    text = re.sub(r\"\\.$\", \"\", text)\n",
    "\n",
    "    # remove dates\n",
    "    text = re.sub(r'\\d{2}/\\d{2}/\\d{2}', '', text)\n",
    "\n",
    "    \n",
    "    # Convert to lowercase\n",
    "    text = text.lower()\n",
    "    \n",
    "    return text\n",
    "\n",
    "\n",
    "# apply function to brand column\n",
    "amz_rev['reviewText'] = amz_rev['reviewText'].apply(clean_brand)\n",
    "\n",
    "# see updated dataframe\n",
    "amz_rev['reviewText']\n"
   ]
  },
  {
   "cell_type": "code",
   "execution_count": 141,
   "metadata": {},
   "outputs": [
    {
     "name": "stdout",
     "output_type": "stream",
     "text": [
      "Number records with special character in reviewText: 0\n"
     ]
    }
   ],
   "source": [
    "# check any special characters in title\n",
    "amz_rev[amz_rev['reviewText'].str.contains(\"[^a-zA-Z0-9\\s]\")]\n",
    "\n",
    "# replace special characters in title\n",
    "amz_rev['reviewText'] = amz_rev['reviewText'].str.replace(\"[^a-zA-Z0-9\\s]\", \"\")\n",
    "\n",
    "# count of records with special character in the title\n",
    "print(\"Number records with special character in reviewText:\", amz_rev[amz_rev['reviewText'].str.contains(\"[^a-zA-Z0-9\\s]\")]['asin'].unique().size)"
   ]
  },
  {
   "cell_type": "code",
   "execution_count": 142,
   "metadata": {},
   "outputs": [
    {
     "data": {
      "text/html": [
       "<div>\n",
       "<style scoped>\n",
       "    .dataframe tbody tr th:only-of-type {\n",
       "        vertical-align: middle;\n",
       "    }\n",
       "\n",
       "    .dataframe tbody tr th {\n",
       "        vertical-align: top;\n",
       "    }\n",
       "\n",
       "    .dataframe thead th {\n",
       "        text-align: right;\n",
       "    }\n",
       "</style>\n",
       "<table border=\"1\" class=\"dataframe\">\n",
       "  <thead>\n",
       "    <tr style=\"text-align: right;\">\n",
       "      <th></th>\n",
       "      <th>reviewerID</th>\n",
       "      <th>reviewerName</th>\n",
       "      <th>reviewTime</th>\n",
       "      <th>asin</th>\n",
       "      <th>title</th>\n",
       "      <th>brand</th>\n",
       "      <th>description</th>\n",
       "      <th>reviewText</th>\n",
       "      <th>category_x</th>\n",
       "      <th>overall</th>\n",
       "    </tr>\n",
       "  </thead>\n",
       "  <tbody>\n",
       "    <tr>\n",
       "      <th>305108</th>\n",
       "      <td>A2LEIANN1UZTHP</td>\n",
       "      <td>brainout</td>\n",
       "      <td>2012-09-11</td>\n",
       "      <td>B001YTK3XK</td>\n",
       "      <td>brother mfc8480dn highperformance laser allino...</td>\n",
       "      <td>brother</td>\n",
       "      <td>the mfc8480dn is a highperformance laser allin...</td>\n",
       "      <td>update  this machine is way overpriced now i g...</td>\n",
       "      <td>officeproducts</td>\n",
       "      <td>2.0</td>\n",
       "    </tr>\n",
       "  </tbody>\n",
       "</table>\n",
       "</div>"
      ],
      "text/plain": [
       "            reviewerID reviewerName reviewTime        asin  \\\n",
       "305108  A2LEIANN1UZTHP     brainout 2012-09-11  B001YTK3XK   \n",
       "\n",
       "                                                    title    brand  \\\n",
       "305108  brother mfc8480dn highperformance laser allino...  brother   \n",
       "\n",
       "                                              description  \\\n",
       "305108  the mfc8480dn is a highperformance laser allin...   \n",
       "\n",
       "                                               reviewText      category_x  \\\n",
       "305108  update  this machine is way overpriced now i g...  officeproducts   \n",
       "\n",
       "        overall  \n",
       "305108      2.0  "
      ]
     },
     "metadata": {},
     "output_type": "display_data"
    },
    {
     "data": {
      "text/plain": [
       "'update  this machine is way overpriced now i got mine for maybe 400 will check and write an updated note in the comments it wasnt worth the amount i paid much less the selling price now update  i finally gave up and reinstalled my prior mfc 9700 it scans well this 8480dn cannot scan directly from the machine but only from the computer however at least the 8480dn has a power button along with wire hookup in two ways parallel and usb it also allows you to configure it from the computer without having to use that horrible lcd menu but i gotta tell ya ill never buy another brother printer again they didnt learn any lessons from the insanity of the mfc 9700s frustrating interface update 32213 i upgraded one star for the printer because there is a way to make it do searchable pdf via its paperport function but the scanner itself cant do that you can do tht if you have acrobat its ocr function will also convert any google doc into searchable pdf yay finally i can search shakespeare and gibbon of course this printer cant do that but once you scan it even without paperport you can take an old adobe acrobat 60 and render it searchable i still prefer my scansnap s1500 i still havent found a way to directly press the scan button on the machine and have it scan but printer quality is excellent the rest of the remarks below still stand update  the scanner does not produce searchable pdf this makes the scanner nearly useless so i downgraded the printer to 2 stars then downgraded it today 12213 because the scan button doesnt work on the machine you can only scan remotely from your computer someone in brother quality control was very thoughtless the machine does have some advantages see below but im giving this low rating to call attention to the utter thoughtlessness of the design and the manuals gist if you seek a simple faxscancopyprinter look somewhere else if you want a sophisticated version with a small footprint and are willing to accept a light duty cycle 30k pages per month  meaning really no more than 500 per day  keep reading this machine has faxscancopyprint features i cant find elsewhere except in machines costing 2k or more  cleverly created and handled and its reliable a steady workhorse consumable costs are low for what you get when the thing gets tired after about 7 years it still works fine but its menu begins to say its drum needs changing even though thats not true it will be easier to follow along in this review if you first download the users manuals on the 8480dn from brother just google on that model number and manual download to find the page quickly i will no longer buy any electronic product until ive read the manual here im already quite familiar with this line of brother machines but the manuals are a nightmare so you do need to read them and decide if its worth the hassle of learning machine itself is of great quality boring putty gray and charcoal color but hey business machines are deliberately dull color chosen by committee vote always means dullish gray or beige or black yuck well this one isnt as ugly as some twotoned even so the brother mfc8480dn is mustbuy if you still have dos word processing because it recognizes pcl 5 language which back in dos days was very common im so thrilled about this all my old multimate advantage ii merge files print as intended mm ii used to be the standard dos word processing in fortune 500 corporations and had the easiesttoprogram merge functions ever invented my happy history with the elder mfc 9700 and this newer models pcl 56 emulation were the main reasons i bought this 8480dn saved my bacon for all my 20 year old client files yet the 8480dn can also handle modern stuff sporting a dual twain and wiacompliant networkcapable multifunction faxcolor or bw scannercopyprint machine on a legalsize scanning plate with pcl 56 emulating hp language as well as postscript which is compatible with linux windows through version 7 and mac you get three cds windows pre7 windows 7 and mac for that reason the twain feature allows duplex scanning but on the 8480dn im not sure how to make it work might not work at all in xp and prior the instructions are ambiguous probably because the duplex problem is a windows problem not the machines still you can scan odd then even pages and reassemble in brothers own paperport or even via adobe to make into a duplex so i hear this 8480dn is not automatically set up to handle wireless but through its ethernet port you could presumably plug it into a router the 8890dw is supposedly able to do wifi out of the box and it offers easy duplex scanning but i didnt buy that unit you can download the linux drivers from brother go to its website search on linux drivers and you should get a page of them with a bunch of model numbers so you download by clicking on the model brother is big on linux compatibility  sophisticated fourtier operation and installation outline for this review  so this 8480dn would be a tenstar machine except for its infuriating fragmented instructions some options are scattered in the online manual some only show in the paper manual some only are listed on the web some only in the machines menu but it has a lot of features witness there are four different ways to run this machine thats why its so dang confusing ultimately youll find one way you want to use it and forget the other options but to begin with you need to know what your options even are 1 run the machine from its own menu and buttons on the machine trust me you will soon hate doing this but you will need to learn it because the other ways of running the scanner dont include all the options which are on the machine some important options like printer emulation mode are only available from the machine the paper manual is correlated to these options so is relatively easy to read but alas not all options you need to configure are on the machine so are not covered in that paper manual so the rest of this review will cover tips on 8480dn salient features plus operation via tiers 24 plus maintenance 2 run the machine from the brother control center options on your computer totally different organization for the many overlapping options which basically tell the machine how to function neither the online nor the paper manual correlate the same options in the control center worse the online manual isnt organized the way the control center displays aaarrrggghh not all of the important options are configurable from the computer so you have to go through both manuals but you cannot program in both places at the same time so go through the computer options first then the machines own options per the paper manual 3 run the scanner from the paperport software oddly enough this is covered in the online manual where you dont expect it also as would be expected from the paperports own help menu in my older mfc9700 when you scan using the machine first  meaning you stick the thing to be scanned in the machine and hit the scan button on the machine  the paperport menu automatically comes up on the computer so presumably that happens with the 8480dn too so this will be the most common computer experience youll have if you start your scans at the machine and hit its own buttons unfortunately i cant get my 8480dn to operate by simply hitting the scan button edit  i still cant operate the scan button on the machine must use control center to scan since i dont find anyone else having that problem i must assume its something wrong on my end pending talking to brother they want me to call them and i cant do that until after the 15th one quirk in their program you cant replace an existing file even if an administrator so if you want to rescan with the same file name you must save to a different directory or first delete the file you originally made 4 run the machines security and permissions from the web apparently this is for networking functions by the administrator i dont use a network so wont review this option its function is in the network users guide put on your computer at installation the main functions concern who has what kind of access to the mfc 8480dn because it has a lot of storage capacity with added memory you can easily add to the side of the machine too so presumably access to its functions is relegated to an administrator using the cloud update 91312  the manager of a large apartment complex with units all over the place told me her 8890dw was completely and swiftly installed remotely by some geek in another state he did it all by commands directly to the machine no cd required so apparently network installation can be heavenly the rest of this review now focuses on tier 2 and 3 usage these are the most useful and difficult tiers of configuration features to understand there are over 1000 configurable features sadly brothers explanations while good are very disorganized you will spend hours in the pdf manuals as a they have no page numbers and b their own search engine is dysfunctional not adobes search engine but their own why note to brother organize the pdf according to the control center software screens to lower confused customer calls dovetail the atmachine paper manual with the pdf users manual so the user can identify common functions versus functions only on the machine or only choosable from the computer you have a good product brother  but oh brother the convoluted manuals make us tear our hair out installation tips 1 install the software first 2 do not hook up the usb or parallel interface to the mfc until told to do so 3 leave the mfc off until told to turn it on 4 do not select custom installation it sends the installer into a hang for brother wants to advertise using its own toner brand the installer wont complete else so you must install three times without uninstalling a install first without paperport then b install again with paperport then c do it a third time to install the only option left brothers postscript driver took me four hours to figure out that a b c after installation there are hundreds of setup options to analyze 20 customized presets maybe more you can also change options ad hoc right on the machine though its nowlarger lcd menu remains as annoying as ever at least now its backlit and readable whew oh the 8480dn forgets the time even if unplugged for a moment to reset it call up brothers control center menu and use its remote setup device settings initial setup then check the box next to pc clock do not reset the time on the machine your pc clock then cant reset it unless you reboot sigh okay but thats all the bad news dysfunctional pdf manuals and a hypersensitive ticker not too bad else this multifunction machine is a huge improvement over its hardworking predecessor the mfc 9700 which ive owned since about 2005 so lets see why  what can this 8480dn really do lots to wit   scan or print directly to pdf and other formats either via your computer or by itself with a handy usb port right in front of the machine just stick in a pen drive and convert your files on it i have to test this more to see how it works you can preset 16 sets of options but only via the computer quality scanning is very slow if you want fast readable but not superlative scans accept the defaults of 400 or 200 pixels file sizes are also smaller a quality scan will take maybe 20 minutes frankly i dont see much difference between the umpteen bizillion pixels brother can do versus the small file standard but maybe there is a huge difference in photos scanning options are many creative and sophisticated for example say you wanted to make a banner so you print out sections of this banner and now want to assemble it in a scan as one big piece you can do that or conversely scan to fit as many as 25 pages onto one legal or even smaller page you can do that you can duplex scan but in two steps not one and you have to use paperport covered below if youre on xp  duplex or simplex printing in black and white but color for scanning selectable to very high resolution levels legal size glass so you can fit more on the scanner you can also size the output to shrink up to four pages onto one page via a special option in direct print  where you plug a pen drive into the front of the machine and print whats on the drive bypassing the computer  you can shrink as many as 25 pages onto only one page the printing options here are enormous and sophisticated seen on many highend machines ie make books or pamphlets the machine is silent except when printing when printing the chief sound is the fan windlike not harsh you can hear the paper revv up too warmup isnt fast but is acceptable 32ppm is about right its fast enough for a small office its aggressive about conserving energy hence the slower warmup  adf of 50 pages i think it looks improved versus my older machine this newer model has a fabulous paper path to make it easier to remove jams  you get many remote programming options set from either the computer or directly on the machine versus earlier brother models you can operate the machine remotely too call into it and poll receive its stored input  you can fax receivesend either directly from your computer including broadcasting to groups timed faxes polling get faxes from some distant machine like irs fax downloads the brother offers many different resolutions and settings you can choose for printed fax clarity by contrast its internal pcfax function faxing directly from your computer is weirdly capped to 200x200 resolution  you can scan to create files on your computer of course paperport manipulates the scanned pages afterwards ie change page order formats the 8480dn uses paperport version 11  copying including with almosttoomany settings for cleaning an original reduction enlargement shrinking up to 4 pages into one page many options in the dialogue boxes to help correct bad originals the manuals offer good hints too copy and print settings you change on the fly ie lower row of charcoal square buttons dont change your defaults they only change your next function  networkcapable has its own ethernet port hook it up using either parallel or usb i prefer parallel keeps my usb ports free and less drain on the machine lots of security options mindboggling how you can configure pinpointed security  simultaneity true multifunction you can sendreceive a fax print and scan to file all at the same time no special setting for this its automatic ive been in the middle of a scan when a fax came in or was printing on my older 9700 or had left something scanned on the plate but scanned something else with no mixup i still dont know why it works so well so that convenience continues in the newer 8480dn  need more memory simple buy and insert the added ramm into the side of the machine as easily as youd insert an ssd card into a slot of your netbook default memory claims to support storage of 600 pages of scans presumably text not necessarily that high for photos  now to tier 2 at this reviews start running the 8480 dn from the control center  after installation you access control center 3 via subset of the mfc8480 menu under brother menufolder ignore its option to use the modern skin stick instead to the turquoise default menu pick device settings then remote setup there will be a pause as the computer loads the settings resident in the machine these are fairly straight forward except for some arcanelynamed options covered below as you work with them remember to periodically hit the apply button to save your work to the mfc while editing click the ok button to save and exit the remote setup dialogue boxs tree headers are general the oddlynamed mode timer means the reset time between the last function you did and resumption of fax mode if you turn mode timer off you disable faxing at times thats helpful to avoid interruptions generally youd want the default of 2 minutes the setting also controls how long you can repeat whatever you last did too so if youve a longish copy or print job increase the mode timer or turn it off to disable any reset to fax mode  paper type and tray 1 5 ream and mp tray the former is the pullout tray the other is a bypass tray which they call mp its door is dropdown lightgray door on the front of the machine not the dark gray part for the drum and toner see the paper manuals page 12 so you can feed 13 sheets or envelopes at a time via the bypass this becomes useful for mixed paper types in a print job when you code the machine to pause at certain points you can also buy another 5 ream pullout tray to attach underneath the machine for about 200 more the tray integrates into the machine via screws supplied with the unit  default paper type is plain think copy paper of xerox quality approx 18lb but the 8480dn also accepts thin or thick paper the manuals give you great hints on how to tell whats thin or thick by paper behavior  including envelopes the 1 complaint users have about this machine  so you waste less paper guessing envelopes are problemmatic in any laser printer the cheaper ones are usually the worst the thinner the worse as for thick 65lb paper qualifies as thick stiff stock for title pages in presentation folders even 65lb paper worked fine in my mfc 9700  tray use means where should the machine search for the paper to print default is the bypass mp tray first then the pullout t1 tray be sure to match the machines settings to the size paper you use you have many sizes to choose all the way up to legal  glass scan size limits how far the scanner will scan on the plate so you match that to your actual paper size as well lest you get blackblank scan  file size refers to compression if youre printing to a file use small if youll email else use the default for either color or grayscale to file acrobat will give you the smallest file size next best is fujitsu s1500 scanner this brother might be as good fax setup receives ring delay should probably be set to 2 so the fax will pick up on the third ring the faxtele ring time of 30 seconds is usually best as thats the usual handshaking time between calling and answering faxes especially if you attached an answering machine aka tad dont use voicemail because ameritech or comcast or will take the call so your fax cant hear it attach an oldfashioned answering machine from 1990 or later  setup send is a little more arcane here you can set batch or real time transmission off or on whether a cover page and what kind with preset or customized messages frankly its easier to create your own cover page unless you broadcast to many people see pages 4546 of the paper manual for details  address book yowsa you can type in the numbers and names they make vcards or you can import outlook or outlook express 6 data to the mfc  but not from here oh no they put the address book import option in control center 3s pcfax setup option then select the addressbook tab and specify type and file path for your book  report setting gives you a valuable history log of faxes in and out i set mine up to give me a weekly report but you can select it by day hour or x  of faxes the start at means what hour for time it might mean something else if you pick a different option  remote fax options these control how you want your fax to act when youre away you can have it forward be paged have it store in the machine so you can retrieve it remotely which brother calls polling or have it store in your computer  dial restrictions is a kind of quick password protection to prevent others or yourself from dialing wrongly copy youd adjust these settings for higher than normal resolution increase contrast if copying pencil increase brightness if the original is old or discolored the manuals here offer helpful hints on how to clean up your originals esp what brother calls noise so too the dialogue boxes play with the settings very nice and rare features print to duplex or not duplex that is the longevity question in the automatic duplex printing section of the onscreen users guide  it says do not use bond paper for duplex with good reason id argue never to use duplex at all unless you want to shorten the life of your machine and spend extra money at least once a year to have some professional clean your machines innards  gratuitous treehugging message if you want to save a tree go paperless if you want to see your printed paper become brittle faster go duplex its value is way overrated great for book printing but again youll just dirty your machine twice as fast ie 100 pages duplexed 50 will dirty twice as fast as 100 pages simplex for the toner goes on both sides of the rollers its a false economy and you can always reuse paper on only one side for scrap direct print makes the mfc print directly from your pen drive or pluggedin camera without the computer here you can shrink up to 25 pages onto one in multiple formats could be useful if the computer is off or tied up scan to usb means you can scan directly to a pen drive too bypassing the computer network options are fairly straightforward remember that utc is almost equal to gmc for the time zone initial setup check the pc clock box quirk in the machine will keep on unchecking that box after you save thats probably why when you turn off the machine it forgets the time but hey my beloved mfc 9700 didnt even have a power button the machines are meant to stay on ever vigilant for faxes here you must experiment with dial tone sometimes setting it to detection creates glitches sometimes not the dial prefix should be 1 just as for your fax and tel numbers if your stored phone numbers dont have that prefix or you otherwise have a direct line out if you have to dial some prefix to get an outside line put that in front since the 8480dn is hooked up to the pc check from pc clock for the source of the machines time especially if you often have power outages finally if you set the machine to manual fax receipt then you must type a code to activate the fax you set the code in the setup receive option under fax whew youre 10 done now lets talk about the other turquoise controlcenter3 entries above device settings these too dont operate as youd expect scan if you leftclick you tell brother to scan something immediately on the scanning glass for any of the four items listed they are destinations for your scanning so you must program them first so you right click to configure settings next youll see a tabbed dialogue box its software button is a preset you configure for scanning directly into an application but using your computer by contrast the device button is a preset for the scan button on the 8480dn so you have one pair per image ocr email and file thus you can have up to eight presets if that much flexibility makes your head spin set both software and device button options exactly alike so you can use the computer or the button on the machine to get the same result repeat the buttons are destinationoriented so you have up to eight destinations two per type of scan you can choose and you choose the application destination for the scan the file type resolution and scan type paper size also click scanner interface if you plan to crop the image after scanning or otherwise edit it if an application you want to use isnt in the dropdown list and you know the path of the application you want to use then click the add button and then click on the folder icon to browse for that programs location suggest you add mspscanexe which is microsofts own document scanning program sometimes its faster and like paperport offers postscan file manipulation  suggestion pick the highest resolution and quality settings for image and ocr and file but for email pick the lowest settings you can stomach for your average email isp services like aol verizon etc allow only 5mb for attachments so too the irs and other government agencies provide their employees with very limited storage capping email attachments to about 5mb per email note gmail and yahoo have much higher caps like 2030mb per email custom scan this is the same as scan except that you get to change the icon names too another 8 configuration options for software and device buttons whew now youre 50 done could they make it more complicated copy here you get four added presets for copying when you rightclick you can even specify different printers whether to scale fit the text to the size of the output page and other options since its usually easier to change common copy settings on the machine these four are best reserved for very special jobs with maybe 60 suboptions give the presets names which will make you instantly remember what they do pcfax max resolution is 400x 400 in this model but if you plan to do delayed or batchbroadcasted to many people faxes pcfax can be helpful see pages 4546 of the paper manual again you right click the send icon to configure it to send faxes directly from your computer rather than print out and then feed the machine presumably the send icon setting controls receive too as you cant configure that ones resolution from the computer you can configure it from the machine see the paper manual on setup receive back to the control center configuration if you make a mistake and hit its receive icon more than once you get the paperport menu so have to quit and reboot to reset the icon so instead hit the setup icon finally here you get a sensible dialogue box the address book tab is most helpful you can load your outlook or outlook express addresses and phones into the brother suggest you first complete your outlookexpress data before you import finally the speed dial tab allows you to configure a special 10 speed dial from your computer these will not be the same as what you programmed back in the device settings remote fax setup address book presumably those latter match the speeddial numbers on the machine up to 34 by the way when you use speed dial the toowhite menu on the machine will light up with the name associated with that speed dial number so you get to see the speed dial name before sending back in the speed dial tab of pcfax setup to configure the special 10 you must manually add the name on the left to a number on the right again you can only dial these from your pc whew 70 done are you groaning yet  now to tier 3 using paperport to run your 8480dn  paperport is a scanner controller plus sorter and converter it works like moving papers on your desk into finished bundles paperport has distinct scanner control advantages versus direct machine or control center you access paperport from the scansoft paper port menu item or programs most importantly it can make duplex scans heres how access paperport select duplex and youll get a cute dialogue box telling you how to do it additionally you can specify whether you want to scan in twain or wia mode an option not selectible so far as i can tell via tier 1 direct onmachine or 2 control center operating modes it might not work in xp or maybe it only works with twain ive not yet tested it just going by its instructions en ce moment will report back here with the results again paperport is fairly basic intuitive it has has many fans and three chief advantages a its organized like a desktop so you can arrange stuff on it move that stuff around into stacks or unstack just like shuffling papers into or out of stacks on your desk so scan of 50 unrelated pages and then move each of those pages into other stacks be they photos charts whatever then b you can scan while in paperport to add more stuff to reassemble then c you can export your stacks into a variety of applications which are iconized at the bottom of the screen like outlook express excel word pdf etc paperport is win7 compatible so will show compatible apps you get these same features with fujitsu scan snap s1500 adobe acrobat and many acrobat knock offs my favorite being smart pdf creator pro they all work better at arranging and converting vs ms or wordperfect office limited tagging and editing in paperport i couldnt see any options but im sure there are some  maintenance  this machine requires very little upkeep a bit of windex on the plate once a week or month depending on how often you scan featherdust everything else especially the interiors once a month or more often i actually use a turkey feather bought in a craft shop you know for kids wanting to play indian chief at halloween i use it also to clean between my keyboard crevices handy thing run cleaner sheets after a major print job which is dense 200 pages else once a week you can buy these in amazon you can use each of these sheets five or ten times and still get cleaning from them they are impregnated with a substance which catches toner and dust those are the two killers of good output and if you dont do it you ask for trouble think of it as the equivalent of not defragging your hard drive if you dont defrag once a week your machine will slow to a crawl the sheets prevent that black line you so often see in unkempt faxes toner is a kind of dust its so fine that by the time you see little black spots its almost too late get the cleaning sheets any printer needs this i like those lintfree old flour towels our mothers used to have for cleaning the plate got any old makeup brushes clean them and use them to dust inside the adf especially the rollers do not use solvent on the rollers unless you like a dysfunctional machine at most use a dampened sheet which has no lint better still just a soft blush brush which is very clean dirty adfs are a major cause of jams takes a few minutes while on a phone call or watching something on tv once a week consumables i think the brother toner runs about 70 and it lasts a long time they say 3000 pages but ive gotten a lot more than that i still keep the old toners in case i suddenly need one shake it from side to side maybe once a month or two to make it last longer the toner problem isnt so much that it runs out but that it sticks to the sides when the print quality looks bad the toner cartridge needs a little rocking from side to side do it over the sink unless you have black carpets the drum unit is maybe 100120 and it too has a much longer life than brother recommends though they tell you to ignore the change drum soon warning until you see degradation you cant tolerate my old mfc 9700 h'"
      ]
     },
     "execution_count": 142,
     "metadata": {},
     "output_type": "execute_result"
    }
   ],
   "source": [
    "# see record\n",
    "display(amz_rev[(amz_rev['reviewTime']=='2012-09-11') & (amz_rev['asin']=='B001YTK3XK')])\n",
    "\n",
    "# view data \n",
    "amz_rev[(amz_rev['reviewTime']=='2012-09-11') & (amz_rev['asin']=='B001YTK3XK')]['reviewText'].values[0]"
   ]
  },
  {
   "attachments": {},
   "cell_type": "markdown",
   "metadata": {},
   "source": [
    "## <a id='toc2_7_'></a>[Dealing with Categorical Data](#toc0_)\n",
    "\n",
    "We deal with categorical data (categories). Categorical variables need to be encoded as numerical values for many machine learning algorithms. You can use various encoding techniques such as one-hot encoding, label encoding, or target encoding to transform categorical variables into a numerical format suitable for analysis or modeling."
   ]
  },
  {
   "attachments": {},
   "cell_type": "markdown",
   "metadata": {},
   "source": [
    "## <a id='toc2_9_'></a>[Normalizing Data](#toc0_)\n",
    "\n",
    "We look at normalizing data (price, votes, etc. ) We used min-max. "
   ]
  },
  {
   "cell_type": "code",
   "execution_count": 143,
   "metadata": {},
   "outputs": [
    {
     "data": {
      "text/plain": [
       "count    496258.000000\n",
       "mean          0.845894\n",
       "std           0.271659\n",
       "min           0.000000\n",
       "25%           0.750000\n",
       "50%           1.000000\n",
       "75%           1.000000\n",
       "max           1.000000\n",
       "Name: normalized_rating, dtype: float64"
      ]
     },
     "execution_count": 143,
     "metadata": {},
     "output_type": "execute_result"
    }
   ],
   "source": [
    "# Assuming your ratings data is in a DataFrame called 'df' with a column named 'rating'\n",
    "min_rating = amz_rev['overall'].min()\n",
    "max_rating = amz_rev['overall'].max()\n",
    "\n",
    "# Normalize the ratings to a range from 0 to 1\n",
    "amz_rev['normalized_rating'] = (amz_rev['overall'] - min_rating) / (max_rating - min_rating)\n",
    "\n",
    "# see updated dataframe\n",
    "amz_rev.head(3)\n",
    "\n",
    "# see summary of normalized ratings\n",
    "amz_rev['normalized_rating'].describe()\n"
   ]
  },
  {
   "attachments": {},
   "cell_type": "markdown",
   "metadata": {},
   "source": [
    "The '`normalized_rating`' column will contain the normalized ratings between 0 and 1, where 0 corresponds to the minimum rating and 1 corresponds to the maximum rating. Note, the '`normalized_rating`' column is created by subtracting the minimum value from each rating and dividing it by the range (maximum value minus minimum value).\n",
    "\n",
    "\n",
    "\n",
    "\n",
    "\n"
   ]
  },
  {
   "attachments": {},
   "cell_type": "markdown",
   "metadata": {},
   "source": [
    "## <a id='toc2_10_'></a>[Check Data Imbalance](#toc0_)\n",
    "\n",
    "We check data balance across categories."
   ]
  },
  {
   "cell_type": "code",
   "execution_count": 144,
   "metadata": {},
   "outputs": [
    {
     "data": {
      "text/plain": [
       "electronics                24941\n",
       "petsupplies                24928\n",
       "cellphones                 24905\n",
       "toysandgames               24875\n",
       "officeproducts             24870\n",
       "kindlestore                24837\n",
       "automotive                 24828\n",
       "videogames                 24809\n",
       "musicalinstruments         24782\n",
       "groceryandgourmetfood      24766\n",
       "primepantry                24759\n",
       "homeandkitchen             24736\n",
       "patiolawnandgarden         24715\n",
       "toolsandhomeimprovement    24671\n",
       "artscrafts                 24626\n",
       "industrial                 24412\n",
       "sportsandoutdoors          24084\n",
       "cdsandvinyl                22169\n",
       "moviesandtv                21242\n",
       "software                   11911\n",
       "clothingshoesandjewelry    10752\n",
       "beauty                      4143\n",
       "giftcards                   2670\n",
       "magazinesubscriptions       2250\n",
       "digitalmusic                 337\n",
       "appliances                   201\n",
       "luxurybeauty                  21\n",
       "fashion                       18\n",
       "Name: category_x, dtype: int64"
      ]
     },
     "execution_count": 144,
     "metadata": {},
     "output_type": "execute_result"
    }
   ],
   "source": [
    "# see distribution of reviews across categories\n",
    "amz_rev['category_x'].value_counts()"
   ]
  },
  {
   "cell_type": "code",
   "execution_count": 145,
   "metadata": {},
   "outputs": [
    {
     "data": {
      "text/plain": [
       "electronics                24941\n",
       "petsupplies                24928\n",
       "cellphones                 24905\n",
       "toysandgames               24875\n",
       "officeproducts             24870\n",
       "kindlestore                24837\n",
       "automotive                 24828\n",
       "videogames                 24809\n",
       "musicalinstruments         24782\n",
       "groceryandgourmetfood      24766\n",
       "primepantry                24759\n",
       "homeandkitchen             24736\n",
       "patiolawnandgarden         24715\n",
       "toolsandhomeimprovement    24671\n",
       "artscrafts                 24626\n",
       "industrial                 24412\n",
       "sportsandoutdoors          24084\n",
       "cdsandvinyl                22169\n",
       "moviesandtv                21242\n",
       "software                   11911\n",
       "clothingshoesandjewelry    10752\n",
       "beauty                      4143\n",
       "giftcards                   2670\n",
       "magazinesubscriptions       2250\n",
       "digitalmusic                 337\n",
       "appliances                   201\n",
       "Name: category_x, dtype: int64"
      ]
     },
     "execution_count": 145,
     "metadata": {},
     "output_type": "execute_result"
    }
   ],
   "source": [
    "# remove categories with less than 100 reviews\n",
    "amz_rev = amz_rev.groupby('category_x').filter(lambda x: len(x) >= 100)\n",
    "\n",
    "# see updated dataframe\n",
    "amz_rev['category_x'].value_counts()\n"
   ]
  },
  {
   "attachments": {},
   "cell_type": "markdown",
   "metadata": {},
   "source": [
    "***\n",
    "# <a id='toc3_'></a>[Creating New Dataset and Saving](#toc0_)\n",
    "\n",
    "We create a new dataset using all the cleaning and processing done above and save it as a csv file called `data_clean.csv`."
   ]
  },
  {
   "cell_type": "code",
   "execution_count": 146,
   "metadata": {},
   "outputs": [
    {
     "name": "stdout",
     "output_type": "stream",
     "text": [
      "Shape of cleaned data: (496219, 11)\n",
      "\n",
      "Number of unique products: 251615\n",
      "\n",
      "Number of unique users: 339625\n",
      "\n",
      "Number of unique brands: 68503\n",
      "\n",
      "Number of unique categories: 26\n",
      "\n",
      "Number of reviews per category:\n",
      " electronics                24941\n",
      "petsupplies                24928\n",
      "cellphones                 24905\n",
      "toysandgames               24875\n",
      "officeproducts             24870\n",
      "kindlestore                24837\n",
      "automotive                 24828\n",
      "videogames                 24809\n",
      "musicalinstruments         24782\n",
      "groceryandgourmetfood      24766\n",
      "primepantry                24759\n",
      "homeandkitchen             24736\n",
      "patiolawnandgarden         24715\n",
      "toolsandhomeimprovement    24671\n",
      "artscrafts                 24626\n",
      "industrial                 24412\n",
      "sportsandoutdoors          24084\n",
      "cdsandvinyl                22169\n",
      "moviesandtv                21242\n",
      "software                   11911\n",
      "clothingshoesandjewelry    10752\n",
      "beauty                      4143\n",
      "giftcards                   2670\n",
      "magazinesubscriptions       2250\n",
      "digitalmusic                 337\n",
      "appliances                   201\n",
      "Name: category_x, dtype: int64\n",
      "\n",
      "Columns available: Index(['reviewerID', 'reviewerName', 'reviewTime', 'asin', 'title', 'brand',\n",
      "       'description', 'reviewText', 'category_x', 'overall',\n",
      "       'normalized_rating'],\n",
      "      dtype='object')\n"
     ]
    }
   ],
   "source": [
    "# save cleaned data\n",
    "amz_rev.to_csv(\"Data/amz_rev_cleaned.csv\", index=False)\n",
    "\n",
    "# stats of cleaned data\n",
    "print(\"Shape of cleaned data:\", amz_rev.shape)\n",
    "print(\"\\nNumber of unique products:\", amz_rev['asin'].unique().size)\n",
    "print(\"\\nNumber of unique users:\", amz_rev['reviewerID'].unique().size)\n",
    "print(\"\\nNumber of unique brands:\", amz_rev['brand'].unique().size)\n",
    "print(\"\\nNumber of unique categories:\", amz_rev['category_x'].unique().size)\n",
    "print(\"\\nNumber of reviews per category:\\n\", amz_rev['category_x'].value_counts())\n",
    "print(\"\\nColumns available:\", amz_rev.columns)"
   ]
  },
  {
   "cell_type": "code",
   "execution_count": null,
   "metadata": {},
   "outputs": [],
   "source": [
    "# check for null values in the data for each column\n",
    "print(\"Null values in each column:\\n\", round(all_revs_meta.isnull().sum()/len(all_revs_meta)*100,2))"
   ]
  }
 ],
 "metadata": {
  "kernelspec": {
   "display_name": "base",
   "language": "python",
   "name": "python3"
  },
  "language_info": {
   "codemirror_mode": {
    "name": "ipython",
    "version": 3
   },
   "file_extension": ".py",
   "mimetype": "text/x-python",
   "name": "python",
   "nbconvert_exporter": "python",
   "pygments_lexer": "ipython3",
   "version": "3.9.12"
  },
  "orig_nbformat": 4,
  "vscode": {
   "interpreter": {
    "hash": "592720dbed1256d2a23d8b00e5ee6ece89b12c02a81b97be893b807d9576d7c4"
   }
  }
 },
 "nbformat": 4,
 "nbformat_minor": 2
}
