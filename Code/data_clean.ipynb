{
 "cells": [
  {
   "attachments": {},
   "cell_type": "markdown",
   "metadata": {},
   "source": [
    "# <a id='toc1_'></a>[Data Cleaning and Processing](#toc0_)"
   ]
  },
  {
   "attachments": {},
   "cell_type": "markdown",
   "metadata": {},
   "source": [
    "**Table of contents**<a id='toc0_'></a>    \n",
    "- [Data Cleaning and Processing](#toc1_)    \n",
    "- [Data Cleaning Processes](#toc2_)    \n",
    "  - [Removing Unnecessary Columns](#toc2_1_)    \n",
    "  - [NaN/Missing Values in the Data](#toc2_2_)    \n",
    "  - [Duplicates in the Data](#toc2_3_)    \n",
    "  - [Outliers in the Data](#toc2_4_)    \n",
    "  - [Standardizing and Checking Data Types](#toc2_5_)    \n",
    "  - [Normalizing Data](#toc2_6_)    \n",
    "  - [Check Data Imbalance](#toc2_7_)    \n",
    "- [Dealing with Categorical Data](#toc3_)    \n",
    "- [Dealing with Text Data](#toc4_)    \n",
    "  - [Text Normalization](#toc4_1_)    \n",
    "    - [Description](#toc4_1_1_)    \n",
    "    - [Title](#toc4_1_2_)    \n",
    "    - [Brand](#toc4_1_3_)    \n",
    "    - [Category](#toc4_1_4_)    \n",
    "    - [ReviewText](#toc4_1_5_)    \n",
    "  - [Text Cleaning](#toc4_2_)    \n",
    "    - [Tokenization](#toc4_2_1_)    \n",
    "    - [ Stopword Removal](#toc4_2_2_)    \n",
    "    - [Stemming and Lemmatization](#toc4_2_3_)    \n",
    "- [Sentiment Analysis](#toc5_)    \n",
    "  - [Sentiment Analysis using Lexicon-based Methods](#toc5_1_)    \n",
    "    - [VADER](#toc5_1_1_)    \n",
    "    - [TextBlob](#toc5_1_2_)    \n",
    "    - [Bing, AFINN, and NRC](#toc5_1_3_)    \n",
    "    - [Comparison of Lexicon-based Methods](#toc5_1_4_)    \n",
    "- [Creating New Dataset and Saving](#toc6_)    \n",
    "\n",
    "<!-- vscode-jupyter-toc-config\n",
    "\tnumbering=false\n",
    "\tanchor=true\n",
    "\tflat=false\n",
    "\tminLevel=1\n",
    "\tmaxLevel=6\n",
    "\t/vscode-jupyter-toc-config -->\n",
    "<!-- THIS CELL WILL BE REPLACED ON TOC UPDATE. DO NOT WRITE YOUR TEXT IN THIS CELL -->"
   ]
  },
  {
   "cell_type": "code",
   "execution_count": 1,
   "metadata": {},
   "outputs": [],
   "source": [
    "# reset (removing all variables, functions, and other objects from memory)\n",
    "%reset -f\n",
    "\n",
    "# import all the necessary packages\n",
    "import pandas as pd\n",
    "import numpy as np\n",
    "import warnings\n",
    "import re\n",
    "\n"
   ]
  },
  {
   "attachments": {},
   "cell_type": "markdown",
   "metadata": {},
   "source": [
    "In this workbook we will clean and process the data for the project. We will also create a new dataset that will be used for the analysis. This dataset will be saved as a csv file and will be used in the analysis workbook. Specifically, we will do the following:\n",
    "\n",
    "1. Load the data from the csv file created in the data loadings workbook\n",
    "2. Clean the data by:\n",
    "    - removing or looking at columns that are not needed\n",
    "    - looking at missing values\n",
    "    - looking at duplicates\n",
    "    - looking at outliers\n",
    "    - standardizing and checking data types\n",
    "    - deal with text data\n",
    "    - deal with categorical data (categories)\n",
    "    - check for data consistency across columns\n",
    "    - look at normalizing data (price, votes, etc. )\n",
    "    - Looking at rows with missing values\n",
    "    - check data balance\n",
    "    - feature engineering (sentiment analysis, etc.)\n",
    "\n",
    "3. Create a new dataset\n",
    "4. Save the new dataset"
   ]
  },
  {
   "attachments": {},
   "cell_type": "markdown",
   "metadata": {},
   "source": [
    "# <a id='toc2_'></a>[Data Cleaning Processes](#toc0_)"
   ]
  },
  {
   "cell_type": "code",
   "execution_count": 3,
   "metadata": {},
   "outputs": [],
   "source": [
    "# load data - MAC OS\n",
    "amz_rev = pd.read_csv('/Users/pavansingh/Library/CloudStorage/GoogleDrive-pavansingho23@gmail.com/My Drive/Portfolio/Masters-Dissertation/Code/Data/all_revs_with_records_1.csv', low_memory=False)"
   ]
  },
  {
   "cell_type": "code",
   "execution_count": 5,
   "metadata": {},
   "outputs": [
    {
     "data": {
      "text/html": [
       "<div>\n",
       "<style scoped>\n",
       "    .dataframe tbody tr th:only-of-type {\n",
       "        vertical-align: middle;\n",
       "    }\n",
       "\n",
       "    .dataframe tbody tr th {\n",
       "        vertical-align: top;\n",
       "    }\n",
       "\n",
       "    .dataframe thead th {\n",
       "        text-align: right;\n",
       "    }\n",
       "</style>\n",
       "<table border=\"1\" class=\"dataframe\">\n",
       "  <thead>\n",
       "    <tr style=\"text-align: right;\">\n",
       "      <th></th>\n",
       "      <th>overall</th>\n",
       "      <th>verified</th>\n",
       "      <th>reviewTime</th>\n",
       "      <th>reviewerID</th>\n",
       "      <th>asin</th>\n",
       "      <th>style</th>\n",
       "      <th>reviewerName</th>\n",
       "      <th>reviewText</th>\n",
       "      <th>summary</th>\n",
       "      <th>unixReviewTime</th>\n",
       "      <th>category</th>\n",
       "      <th>vote</th>\n",
       "      <th>image</th>\n",
       "    </tr>\n",
       "  </thead>\n",
       "  <tbody>\n",
       "    <tr>\n",
       "      <th>0</th>\n",
       "      <td>5.0</td>\n",
       "      <td>False</td>\n",
       "      <td>09 11, 2017</td>\n",
       "      <td>A33PVCHCQ2BTN0</td>\n",
       "      <td>B0010ZBORW</td>\n",
       "      <td>{'Color:': ' Nail Brush'}</td>\n",
       "      <td>VW</td>\n",
       "      <td>I really like this nail brush from Urban Spa. ...</td>\n",
       "      <td>Handy nail brush, gets garden dirt out from un...</td>\n",
       "      <td>1505088000</td>\n",
       "      <td>beauty</td>\n",
       "      <td>NaN</td>\n",
       "      <td>NaN</td>\n",
       "    </tr>\n",
       "    <tr>\n",
       "      <th>1</th>\n",
       "      <td>4.0</td>\n",
       "      <td>False</td>\n",
       "      <td>09 2, 2017</td>\n",
       "      <td>A2503LT8PZIHAD</td>\n",
       "      <td>B0010ZBORW</td>\n",
       "      <td>{'Color:': ' Foot File'}</td>\n",
       "      <td>Trouble</td>\n",
       "      <td>This is about the same quality foot file as th...</td>\n",
       "      <td>Basic foot file</td>\n",
       "      <td>1504310400</td>\n",
       "      <td>beauty</td>\n",
       "      <td>NaN</td>\n",
       "      <td>NaN</td>\n",
       "    </tr>\n",
       "    <tr>\n",
       "      <th>2</th>\n",
       "      <td>4.0</td>\n",
       "      <td>False</td>\n",
       "      <td>02 21, 2018</td>\n",
       "      <td>A1MAI0TUIM3R2X</td>\n",
       "      <td>B001LNODUS</td>\n",
       "      <td>{'Color:': ' Body Lotion'}</td>\n",
       "      <td>Princess Bookworm</td>\n",
       "      <td>Nice lavender lotion that absorbs easily in my...</td>\n",
       "      <td>Fragrant Lavender Lotion</td>\n",
       "      <td>1519171200</td>\n",
       "      <td>beauty</td>\n",
       "      <td>NaN</td>\n",
       "      <td>NaN</td>\n",
       "    </tr>\n",
       "  </tbody>\n",
       "</table>\n",
       "</div>"
      ],
      "text/plain": [
       "   overall  verified   reviewTime      reviewerID        asin  \\\n",
       "0      5.0     False  09 11, 2017  A33PVCHCQ2BTN0  B0010ZBORW   \n",
       "1      4.0     False   09 2, 2017  A2503LT8PZIHAD  B0010ZBORW   \n",
       "2      4.0     False  02 21, 2018  A1MAI0TUIM3R2X  B001LNODUS   \n",
       "\n",
       "                        style       reviewerName  \\\n",
       "0   {'Color:': ' Nail Brush'}                 VW   \n",
       "1    {'Color:': ' Foot File'}            Trouble   \n",
       "2  {'Color:': ' Body Lotion'}  Princess Bookworm   \n",
       "\n",
       "                                          reviewText  \\\n",
       "0  I really like this nail brush from Urban Spa. ...   \n",
       "1  This is about the same quality foot file as th...   \n",
       "2  Nice lavender lotion that absorbs easily in my...   \n",
       "\n",
       "                                             summary  unixReviewTime category  \\\n",
       "0  Handy nail brush, gets garden dirt out from un...      1505088000   beauty   \n",
       "1                                    Basic foot file      1504310400   beauty   \n",
       "2                           Fragrant Lavender Lotion      1519171200   beauty   \n",
       "\n",
       "  vote image  \n",
       "0  NaN   NaN  \n",
       "1  NaN   NaN  \n",
       "2  NaN   NaN  "
      ]
     },
     "metadata": {},
     "output_type": "display_data"
    },
    {
     "name": "stdout",
     "output_type": "stream",
     "text": [
      "Shape of the data:  (4164059, 13)\n"
     ]
    }
   ],
   "source": [
    "#  drop column 'Unnamed: 0'\n",
    "amz_rev = amz_rev.drop(columns=['Unnamed: 0'])\n",
    "\n",
    "# initial data view\n",
    "display(amz_rev.head(3))\n",
    "print(\"Shape of the data: \", amz_rev.shape)"
   ]
  },
  {
   "attachments": {},
   "cell_type": "markdown",
   "metadata": {},
   "source": [
    "## <a id='toc2_1_'></a>[Removing Unnecessary Columns](#toc0_)\n",
    "\n",
    "We look at removing columns that are not needed for the analysis.\n"
   ]
  },
  {
   "cell_type": "code",
   "execution_count": 6,
   "metadata": {},
   "outputs": [
    {
     "name": "stdout",
     "output_type": "stream",
     "text": [
      "Columns in the data: \n",
      " Index(['overall', 'verified', 'reviewTime', 'reviewerID', 'asin', 'style',\n",
      "       'reviewerName', 'reviewText', 'summary', 'unixReviewTime', 'category',\n",
      "       'vote', 'image'],\n",
      "      dtype='object')\n"
     ]
    }
   ],
   "source": [
    "# see columns\n",
    "print(\"Columns in the data: \\n\", amz_rev.columns)"
   ]
  },
  {
   "cell_type": "code",
   "execution_count": 7,
   "metadata": {},
   "outputs": [
    {
     "data": {
      "text/html": [
       "<div>\n",
       "<style scoped>\n",
       "    .dataframe tbody tr th:only-of-type {\n",
       "        vertical-align: middle;\n",
       "    }\n",
       "\n",
       "    .dataframe tbody tr th {\n",
       "        vertical-align: top;\n",
       "    }\n",
       "\n",
       "    .dataframe thead th {\n",
       "        text-align: right;\n",
       "    }\n",
       "</style>\n",
       "<table border=\"1\" class=\"dataframe\">\n",
       "  <thead>\n",
       "    <tr style=\"text-align: right;\">\n",
       "      <th></th>\n",
       "      <th>overall</th>\n",
       "      <th>reviewerID</th>\n",
       "      <th>asin</th>\n",
       "      <th>reviewerName</th>\n",
       "      <th>reviewText</th>\n",
       "      <th>unixReviewTime</th>\n",
       "      <th>category</th>\n",
       "    </tr>\n",
       "  </thead>\n",
       "  <tbody>\n",
       "    <tr>\n",
       "      <th>0</th>\n",
       "      <td>5.0</td>\n",
       "      <td>A33PVCHCQ2BTN0</td>\n",
       "      <td>B0010ZBORW</td>\n",
       "      <td>VW</td>\n",
       "      <td>I really like this nail brush from Urban Spa. ...</td>\n",
       "      <td>1505088000</td>\n",
       "      <td>beauty</td>\n",
       "    </tr>\n",
       "    <tr>\n",
       "      <th>1</th>\n",
       "      <td>4.0</td>\n",
       "      <td>A2503LT8PZIHAD</td>\n",
       "      <td>B0010ZBORW</td>\n",
       "      <td>Trouble</td>\n",
       "      <td>This is about the same quality foot file as th...</td>\n",
       "      <td>1504310400</td>\n",
       "      <td>beauty</td>\n",
       "    </tr>\n",
       "    <tr>\n",
       "      <th>2</th>\n",
       "      <td>4.0</td>\n",
       "      <td>A1MAI0TUIM3R2X</td>\n",
       "      <td>B001LNODUS</td>\n",
       "      <td>Princess Bookworm</td>\n",
       "      <td>Nice lavender lotion that absorbs easily in my...</td>\n",
       "      <td>1519171200</td>\n",
       "      <td>beauty</td>\n",
       "    </tr>\n",
       "  </tbody>\n",
       "</table>\n",
       "</div>"
      ],
      "text/plain": [
       "   overall      reviewerID        asin       reviewerName  \\\n",
       "0      5.0  A33PVCHCQ2BTN0  B0010ZBORW                 VW   \n",
       "1      4.0  A2503LT8PZIHAD  B0010ZBORW            Trouble   \n",
       "2      4.0  A1MAI0TUIM3R2X  B001LNODUS  Princess Bookworm   \n",
       "\n",
       "                                          reviewText  unixReviewTime category  \n",
       "0  I really like this nail brush from Urban Spa. ...      1505088000   beauty  \n",
       "1  This is about the same quality foot file as th...      1504310400   beauty  \n",
       "2  Nice lavender lotion that absorbs easily in my...      1519171200   beauty  "
      ]
     },
     "metadata": {},
     "output_type": "display_data"
    }
   ],
   "source": [
    "# remove certain columns\n",
    "amz_rev.drop(['verified', 'style', 'reviewTime', 'vote', 'summary', 'image'], axis=1, inplace=True)\n",
    "\n",
    "# see updated dataframe\n",
    "display(amz_rev.head(3))"
   ]
  },
  {
   "cell_type": "code",
   "execution_count": 8,
   "metadata": {},
   "outputs": [
    {
     "data": {
      "text/html": [
       "<div>\n",
       "<style scoped>\n",
       "    .dataframe tbody tr th:only-of-type {\n",
       "        vertical-align: middle;\n",
       "    }\n",
       "\n",
       "    .dataframe tbody tr th {\n",
       "        vertical-align: top;\n",
       "    }\n",
       "\n",
       "    .dataframe thead th {\n",
       "        text-align: right;\n",
       "    }\n",
       "</style>\n",
       "<table border=\"1\" class=\"dataframe\">\n",
       "  <thead>\n",
       "    <tr style=\"text-align: right;\">\n",
       "      <th></th>\n",
       "      <th>reviewerID</th>\n",
       "      <th>reviewerName</th>\n",
       "      <th>unixReviewTime</th>\n",
       "      <th>asin</th>\n",
       "      <th>reviewText</th>\n",
       "      <th>category</th>\n",
       "      <th>overall</th>\n",
       "    </tr>\n",
       "  </thead>\n",
       "  <tbody>\n",
       "    <tr>\n",
       "      <th>696553</th>\n",
       "      <td>A12R54MKO17TW0</td>\n",
       "      <td>J. Bynum</td>\n",
       "      <td>1326067200</td>\n",
       "      <td>0001393774</td>\n",
       "      <td>Keith Green / Songs for the Shepherd:  His pre...</td>\n",
       "      <td>cds_and_vinyl</td>\n",
       "      <td>5.0</td>\n",
       "    </tr>\n",
       "    <tr>\n",
       "      <th>840939</th>\n",
       "      <td>A3SNL7UJY7GWBI</td>\n",
       "      <td>Lady Leatherneck</td>\n",
       "      <td>1455148800</td>\n",
       "      <td>0001393774</td>\n",
       "      <td>THank you Jesus Lord God, that brother Green's...</td>\n",
       "      <td>cds_and_vinyl</td>\n",
       "      <td>5.0</td>\n",
       "    </tr>\n",
       "    <tr>\n",
       "      <th>887328</th>\n",
       "      <td>AEKGGV851HY3K</td>\n",
       "      <td>Avid Reader</td>\n",
       "      <td>1130803200</td>\n",
       "      <td>0001393774</td>\n",
       "      <td>Keith Green had a passionate love for Jesus.  ...</td>\n",
       "      <td>cds_and_vinyl</td>\n",
       "      <td>5.0</td>\n",
       "    </tr>\n",
       "  </tbody>\n",
       "</table>\n",
       "</div>"
      ],
      "text/plain": [
       "            reviewerID      reviewerName  unixReviewTime        asin  \\\n",
       "696553  A12R54MKO17TW0          J. Bynum      1326067200  0001393774   \n",
       "840939  A3SNL7UJY7GWBI  Lady Leatherneck      1455148800  0001393774   \n",
       "887328   AEKGGV851HY3K       Avid Reader      1130803200  0001393774   \n",
       "\n",
       "                                               reviewText       category  \\\n",
       "696553  Keith Green / Songs for the Shepherd:  His pre...  cds_and_vinyl   \n",
       "840939  THank you Jesus Lord God, that brother Green's...  cds_and_vinyl   \n",
       "887328  Keith Green had a passionate love for Jesus.  ...  cds_and_vinyl   \n",
       "\n",
       "        overall  \n",
       "696553      5.0  \n",
       "840939      5.0  \n",
       "887328      5.0  "
      ]
     },
     "metadata": {},
     "output_type": "display_data"
    }
   ],
   "source": [
    "# sort and order the data\n",
    "amz_rev.sort_values(by=['asin', 'overall'], ascending=[True, False], inplace=True)\n",
    "\n",
    "# reorder columns\n",
    "amz_rev = amz_rev[['reviewerID', 'reviewerName', 'unixReviewTime', 'asin', 'reviewText', 'category', 'overall']]\n",
    "\n",
    "# see updated dataframe\n",
    "display(amz_rev.head(3))"
   ]
  },
  {
   "attachments": {},
   "cell_type": "markdown",
   "metadata": {},
   "source": [
    "## <a id='toc2_2_'></a>[NaN/Missing Values in the Data](#toc0_)\n",
    "\n",
    "We look at NaN values in the data. If any review (row) has missing values (NaN) in any column listed here:\n",
    "    - (description, title, brand, price)\n",
    "then we remove that review (row) from the dataset. \n",
    "\n"
   ]
  },
  {
   "cell_type": "code",
   "execution_count": 9,
   "metadata": {},
   "outputs": [
    {
     "data": {
      "text/plain": [
       "reviewerID           0\n",
       "reviewerName       791\n",
       "unixReviewTime       0\n",
       "asin                 0\n",
       "reviewText        1391\n",
       "category             0\n",
       "overall              0\n",
       "dtype: int64"
      ]
     },
     "execution_count": 9,
     "metadata": {},
     "output_type": "execute_result"
    }
   ],
   "source": [
    "# how many nulls in each column\n",
    "amz_rev.isnull().sum()"
   ]
  },
  {
   "cell_type": "code",
   "execution_count": 10,
   "metadata": {},
   "outputs": [],
   "source": [
    "# remove rows with null values\n",
    "amz_rev = amz_rev.dropna()"
   ]
  },
  {
   "cell_type": "code",
   "execution_count": 12,
   "metadata": {},
   "outputs": [
    {
     "name": "stdout",
     "output_type": "stream",
     "text": [
      "Shape of the data:  (4161877, 7)\n",
      "\n",
      "Number of missing values:  0\n",
      "\n",
      "Percentage of missing values in each column: \n",
      " reviewerID        0.0\n",
      "reviewerName      0.0\n",
      "unixReviewTime    0.0\n",
      "asin              0.0\n",
      "reviewText        0.0\n",
      "category          0.0\n",
      "overall           0.0\n",
      "dtype: float64\n",
      "\n",
      "Percentage of missing values in each category: \n",
      " category\n",
      "appliances                    0.0\n",
      "arts_crafts                   0.0\n",
      "automotive                    0.0\n",
      "beauty                        0.0\n",
      "cds_and_vinyl                 0.0\n",
      "cell_phones                   0.0\n",
      "clothing_shoes_and_jewelry    0.0\n",
      "digital_music                 0.0\n",
      "electronics                   0.0\n",
      "fashion                       0.0\n",
      "gift_cards                    0.0\n",
      "grocery_and_gourmet_food      0.0\n",
      "home_and_kitchen              0.0\n",
      "industrial                    0.0\n",
      "kindle_store                  0.0\n",
      "luxury_beauty                 0.0\n",
      "magazine_subscriptions        0.0\n",
      "movies_and_tv                 0.0\n",
      "musical_instruments           0.0\n",
      "office_products               0.0\n",
      "patio_lawn_and_garden         0.0\n",
      "pet_supplies                  0.0\n",
      "prime_pantry                  0.0\n",
      "software                      0.0\n",
      "sports_and_outdoors           0.0\n",
      "tools_and_home_improvement    0.0\n",
      "toys_and_games                0.0\n",
      "video_games                   0.0\n",
      "dtype: float64\n"
     ]
    }
   ],
   "source": [
    "# shape of the data\n",
    "print(\"Shape of the data: \", amz_rev.shape)\n",
    "\n",
    "# see if any missing values\n",
    "print(\"\\nNumber of missing values: \", amz_rev.isnull().sum().sum())\n",
    "\n",
    "# show count columns have missing values (as a percentage)\n",
    "print(\"\\nPercentage of missing values in each column: \\n\", round(amz_rev.isnull().sum()/len(amz_rev)*100,2))\n",
    "\n",
    "# show count of rows with missing data per category (as a percentage)\n",
    "print(\"\\nPercentage of missing values in each category: \\n\", round(amz_rev.groupby(['category']).apply(lambda x: x.isnull().sum()).sum(axis=1)/len(amz_rev)*100,2))"
   ]
  },
  {
   "attachments": {},
   "cell_type": "markdown",
   "metadata": {},
   "source": [
    "## <a id='toc2_3_'></a>[Duplicates in the Data](#toc0_)\n",
    "\n",
    "We looking at duplicates in the data.\n",
    "\n",
    "A duplicate is defined as a review (row) that has the same values across all columns. We remove duplicates from the dataset."
   ]
  },
  {
   "cell_type": "code",
   "execution_count": 13,
   "metadata": {},
   "outputs": [
    {
     "name": "stdout",
     "output_type": "stream",
     "text": [
      "Number of duplicates:  126374\n"
     ]
    },
    {
     "data": {
      "text/html": [
       "<div>\n",
       "<style scoped>\n",
       "    .dataframe tbody tr th:only-of-type {\n",
       "        vertical-align: middle;\n",
       "    }\n",
       "\n",
       "    .dataframe tbody tr th {\n",
       "        vertical-align: top;\n",
       "    }\n",
       "\n",
       "    .dataframe thead th {\n",
       "        text-align: right;\n",
       "    }\n",
       "</style>\n",
       "<table border=\"1\" class=\"dataframe\">\n",
       "  <thead>\n",
       "    <tr style=\"text-align: right;\">\n",
       "      <th></th>\n",
       "      <th>reviewerID</th>\n",
       "      <th>reviewerName</th>\n",
       "      <th>unixReviewTime</th>\n",
       "      <th>asin</th>\n",
       "      <th>reviewText</th>\n",
       "      <th>category</th>\n",
       "      <th>overall</th>\n",
       "    </tr>\n",
       "  </thead>\n",
       "  <tbody>\n",
       "    <tr>\n",
       "      <th>1712045</th>\n",
       "      <td>AIYVMK30Q2G1L</td>\n",
       "      <td>Monica Lambert</td>\n",
       "      <td>1465430400</td>\n",
       "      <td>0439499887</td>\n",
       "      <td>a gift and she loved it</td>\n",
       "      <td>office_products</td>\n",
       "      <td>5.0</td>\n",
       "    </tr>\n",
       "    <tr>\n",
       "      <th>1756241</th>\n",
       "      <td>AIYVMK30Q2G1L</td>\n",
       "      <td>Monica Lambert</td>\n",
       "      <td>1465430400</td>\n",
       "      <td>0439499887</td>\n",
       "      <td>a gift and she loved it</td>\n",
       "      <td>office_products</td>\n",
       "      <td>5.0</td>\n",
       "    </tr>\n",
       "    <tr>\n",
       "      <th>1770904</th>\n",
       "      <td>A38X1A0N3BJ6EY</td>\n",
       "      <td>Raymond K.</td>\n",
       "      <td>1451174400</td>\n",
       "      <td>0439499887</td>\n",
       "      <td>Granddaughter loves the book.</td>\n",
       "      <td>office_products</td>\n",
       "      <td>5.0</td>\n",
       "    </tr>\n",
       "    <tr>\n",
       "      <th>1870218</th>\n",
       "      <td>A38X1A0N3BJ6EY</td>\n",
       "      <td>Raymond K.</td>\n",
       "      <td>1451174400</td>\n",
       "      <td>0439499887</td>\n",
       "      <td>Granddaughter loves the book.</td>\n",
       "      <td>office_products</td>\n",
       "      <td>5.0</td>\n",
       "    </tr>\n",
       "  </tbody>\n",
       "</table>\n",
       "</div>"
      ],
      "text/plain": [
       "             reviewerID    reviewerName  unixReviewTime        asin  \\\n",
       "1712045   AIYVMK30Q2G1L  Monica Lambert      1465430400  0439499887   \n",
       "1756241   AIYVMK30Q2G1L  Monica Lambert      1465430400  0439499887   \n",
       "1770904  A38X1A0N3BJ6EY      Raymond K.      1451174400  0439499887   \n",
       "1870218  A38X1A0N3BJ6EY      Raymond K.      1451174400  0439499887   \n",
       "\n",
       "                            reviewText         category  overall  \n",
       "1712045        a gift and she loved it  office_products      5.0  \n",
       "1756241        a gift and she loved it  office_products      5.0  \n",
       "1770904  Granddaughter loves the book.  office_products      5.0  \n",
       "1870218  Granddaughter loves the book.  office_products      5.0  "
      ]
     },
     "execution_count": 13,
     "metadata": {},
     "output_type": "execute_result"
    }
   ],
   "source": [
    "# see if any duplicates\n",
    "print(\"Number of duplicates: \", amz_rev.duplicated().sum())\n",
    "\n",
    "# see duplicates\n",
    "amz_rev[amz_rev.duplicated(keep=False)].sort_values(by=['asin']).head(4)"
   ]
  },
  {
   "cell_type": "code",
   "execution_count": 14,
   "metadata": {},
   "outputs": [
    {
     "data": {
      "text/html": [
       "<div>\n",
       "<style scoped>\n",
       "    .dataframe tbody tr th:only-of-type {\n",
       "        vertical-align: middle;\n",
       "    }\n",
       "\n",
       "    .dataframe tbody tr th {\n",
       "        vertical-align: top;\n",
       "    }\n",
       "\n",
       "    .dataframe thead th {\n",
       "        text-align: right;\n",
       "    }\n",
       "</style>\n",
       "<table border=\"1\" class=\"dataframe\">\n",
       "  <thead>\n",
       "    <tr style=\"text-align: right;\">\n",
       "      <th></th>\n",
       "      <th>reviewerID</th>\n",
       "      <th>reviewerName</th>\n",
       "      <th>unixReviewTime</th>\n",
       "      <th>asin</th>\n",
       "      <th>reviewText</th>\n",
       "      <th>category</th>\n",
       "      <th>overall</th>\n",
       "    </tr>\n",
       "  </thead>\n",
       "  <tbody>\n",
       "    <tr>\n",
       "      <th>696553</th>\n",
       "      <td>A12R54MKO17TW0</td>\n",
       "      <td>J. Bynum</td>\n",
       "      <td>1326067200</td>\n",
       "      <td>0001393774</td>\n",
       "      <td>Keith Green / Songs for the Shepherd:  His pre...</td>\n",
       "      <td>cds_and_vinyl</td>\n",
       "      <td>5.0</td>\n",
       "    </tr>\n",
       "    <tr>\n",
       "      <th>840939</th>\n",
       "      <td>A3SNL7UJY7GWBI</td>\n",
       "      <td>Lady Leatherneck</td>\n",
       "      <td>1455148800</td>\n",
       "      <td>0001393774</td>\n",
       "      <td>THank you Jesus Lord God, that brother Green's...</td>\n",
       "      <td>cds_and_vinyl</td>\n",
       "      <td>5.0</td>\n",
       "    </tr>\n",
       "    <tr>\n",
       "      <th>887328</th>\n",
       "      <td>AEKGGV851HY3K</td>\n",
       "      <td>Avid Reader</td>\n",
       "      <td>1130803200</td>\n",
       "      <td>0001393774</td>\n",
       "      <td>Keith Green had a passionate love for Jesus.  ...</td>\n",
       "      <td>cds_and_vinyl</td>\n",
       "      <td>5.0</td>\n",
       "    </tr>\n",
       "  </tbody>\n",
       "</table>\n",
       "</div>"
      ],
      "text/plain": [
       "            reviewerID      reviewerName  unixReviewTime        asin  \\\n",
       "696553  A12R54MKO17TW0          J. Bynum      1326067200  0001393774   \n",
       "840939  A3SNL7UJY7GWBI  Lady Leatherneck      1455148800  0001393774   \n",
       "887328   AEKGGV851HY3K       Avid Reader      1130803200  0001393774   \n",
       "\n",
       "                                               reviewText       category  \\\n",
       "696553  Keith Green / Songs for the Shepherd:  His pre...  cds_and_vinyl   \n",
       "840939  THank you Jesus Lord God, that brother Green's...  cds_and_vinyl   \n",
       "887328  Keith Green had a passionate love for Jesus.  ...  cds_and_vinyl   \n",
       "\n",
       "        overall  \n",
       "696553      5.0  \n",
       "840939      5.0  \n",
       "887328      5.0  "
      ]
     },
     "metadata": {},
     "output_type": "display_data"
    },
    {
     "name": "stdout",
     "output_type": "stream",
     "text": [
      "Shape of the data:  (4035503, 7)\n"
     ]
    }
   ],
   "source": [
    "# remove duplicates\n",
    "amz_rev.drop_duplicates(inplace=True)\n",
    "\n",
    "# see updated dataframe\n",
    "display(amz_rev.head(3))\n",
    "\n",
    "# shape of the data\n",
    "print(\"Shape of the data: \", amz_rev.shape)"
   ]
  },
  {
   "cell_type": "code",
   "execution_count": 25,
   "metadata": {},
   "outputs": [
    {
     "data": {
      "text/html": [
       "<div>\n",
       "<style scoped>\n",
       "    .dataframe tbody tr th:only-of-type {\n",
       "        vertical-align: middle;\n",
       "    }\n",
       "\n",
       "    .dataframe tbody tr th {\n",
       "        vertical-align: top;\n",
       "    }\n",
       "\n",
       "    .dataframe thead th {\n",
       "        text-align: right;\n",
       "    }\n",
       "</style>\n",
       "<table border=\"1\" class=\"dataframe\">\n",
       "  <thead>\n",
       "    <tr style=\"text-align: right;\">\n",
       "      <th></th>\n",
       "      <th>reviewerID</th>\n",
       "      <th>reviewerName</th>\n",
       "      <th>unixReviewTime</th>\n",
       "      <th>asin</th>\n",
       "      <th>reviewText</th>\n",
       "      <th>category</th>\n",
       "      <th>overall</th>\n",
       "    </tr>\n",
       "  </thead>\n",
       "  <tbody>\n",
       "    <tr>\n",
       "      <th>696553</th>\n",
       "      <td>A12R54MKO17TW0</td>\n",
       "      <td>J. Bynum</td>\n",
       "      <td>1326067200</td>\n",
       "      <td>0001393774</td>\n",
       "      <td>Keith Green / Songs for the Shepherd:  His pre...</td>\n",
       "      <td>cds_and_vinyl</td>\n",
       "      <td>5.0</td>\n",
       "    </tr>\n",
       "    <tr>\n",
       "      <th>840939</th>\n",
       "      <td>A3SNL7UJY7GWBI</td>\n",
       "      <td>Lady Leatherneck</td>\n",
       "      <td>1455148800</td>\n",
       "      <td>0001393774</td>\n",
       "      <td>THank you Jesus Lord God, that brother Green's...</td>\n",
       "      <td>cds_and_vinyl</td>\n",
       "      <td>5.0</td>\n",
       "    </tr>\n",
       "    <tr>\n",
       "      <th>887328</th>\n",
       "      <td>AEKGGV851HY3K</td>\n",
       "      <td>Avid Reader</td>\n",
       "      <td>1130803200</td>\n",
       "      <td>0001393774</td>\n",
       "      <td>Keith Green had a passionate love for Jesus.  ...</td>\n",
       "      <td>cds_and_vinyl</td>\n",
       "      <td>5.0</td>\n",
       "    </tr>\n",
       "    <tr>\n",
       "      <th>3587154</th>\n",
       "      <td>AFR9EUQIILJLC</td>\n",
       "      <td>libertyinmo</td>\n",
       "      <td>1421625600</td>\n",
       "      <td>0001526863</td>\n",
       "      <td>Great way for children and adults to memorize ...</td>\n",
       "      <td>movies_and_tv</td>\n",
       "      <td>5.0</td>\n",
       "    </tr>\n",
       "    <tr>\n",
       "      <th>3713974</th>\n",
       "      <td>A1J0AEZCHZIWOL</td>\n",
       "      <td>GBC93</td>\n",
       "      <td>1425859200</td>\n",
       "      <td>0005000009</td>\n",
       "      <td>Great documentary! Very recommended.</td>\n",
       "      <td>movies_and_tv</td>\n",
       "      <td>5.0</td>\n",
       "    </tr>\n",
       "    <tr>\n",
       "      <th>...</th>\n",
       "      <td>...</td>\n",
       "      <td>...</td>\n",
       "      <td>...</td>\n",
       "      <td>...</td>\n",
       "      <td>...</td>\n",
       "      <td>...</td>\n",
       "      <td>...</td>\n",
       "    </tr>\n",
       "    <tr>\n",
       "      <th>974835</th>\n",
       "      <td>A5CNVTMYJXH53</td>\n",
       "      <td>komelina</td>\n",
       "      <td>1471478400</td>\n",
       "      <td>B01HJH9IN6</td>\n",
       "      <td>This case is nice but definitely for looks rat...</td>\n",
       "      <td>cell_phones</td>\n",
       "      <td>3.0</td>\n",
       "    </tr>\n",
       "    <tr>\n",
       "      <th>1040004</th>\n",
       "      <td>A4DTRG6NC8CED</td>\n",
       "      <td>Cyn</td>\n",
       "      <td>1472688000</td>\n",
       "      <td>B01HJH9IN6</td>\n",
       "      <td>Just received it and it's VERY thin. No need t...</td>\n",
       "      <td>cell_phones</td>\n",
       "      <td>1.0</td>\n",
       "    </tr>\n",
       "    <tr>\n",
       "      <th>1137418</th>\n",
       "      <td>A1E0QSD4PGWH96</td>\n",
       "      <td>BlueFug8</td>\n",
       "      <td>1477440000</td>\n",
       "      <td>B01HJHC4WS</td>\n",
       "      <td>There's no better way to say this without bein...</td>\n",
       "      <td>clothing_shoes_and_jewelry</td>\n",
       "      <td>5.0</td>\n",
       "    </tr>\n",
       "    <tr>\n",
       "      <th>2842280</th>\n",
       "      <td>A4E9SIJIN79V2</td>\n",
       "      <td>tom poulton</td>\n",
       "      <td>1474675200</td>\n",
       "      <td>B01HJHS73S</td>\n",
       "      <td>Everything it is advertised to be.  Really sol...</td>\n",
       "      <td>tools_and_home_improvement</td>\n",
       "      <td>5.0</td>\n",
       "    </tr>\n",
       "    <tr>\n",
       "      <th>506315</th>\n",
       "      <td>ADO8ACST9FF9T</td>\n",
       "      <td>Elvin V.</td>\n",
       "      <td>1526515200</td>\n",
       "      <td>B01HJI17Y8</td>\n",
       "      <td>Excellent</td>\n",
       "      <td>automotive</td>\n",
       "      <td>5.0</td>\n",
       "    </tr>\n",
       "  </tbody>\n",
       "</table>\n",
       "<p>3968465 rows × 7 columns</p>\n",
       "</div>"
      ],
      "text/plain": [
       "             reviewerID      reviewerName  unixReviewTime        asin  \\\n",
       "696553   A12R54MKO17TW0          J. Bynum      1326067200  0001393774   \n",
       "840939   A3SNL7UJY7GWBI  Lady Leatherneck      1455148800  0001393774   \n",
       "887328    AEKGGV851HY3K       Avid Reader      1130803200  0001393774   \n",
       "3587154   AFR9EUQIILJLC       libertyinmo      1421625600  0001526863   \n",
       "3713974  A1J0AEZCHZIWOL             GBC93      1425859200  0005000009   \n",
       "...                 ...               ...             ...         ...   \n",
       "974835    A5CNVTMYJXH53          komelina      1471478400  B01HJH9IN6   \n",
       "1040004   A4DTRG6NC8CED               Cyn      1472688000  B01HJH9IN6   \n",
       "1137418  A1E0QSD4PGWH96          BlueFug8      1477440000  B01HJHC4WS   \n",
       "2842280   A4E9SIJIN79V2       tom poulton      1474675200  B01HJHS73S   \n",
       "506315    ADO8ACST9FF9T          Elvin V.      1526515200  B01HJI17Y8   \n",
       "\n",
       "                                                reviewText  \\\n",
       "696553   Keith Green / Songs for the Shepherd:  His pre...   \n",
       "840939   THank you Jesus Lord God, that brother Green's...   \n",
       "887328   Keith Green had a passionate love for Jesus.  ...   \n",
       "3587154  Great way for children and adults to memorize ...   \n",
       "3713974               Great documentary! Very recommended.   \n",
       "...                                                    ...   \n",
       "974835   This case is nice but definitely for looks rat...   \n",
       "1040004  Just received it and it's VERY thin. No need t...   \n",
       "1137418  There's no better way to say this without bein...   \n",
       "2842280  Everything it is advertised to be.  Really sol...   \n",
       "506315                                           Excellent   \n",
       "\n",
       "                           category  overall  \n",
       "696553                cds_and_vinyl      5.0  \n",
       "840939                cds_and_vinyl      5.0  \n",
       "887328                cds_and_vinyl      5.0  \n",
       "3587154               movies_and_tv      5.0  \n",
       "3713974               movies_and_tv      5.0  \n",
       "...                             ...      ...  \n",
       "974835                  cell_phones      3.0  \n",
       "1040004                 cell_phones      1.0  \n",
       "1137418  clothing_shoes_and_jewelry      5.0  \n",
       "2842280  tools_and_home_improvement      5.0  \n",
       "506315                   automotive      5.0  \n",
       "\n",
       "[3968465 rows x 7 columns]"
      ]
     },
     "execution_count": 25,
     "metadata": {},
     "output_type": "execute_result"
    }
   ],
   "source": [
    "amz_rev.groupby('reviewerID').filter(lambda x: len(x) >= 10)\n"
   ]
  },
  {
   "cell_type": "code",
   "execution_count": 26,
   "metadata": {},
   "outputs": [
    {
     "name": "stdout",
     "output_type": "stream",
     "text": [
      "Shape of filtered data: (3695125, 7)\n"
     ]
    }
   ],
   "source": [
    "# Count how many reviews per reviewer\n",
    "review_counts = amz_rev.groupby('reviewerID').count()\n",
    "\n",
    "# Filter the DataFrame to keep only users with over 10 reviews\n",
    "amz_rev_filtered = amz_rev[amz_rev['reviewerID'].isin(review_counts[review_counts['asin'] > 10].index)]\n",
    "\n",
    "# check shape  \n",
    "print(\"Shape of filtered data:\", amz_rev_filtered.shape)"
   ]
  },
  {
   "attachments": {},
   "cell_type": "markdown",
   "metadata": {},
   "source": [
    "## <a id='toc2_5_'></a>[Standardizing and Checking Data Types](#toc0_)\n",
    "\n",
    "We turn to standardizing and checking data types. "
   ]
  },
  {
   "cell_type": "code",
   "execution_count": 28,
   "metadata": {},
   "outputs": [
    {
     "data": {
      "text/html": [
       "<div>\n",
       "<style scoped>\n",
       "    .dataframe tbody tr th:only-of-type {\n",
       "        vertical-align: middle;\n",
       "    }\n",
       "\n",
       "    .dataframe tbody tr th {\n",
       "        vertical-align: top;\n",
       "    }\n",
       "\n",
       "    .dataframe thead th {\n",
       "        text-align: right;\n",
       "    }\n",
       "</style>\n",
       "<table border=\"1\" class=\"dataframe\">\n",
       "  <thead>\n",
       "    <tr style=\"text-align: right;\">\n",
       "      <th></th>\n",
       "      <th>reviewerID</th>\n",
       "      <th>reviewerName</th>\n",
       "      <th>reviewTime</th>\n",
       "      <th>asin</th>\n",
       "      <th>reviewText</th>\n",
       "      <th>category</th>\n",
       "      <th>overall</th>\n",
       "    </tr>\n",
       "  </thead>\n",
       "  <tbody>\n",
       "    <tr>\n",
       "      <th>696553</th>\n",
       "      <td>A12R54MKO17TW0</td>\n",
       "      <td>J. Bynum</td>\n",
       "      <td>2012-01-09</td>\n",
       "      <td>0001393774</td>\n",
       "      <td>Keith Green / Songs for the Shepherd:  His pre...</td>\n",
       "      <td>cds_and_vinyl</td>\n",
       "      <td>5.0</td>\n",
       "    </tr>\n",
       "    <tr>\n",
       "      <th>840939</th>\n",
       "      <td>A3SNL7UJY7GWBI</td>\n",
       "      <td>Lady Leatherneck</td>\n",
       "      <td>2016-02-11</td>\n",
       "      <td>0001393774</td>\n",
       "      <td>THank you Jesus Lord God, that brother Green's...</td>\n",
       "      <td>cds_and_vinyl</td>\n",
       "      <td>5.0</td>\n",
       "    </tr>\n",
       "    <tr>\n",
       "      <th>887328</th>\n",
       "      <td>AEKGGV851HY3K</td>\n",
       "      <td>Avid Reader</td>\n",
       "      <td>2005-11-01</td>\n",
       "      <td>0001393774</td>\n",
       "      <td>Keith Green had a passionate love for Jesus.  ...</td>\n",
       "      <td>cds_and_vinyl</td>\n",
       "      <td>5.0</td>\n",
       "    </tr>\n",
       "  </tbody>\n",
       "</table>\n",
       "</div>"
      ],
      "text/plain": [
       "            reviewerID      reviewerName reviewTime        asin  \\\n",
       "696553  A12R54MKO17TW0          J. Bynum 2012-01-09  0001393774   \n",
       "840939  A3SNL7UJY7GWBI  Lady Leatherneck 2016-02-11  0001393774   \n",
       "887328   AEKGGV851HY3K       Avid Reader 2005-11-01  0001393774   \n",
       "\n",
       "                                               reviewText       category  \\\n",
       "696553  Keith Green / Songs for the Shepherd:  His pre...  cds_and_vinyl   \n",
       "840939  THank you Jesus Lord God, that brother Green's...  cds_and_vinyl   \n",
       "887328  Keith Green had a passionate love for Jesus.  ...  cds_and_vinyl   \n",
       "\n",
       "        overall  \n",
       "696553      5.0  \n",
       "840939      5.0  \n",
       "887328      5.0  "
      ]
     },
     "metadata": {},
     "output_type": "display_data"
    }
   ],
   "source": [
    "# change unixReviewTime to datetime\n",
    "amz_rev['unixReviewTime'] = pd.to_datetime(amz_rev['unixReviewTime'], unit='s')\n",
    "\n",
    "# rename column: unixReviewTime to reviewTime\n",
    "amz_rev.rename(columns={'unixReviewTime': 'reviewTime'}, inplace=True)\n",
    "\n",
    "# see updated dataframe\n",
    "display(amz_rev.head(3))"
   ]
  },
  {
   "cell_type": "code",
   "execution_count": 29,
   "metadata": {},
   "outputs": [
    {
     "data": {
      "text/plain": [
       "reviewerID              object\n",
       "reviewerName            object\n",
       "reviewTime      datetime64[ns]\n",
       "asin                    object\n",
       "reviewText              object\n",
       "category                object\n",
       "overall                float64\n",
       "dtype: object"
      ]
     },
     "execution_count": 29,
     "metadata": {},
     "output_type": "execute_result"
    }
   ],
   "source": [
    "# check data types\n",
    "amz_rev.dtypes"
   ]
  },
  {
   "attachments": {},
   "cell_type": "markdown",
   "metadata": {},
   "source": [
    "## <a id='toc2_6_'></a>[Normalizing Data](#toc0_)\n",
    "\n",
    "We look at normalizing data (price, votes, etc. ) We used min-max. "
   ]
  },
  {
   "cell_type": "code",
   "execution_count": 30,
   "metadata": {},
   "outputs": [
    {
     "data": {
      "text/plain": [
       "count    4.035503e+06\n",
       "mean     8.537596e-01\n",
       "std      2.572161e-01\n",
       "min      0.000000e+00\n",
       "25%      7.500000e-01\n",
       "50%      1.000000e+00\n",
       "75%      1.000000e+00\n",
       "max      1.000000e+00\n",
       "Name: normalized_rating, dtype: float64"
      ]
     },
     "execution_count": 30,
     "metadata": {},
     "output_type": "execute_result"
    }
   ],
   "source": [
    "# get min and max for ratings\n",
    "min_rating = amz_rev['overall'].min()\n",
    "max_rating = amz_rev['overall'].max()\n",
    "\n",
    "# Normalize the ratings to a range from 0 to 1\n",
    "amz_rev['normalized_rating'] = (amz_rev['overall'] - min_rating) / (max_rating - min_rating)\n",
    "\n",
    "# see updated dataframe\n",
    "amz_rev.head(3)\n",
    "\n",
    "# see summary of normalized ratings\n",
    "amz_rev['normalized_rating'].describe()\n"
   ]
  },
  {
   "attachments": {},
   "cell_type": "markdown",
   "metadata": {},
   "source": [
    "The '`normalized_rating`' column will contain the normalized ratings between 0 and 1, where 0 corresponds to the minimum rating and 1 corresponds to the maximum rating. Note, the '`normalized_rating`' column is created by subtracting the minimum value from each rating and dividing it by the range (maximum value minus minimum value).\n",
    "\n",
    "Ratings which were 1 are now 0 and ratings which were 5 are now 1 etc. "
   ]
  },
  {
   "cell_type": "code",
   "execution_count": 31,
   "metadata": {},
   "outputs": [
    {
     "data": {
      "text/html": [
       "<div>\n",
       "<style scoped>\n",
       "    .dataframe tbody tr th:only-of-type {\n",
       "        vertical-align: middle;\n",
       "    }\n",
       "\n",
       "    .dataframe tbody tr th {\n",
       "        vertical-align: top;\n",
       "    }\n",
       "\n",
       "    .dataframe thead th {\n",
       "        text-align: right;\n",
       "    }\n",
       "</style>\n",
       "<table border=\"1\" class=\"dataframe\">\n",
       "  <thead>\n",
       "    <tr style=\"text-align: right;\">\n",
       "      <th></th>\n",
       "      <th>reviewerID</th>\n",
       "      <th>reviewerName</th>\n",
       "      <th>reviewTime</th>\n",
       "      <th>asin</th>\n",
       "      <th>reviewText</th>\n",
       "      <th>category</th>\n",
       "      <th>overall</th>\n",
       "      <th>normalized_rating</th>\n",
       "    </tr>\n",
       "  </thead>\n",
       "  <tbody>\n",
       "    <tr>\n",
       "      <th>696553</th>\n",
       "      <td>A12R54MKO17TW0</td>\n",
       "      <td>J. Bynum</td>\n",
       "      <td>2012-01-09</td>\n",
       "      <td>0001393774</td>\n",
       "      <td>Keith Green / Songs for the Shepherd:  His pre...</td>\n",
       "      <td>cds_and_vinyl</td>\n",
       "      <td>5.0</td>\n",
       "      <td>1.0</td>\n",
       "    </tr>\n",
       "    <tr>\n",
       "      <th>840939</th>\n",
       "      <td>A3SNL7UJY7GWBI</td>\n",
       "      <td>Lady Leatherneck</td>\n",
       "      <td>2016-02-11</td>\n",
       "      <td>0001393774</td>\n",
       "      <td>THank you Jesus Lord God, that brother Green's...</td>\n",
       "      <td>cds_and_vinyl</td>\n",
       "      <td>5.0</td>\n",
       "      <td>1.0</td>\n",
       "    </tr>\n",
       "    <tr>\n",
       "      <th>887328</th>\n",
       "      <td>AEKGGV851HY3K</td>\n",
       "      <td>Avid Reader</td>\n",
       "      <td>2005-11-01</td>\n",
       "      <td>0001393774</td>\n",
       "      <td>Keith Green had a passionate love for Jesus.  ...</td>\n",
       "      <td>cds_and_vinyl</td>\n",
       "      <td>5.0</td>\n",
       "      <td>1.0</td>\n",
       "    </tr>\n",
       "  </tbody>\n",
       "</table>\n",
       "</div>"
      ],
      "text/plain": [
       "            reviewerID      reviewerName reviewTime        asin  \\\n",
       "696553  A12R54MKO17TW0          J. Bynum 2012-01-09  0001393774   \n",
       "840939  A3SNL7UJY7GWBI  Lady Leatherneck 2016-02-11  0001393774   \n",
       "887328   AEKGGV851HY3K       Avid Reader 2005-11-01  0001393774   \n",
       "\n",
       "                                               reviewText       category  \\\n",
       "696553  Keith Green / Songs for the Shepherd:  His pre...  cds_and_vinyl   \n",
       "840939  THank you Jesus Lord God, that brother Green's...  cds_and_vinyl   \n",
       "887328  Keith Green had a passionate love for Jesus.  ...  cds_and_vinyl   \n",
       "\n",
       "        overall  normalized_rating  \n",
       "696553      5.0                1.0  \n",
       "840939      5.0                1.0  \n",
       "887328      5.0                1.0  "
      ]
     },
     "metadata": {},
     "output_type": "display_data"
    }
   ],
   "source": [
    "# see updated dataframe\n",
    "display(amz_rev.head(3))\n"
   ]
  },
  {
   "attachments": {},
   "cell_type": "markdown",
   "metadata": {},
   "source": [
    "# <a id='toc4_'></a>[Dealing with Text Data](#toc0_)\n",
    "\n",
    "We deal with text data. We have the following columns that contain text data:\n",
    "- description\n",
    "- title\n",
    "- brand\n",
    "- category\n",
    "- reviewText\n",
    "\n",
    "\n",
    "We handle each of these columns separately. We look out for: \n",
    "\n",
    "**Identify special characters or symbols**: Look for any special characters, symbols, or non-alphanumeric characters that may need to be cleaned or removed. These characters can sometimes interfere with downstream analysis or modeling.\n",
    "\n",
    "**Handle HTML tags or formatting**: If the 'description' column contains HTML tags or formatting, you may consider removing them or converting them into plain text"
   ]
  },
  {
   "attachments": {},
   "cell_type": "markdown",
   "metadata": {},
   "source": [
    "## <a id='toc4_1_'></a>[Text Normalization](#toc0_)\n",
    "\n",
    "**Text Normalization**: Text normalization is the process of transforming text into a single canonical form that it might not have had before. This is done by removing unnecessary characters, such as punctuation or special characters; converting all letters to lowercase or uppercase; and/or expanding abbreviations.\n"
   ]
  },
  {
   "attachments": {},
   "cell_type": "markdown",
   "metadata": {},
   "source": [
    "### <a id='toc4_1_5_'></a>[ReviewText](#toc0_)"
   ]
  },
  {
   "cell_type": "code",
   "execution_count": 33,
   "metadata": {},
   "outputs": [
    {
     "data": {
      "text/plain": [
       "696553     keith green / songs for the shepherd: his prev...\n",
       "840939     thank you jesus lord god that brother greens m...\n",
       "887328     keith green had a passionate love for jesus. t...\n",
       "3587154    great way for children and adults to memorize ...\n",
       "3713974                  great documentary! very recommended\n",
       "                                 ...                        \n",
       "974835     this case is nice but definitely for looks rat...\n",
       "1040004    just received it and its very thin. no need to...\n",
       "1137418    theres no better way to say this without being...\n",
       "2842280    everything it is advertised to be. really soli...\n",
       "506315                                             excellent\n",
       "Name: reviewText, Length: 4035503, dtype: object"
      ]
     },
     "execution_count": 33,
     "metadata": {},
     "output_type": "execute_result"
    }
   ],
   "source": [
    "# see brand\n",
    "amz_rev['reviewText']\n",
    "\n",
    "# create function to clean brand column\n",
    "def clean_brand(text):\n",
    "    # Remove square brackets, single quotes, HTML tags, double quotes, commas, URLs, and CSS styling\n",
    "    text = re.sub(r\"\\[|\\]|\\'|<[^>]*>|\\\"|,|\\\\https?://[^\\s]+|{[^}]+}\", \"\", text)\n",
    "    \n",
    "    # Remove extra whitespace\n",
    "    text = \" \".join(text.split())\n",
    "    \n",
    "    # Remove common update notes\n",
    "    update_regex = r'update \\d+/\\d+/\\d+:'\n",
    "    text = re.sub(update_regex, '', text)\n",
    "\n",
    "    # Remove trailing punctuation\n",
    "    text = re.sub(r\"\\.$\", \"\", text)\n",
    "\n",
    "    # remove dates\n",
    "    text = re.sub(r'\\d{2}/\\d{2}/\\d{2}', '', text)\n",
    "\n",
    "    \n",
    "    # Convert to lowercase\n",
    "    text = text.lower()\n",
    "    \n",
    "    return text\n",
    "\n",
    "\n",
    "# apply function to brand column\n",
    "amz_rev['reviewText'] = amz_rev['reviewText'].apply(clean_brand)\n",
    "\n",
    "# see updated dataframe\n",
    "amz_rev['reviewText']"
   ]
  },
  {
   "cell_type": "code",
   "execution_count": 34,
   "metadata": {},
   "outputs": [
    {
     "name": "stderr",
     "output_type": "stream",
     "text": [
      "/var/folders/y5/7wlh6jzj03185p7x7ggqb_280000gn/T/ipykernel_17294/4155544511.py:5: FutureWarning: The default value of regex will change from True to False in a future version.\n",
      "  amz_rev['reviewText'] = amz_rev['reviewText'].str.replace(\"[^a-zA-Z0-9\\s]\", \"\")\n"
     ]
    },
    {
     "name": "stdout",
     "output_type": "stream",
     "text": [
      "Number records with special character in reviewText: 0\n"
     ]
    }
   ],
   "source": [
    "# check any special characters in title\n",
    "amz_rev[amz_rev['reviewText'].str.contains(\"[^a-zA-Z0-9\\s]\")]\n",
    "\n",
    "# replace special characters in title\n",
    "amz_rev['reviewText'] = amz_rev['reviewText'].str.replace(\"[^a-zA-Z0-9\\s]\", \"\")\n",
    "\n",
    "# count of records with special character in the title\n",
    "print(\"Number records with special character in reviewText:\", amz_rev[amz_rev['reviewText'].str.contains(\"[^a-zA-Z0-9\\s]\")]['asin'].unique().size)"
   ]
  },
  {
   "cell_type": "code",
   "execution_count": 35,
   "metadata": {},
   "outputs": [
    {
     "data": {
      "text/html": [
       "<div>\n",
       "<style scoped>\n",
       "    .dataframe tbody tr th:only-of-type {\n",
       "        vertical-align: middle;\n",
       "    }\n",
       "\n",
       "    .dataframe tbody tr th {\n",
       "        vertical-align: top;\n",
       "    }\n",
       "\n",
       "    .dataframe thead th {\n",
       "        text-align: right;\n",
       "    }\n",
       "</style>\n",
       "<table border=\"1\" class=\"dataframe\">\n",
       "  <thead>\n",
       "    <tr style=\"text-align: right;\">\n",
       "      <th></th>\n",
       "      <th>reviewerID</th>\n",
       "      <th>reviewerName</th>\n",
       "      <th>reviewTime</th>\n",
       "      <th>asin</th>\n",
       "      <th>reviewText</th>\n",
       "      <th>category</th>\n",
       "      <th>overall</th>\n",
       "      <th>normalized_rating</th>\n",
       "    </tr>\n",
       "  </thead>\n",
       "  <tbody>\n",
       "    <tr>\n",
       "      <th>1772008</th>\n",
       "      <td>A2LEIANN1UZTHP</td>\n",
       "      <td>brainout</td>\n",
       "      <td>2012-09-11</td>\n",
       "      <td>B001YTK3XK</td>\n",
       "      <td>update  this machine is way overpriced now i g...</td>\n",
       "      <td>office_products</td>\n",
       "      <td>2.0</td>\n",
       "      <td>0.25</td>\n",
       "    </tr>\n",
       "  </tbody>\n",
       "</table>\n",
       "</div>"
      ],
      "text/plain": [
       "             reviewerID reviewerName reviewTime        asin  \\\n",
       "1772008  A2LEIANN1UZTHP     brainout 2012-09-11  B001YTK3XK   \n",
       "\n",
       "                                                reviewText         category  \\\n",
       "1772008  update  this machine is way overpriced now i g...  office_products   \n",
       "\n",
       "         overall  normalized_rating  \n",
       "1772008      2.0               0.25  "
      ]
     },
     "metadata": {},
     "output_type": "display_data"
    },
    {
     "data": {
      "text/plain": [
       "'update  this machine is way overpriced now i got mine for maybe 400 will check and write an updated note in the comments it wasnt worth the amount i paid much less the selling price now update  i finally gave up and reinstalled my prior mfc 9700 it scans well this 8480dn cannot scan directly from the machine but only from the computer however at least the 8480dn has a power button along with wire hookup in two ways parallel and usb it also allows you to configure it from the computer without having to use that horrible lcd menu but i gotta tell ya ill never buy another brother printer again they didnt learn any lessons from the insanity of the mfc 9700s frustrating interface update 32213 i upgraded one star for the printer because there is a way to make it do searchable pdf via its paperport function but the scanner itself cant do that you can do tht if you have acrobat its ocr function will also convert any google doc into searchable pdf yay finally i can search shakespeare and gibbon of course this printer cant do that but once you scan it even without paperport you can take an old adobe acrobat 60 and render it searchable i still prefer my scansnap s1500 i still havent found a way to directly press the scan button on the machine and have it scan but printer quality is excellent the rest of the remarks below still stand update  the scanner does not produce searchable pdf this makes the scanner nearly useless so i downgraded the printer to 2 stars then downgraded it today 12213 because the scan button doesnt work on the machine you can only scan remotely from your computer someone in brother quality control was very thoughtless the machine does have some advantages see below but im giving this low rating to call attention to the utter thoughtlessness of the design and the manuals gist if you seek a simple faxscancopyprinter look somewhere else if you want a sophisticated version with a small footprint and are willing to accept a light duty cycle 30k pages per month  meaning really no more than 500 per day  keep reading this machine has faxscancopyprint features i cant find elsewhere except in machines costing 2k or more  cleverly created and handled and its reliable a steady workhorse consumable costs are low for what you get when the thing gets tired after about 7 years it still works fine but its menu begins to say its drum needs changing even though thats not true it will be easier to follow along in this review if you first download the users manuals on the 8480dn from brother just google on that model number and manual download to find the page quickly i will no longer buy any electronic product until ive read the manual here im already quite familiar with this line of brother machines but the manuals are a nightmare so you do need to read them and decide if its worth the hassle of learning machine itself is of great quality boring putty gray and charcoal color but hey business machines are deliberately dull color chosen by committee vote always means dullish gray or beige or black yuck well this one isnt as ugly as some twotoned even so the brother mfc8480dn is mustbuy if you still have dos word processing because it recognizes pcl 5 language which back in dos days was very common im so thrilled about this all my old multimate advantage ii merge files print as intended mm ii used to be the standard dos word processing in fortune 500 corporations and had the easiesttoprogram merge functions ever invented my happy history with the elder mfc 9700 and this newer models pcl 56 emulation were the main reasons i bought this 8480dn saved my bacon for all my 20 year old client files yet the 8480dn can also handle modern stuff sporting a dual twain and wiacompliant networkcapable multifunction faxcolor or bw scannercopyprint machine on a legalsize scanning plate with pcl 56 emulating hp language as well as postscript which is compatible with linux windows through version 7 and mac you get three cds windows pre7 windows 7 and mac for that reason the twain feature allows duplex scanning but on the 8480dn im not sure how to make it work might not work at all in xp and prior the instructions are ambiguous probably because the duplex problem is a windows problem not the machines still you can scan odd then even pages and reassemble in brothers own paperport or even via adobe to make into a duplex so i hear this 8480dn is not automatically set up to handle wireless but through its ethernet port you could presumably plug it into a router the 8890dw is supposedly able to do wifi out of the box and it offers easy duplex scanning but i didnt buy that unit you can download the linux drivers from brother go to its website search on linux drivers and you should get a page of them with a bunch of model numbers so you download by clicking on the model brother is big on linux compatibility  sophisticated fourtier operation and installation outline for this review  so this 8480dn would be a tenstar machine except for its infuriating fragmented instructions some options are scattered in the online manual some only show in the paper manual some only are listed on the web some only in the machines menu but it has a lot of features witness there are four different ways to run this machine thats why its so dang confusing ultimately youll find one way you want to use it and forget the other options but to begin with you need to know what your options even are 1 run the machine from its own menu and buttons on the machine trust me you will soon hate doing this but you will need to learn it because the other ways of running the scanner dont include all the options which are on the machine some important options like printer emulation mode are only available from the machine the paper manual is correlated to these options so is relatively easy to read but alas not all options you need to configure are on the machine so are not covered in that paper manual so the rest of this review will cover tips on 8480dn salient features plus operation via tiers 24 plus maintenance 2 run the machine from the brother control center options on your computer totally different organization for the many overlapping options which basically tell the machine how to function neither the online nor the paper manual correlate the same options in the control center worse the online manual isnt organized the way the control center displays aaarrrggghh not all of the important options are configurable from the computer so you have to go through both manuals but you cannot program in both places at the same time so go through the computer options first then the machines own options per the paper manual 3 run the scanner from the paperport software oddly enough this is covered in the online manual where you dont expect it also as would be expected from the paperports own help menu in my older mfc9700 when you scan using the machine first  meaning you stick the thing to be scanned in the machine and hit the scan button on the machine  the paperport menu automatically comes up on the computer so presumably that happens with the 8480dn too so this will be the most common computer experience youll have if you start your scans at the machine and hit its own buttons unfortunately i cant get my 8480dn to operate by simply hitting the scan button edit  i still cant operate the scan button on the machine must use control center to scan since i dont find anyone else having that problem i must assume its something wrong on my end pending talking to brother they want me to call them and i cant do that until after the 15th one quirk in their program you cant replace an existing file even if an administrator so if you want to rescan with the same file name you must save to a different directory or first delete the file you originally made 4 run the machines security and permissions from the web apparently this is for networking functions by the administrator i dont use a network so wont review this option its function is in the network users guide put on your computer at installation the main functions concern who has what kind of access to the mfc 8480dn because it has a lot of storage capacity with added memory you can easily add to the side of the machine too so presumably access to its functions is relegated to an administrator using the cloud update 91312  the manager of a large apartment complex with units all over the place told me her 8890dw was completely and swiftly installed remotely by some geek in another state he did it all by commands directly to the machine no cd required so apparently network installation can be heavenly the rest of this review now focuses on tier 2 and 3 usage these are the most useful and difficult tiers of configuration features to understand there are over 1000 configurable features sadly brothers explanations while good are very disorganized you will spend hours in the pdf manuals as a they have no page numbers and b their own search engine is dysfunctional not adobes search engine but their own why note to brother organize the pdf according to the control center software screens to lower confused customer calls dovetail the atmachine paper manual with the pdf users manual so the user can identify common functions versus functions only on the machine or only choosable from the computer you have a good product brother  but oh brother the convoluted manuals make us tear our hair out installation tips 1 install the software first 2 do not hook up the usb or parallel interface to the mfc until told to do so 3 leave the mfc off until told to turn it on 4 do not select custom installation it sends the installer into a hang for brother wants to advertise using its own toner brand the installer wont complete else so you must install three times without uninstalling a install first without paperport then b install again with paperport then c do it a third time to install the only option left brothers postscript driver took me four hours to figure out that a b c after installation there are hundreds of setup options to analyze 20 customized presets maybe more you can also change options ad hoc right on the machine though its nowlarger lcd menu remains as annoying as ever at least now its backlit and readable whew oh the 8480dn forgets the time even if unplugged for a moment to reset it call up brothers control center menu and use its remote setup device settings initial setup then check the box next to pc clock do not reset the time on the machine your pc clock then cant reset it unless you reboot sigh okay but thats all the bad news dysfunctional pdf manuals and a hypersensitive ticker not too bad else this multifunction machine is a huge improvement over its hardworking predecessor the mfc 9700 which ive owned since about 2005 so lets see why  what can this 8480dn really do lots to wit   scan or print directly to pdf and other formats either via your computer or by itself with a handy usb port right in front of the machine just stick in a pen drive and convert your files on it i have to test this more to see how it works you can preset 16 sets of options but only via the computer quality scanning is very slow if you want fast readable but not superlative scans accept the defaults of 400 or 200 pixels file sizes are also smaller a quality scan will take maybe 20 minutes frankly i dont see much difference between the umpteen bizillion pixels brother can do versus the small file standard but maybe there is a huge difference in photos scanning options are many creative and sophisticated for example say you wanted to make a banner so you print out sections of this banner and now want to assemble it in a scan as one big piece you can do that or conversely scan to fit as many as 25 pages onto one legal or even smaller page you can do that you can duplex scan but in two steps not one and you have to use paperport covered below if youre on xp  duplex or simplex printing in black and white but color for scanning selectable to very high resolution levels legal size glass so you can fit more on the scanner you can also size the output to shrink up to four pages onto one page via a special option in direct print  where you plug a pen drive into the front of the machine and print whats on the drive bypassing the computer  you can shrink as many as 25 pages onto only one page the printing options here are enormous and sophisticated seen on many highend machines ie make books or pamphlets the machine is silent except when printing when printing the chief sound is the fan windlike not harsh you can hear the paper revv up too warmup isnt fast but is acceptable 32ppm is about right its fast enough for a small office its aggressive about conserving energy hence the slower warmup  adf of 50 pages i think it looks improved versus my older machine this newer model has a fabulous paper path to make it easier to remove jams  you get many remote programming options set from either the computer or directly on the machine versus earlier brother models you can operate the machine remotely too call into it and poll receive its stored input  you can fax receivesend either directly from your computer including broadcasting to groups timed faxes polling get faxes from some distant machine like irs fax downloads the brother offers many different resolutions and settings you can choose for printed fax clarity by contrast its internal pcfax function faxing directly from your computer is weirdly capped to 200x200 resolution  you can scan to create files on your computer of course paperport manipulates the scanned pages afterwards ie change page order formats the 8480dn uses paperport version 11  copying including with almosttoomany settings for cleaning an original reduction enlargement shrinking up to 4 pages into one page many options in the dialogue boxes to help correct bad originals the manuals offer good hints too copy and print settings you change on the fly ie lower row of charcoal square buttons dont change your defaults they only change your next function  networkcapable has its own ethernet port hook it up using either parallel or usb i prefer parallel keeps my usb ports free and less drain on the machine lots of security options mindboggling how you can configure pinpointed security  simultaneity true multifunction you can sendreceive a fax print and scan to file all at the same time no special setting for this its automatic ive been in the middle of a scan when a fax came in or was printing on my older 9700 or had left something scanned on the plate but scanned something else with no mixup i still dont know why it works so well so that convenience continues in the newer 8480dn  need more memory simple buy and insert the added ramm into the side of the machine as easily as youd insert an ssd card into a slot of your netbook default memory claims to support storage of 600 pages of scans presumably text not necessarily that high for photos  now to tier 2 at this reviews start running the 8480 dn from the control center  after installation you access control center 3 via subset of the mfc8480 menu under brother menufolder ignore its option to use the modern skin stick instead to the turquoise default menu pick device settings then remote setup there will be a pause as the computer loads the settings resident in the machine these are fairly straight forward except for some arcanelynamed options covered below as you work with them remember to periodically hit the apply button to save your work to the mfc while editing click the ok button to save and exit the remote setup dialogue boxs tree headers are general the oddlynamed mode timer means the reset time between the last function you did and resumption of fax mode if you turn mode timer off you disable faxing at times thats helpful to avoid interruptions generally youd want the default of 2 minutes the setting also controls how long you can repeat whatever you last did too so if youve a longish copy or print job increase the mode timer or turn it off to disable any reset to fax mode  paper type and tray 1 5 ream and mp tray the former is the pullout tray the other is a bypass tray which they call mp its door is dropdown lightgray door on the front of the machine not the dark gray part for the drum and toner see the paper manuals page 12 so you can feed 13 sheets or envelopes at a time via the bypass this becomes useful for mixed paper types in a print job when you code the machine to pause at certain points you can also buy another 5 ream pullout tray to attach underneath the machine for about 200 more the tray integrates into the machine via screws supplied with the unit  default paper type is plain think copy paper of xerox quality approx 18lb but the 8480dn also accepts thin or thick paper the manuals give you great hints on how to tell whats thin or thick by paper behavior  including envelopes the 1 complaint users have about this machine  so you waste less paper guessing envelopes are problemmatic in any laser printer the cheaper ones are usually the worst the thinner the worse as for thick 65lb paper qualifies as thick stiff stock for title pages in presentation folders even 65lb paper worked fine in my mfc 9700  tray use means where should the machine search for the paper to print default is the bypass mp tray first then the pullout t1 tray be sure to match the machines settings to the size paper you use you have many sizes to choose all the way up to legal  glass scan size limits how far the scanner will scan on the plate so you match that to your actual paper size as well lest you get blackblank scan  file size refers to compression if youre printing to a file use small if youll email else use the default for either color or grayscale to file acrobat will give you the smallest file size next best is fujitsu s1500 scanner this brother might be as good fax setup receives ring delay should probably be set to 2 so the fax will pick up on the third ring the faxtele ring time of 30 seconds is usually best as thats the usual handshaking time between calling and answering faxes especially if you attached an answering machine aka tad dont use voicemail because ameritech or comcast or will take the call so your fax cant hear it attach an oldfashioned answering machine from 1990 or later  setup send is a little more arcane here you can set batch or real time transmission off or on whether a cover page and what kind with preset or customized messages frankly its easier to create your own cover page unless you broadcast to many people see pages 4546 of the paper manual for details  address book yowsa you can type in the numbers and names they make vcards or you can import outlook or outlook express 6 data to the mfc  but not from here oh no they put the address book import option in control center 3s pcfax setup option then select the addressbook tab and specify type and file path for your book  report setting gives you a valuable history log of faxes in and out i set mine up to give me a weekly report but you can select it by day hour or x  of faxes the start at means what hour for time it might mean something else if you pick a different option  remote fax options these control how you want your fax to act when youre away you can have it forward be paged have it store in the machine so you can retrieve it remotely which brother calls polling or have it store in your computer  dial restrictions is a kind of quick password protection to prevent others or yourself from dialing wrongly copy youd adjust these settings for higher than normal resolution increase contrast if copying pencil increase brightness if the original is old or discolored the manuals here offer helpful hints on how to clean up your originals esp what brother calls noise so too the dialogue boxes play with the settings very nice and rare features print to duplex or not duplex that is the longevity question in the automatic duplex printing section of the onscreen users guide  it says do not use bond paper for duplex with good reason id argue never to use duplex at all unless you want to shorten the life of your machine and spend extra money at least once a year to have some professional clean your machines innards  gratuitous treehugging message if you want to save a tree go paperless if you want to see your printed paper become brittle faster go duplex its value is way overrated great for book printing but again youll just dirty your machine twice as fast ie 100 pages duplexed 50 will dirty twice as fast as 100 pages simplex for the toner goes on both sides of the rollers its a false economy and you can always reuse paper on only one side for scrap direct print makes the mfc print directly from your pen drive or pluggedin camera without the computer here you can shrink up to 25 pages onto one in multiple formats could be useful if the computer is off or tied up scan to usb means you can scan directly to a pen drive too bypassing the computer network options are fairly straightforward remember that utc is almost equal to gmc for the time zone initial setup check the pc clock box quirk in the machine will keep on unchecking that box after you save thats probably why when you turn off the machine it forgets the time but hey my beloved mfc 9700 didnt even have a power button the machines are meant to stay on ever vigilant for faxes here you must experiment with dial tone sometimes setting it to detection creates glitches sometimes not the dial prefix should be 1 just as for your fax and tel numbers if your stored phone numbers dont have that prefix or you otherwise have a direct line out if you have to dial some prefix to get an outside line put that in front since the 8480dn is hooked up to the pc check from pc clock for the source of the machines time especially if you often have power outages finally if you set the machine to manual fax receipt then you must type a code to activate the fax you set the code in the setup receive option under fax whew youre 10 done now lets talk about the other turquoise controlcenter3 entries above device settings these too dont operate as youd expect scan if you leftclick you tell brother to scan something immediately on the scanning glass for any of the four items listed they are destinations for your scanning so you must program them first so you right click to configure settings next youll see a tabbed dialogue box its software button is a preset you configure for scanning directly into an application but using your computer by contrast the device button is a preset for the scan button on the 8480dn so you have one pair per image ocr email and file thus you can have up to eight presets if that much flexibility makes your head spin set both software and device button options exactly alike so you can use the computer or the button on the machine to get the same result repeat the buttons are destinationoriented so you have up to eight destinations two per type of scan you can choose and you choose the application destination for the scan the file type resolution and scan type paper size also click scanner interface if you plan to crop the image after scanning or otherwise edit it if an application you want to use isnt in the dropdown list and you know the path of the application you want to use then click the add button and then click on the folder icon to browse for that programs location suggest you add mspscanexe which is microsofts own document scanning program sometimes its faster and like paperport offers postscan file manipulation  suggestion pick the highest resolution and quality settings for image and ocr and file but for email pick the lowest settings you can stomach for your average email isp services like aol verizon etc allow only 5mb for attachments so too the irs and other government agencies provide their employees with very limited storage capping email attachments to about 5mb per email note gmail and yahoo have much higher caps like 2030mb per email custom scan this is the same as scan except that you get to change the icon names too another 8 configuration options for software and device buttons whew now youre 50 done could they make it more complicated copy here you get four added presets for copying when you rightclick you can even specify different printers whether to scale fit the text to the size of the output page and other options since its usually easier to change common copy settings on the machine these four are best reserved for very special jobs with maybe 60 suboptions give the presets names which will make you instantly remember what they do pcfax max resolution is 400x 400 in this model but if you plan to do delayed or batchbroadcasted to many people faxes pcfax can be helpful see pages 4546 of the paper manual again you right click the send icon to configure it to send faxes directly from your computer rather than print out and then feed the machine presumably the send icon setting controls receive too as you cant configure that ones resolution from the computer you can configure it from the machine see the paper manual on setup receive back to the control center configuration if you make a mistake and hit its receive icon more than once you get the paperport menu so have to quit and reboot to reset the icon so instead hit the setup icon finally here you get a sensible dialogue box the address book tab is most helpful you can load your outlook or outlook express addresses and phones into the brother suggest you first complete your outlookexpress data before you import finally the speed dial tab allows you to configure a special 10 speed dial from your computer these will not be the same as what you programmed back in the device settings remote fax setup address book presumably those latter match the speeddial numbers on the machine up to 34 by the way when you use speed dial the toowhite menu on the machine will light up with the name associated with that speed dial number so you get to see the speed dial name before sending back in the speed dial tab of pcfax setup to configure the special 10 you must manually add the name on the left to a number on the right again you can only dial these from your pc whew 70 done are you groaning yet  now to tier 3 using paperport to run your 8480dn  paperport is a scanner controller plus sorter and converter it works like moving papers on your desk into finished bundles paperport has distinct scanner control advantages versus direct machine or control center you access paperport from the scansoft paper port menu item or programs most importantly it can make duplex scans heres how access paperport select duplex and youll get a cute dialogue box telling you how to do it additionally you can specify whether you want to scan in twain or wia mode an option not selectible so far as i can tell via tier 1 direct onmachine or 2 control center operating modes it might not work in xp or maybe it only works with twain ive not yet tested it just going by its instructions en ce moment will report back here with the results again paperport is fairly basic intuitive it has has many fans and three chief advantages a its organized like a desktop so you can arrange stuff on it move that stuff around into stacks or unstack just like shuffling papers into or out of stacks on your desk so scan of 50 unrelated pages and then move each of those pages into other stacks be they photos charts whatever then b you can scan while in paperport to add more stuff to reassemble then c you can export your stacks into a variety of applications which are iconized at the bottom of the screen like outlook express excel word pdf etc paperport is win7 compatible so will show compatible apps you get these same features with fujitsu scan snap s1500 adobe acrobat and many acrobat knock offs my favorite being smart pdf creator pro they all work better at arranging and converting vs ms or wordperfect office limited tagging and editing in paperport i couldnt see any options but im sure there are some  maintenance  this machine requires very little upkeep a bit of windex on the plate once a week or month depending on how often you scan featherdust everything else especially the interiors once a month or more often i actually use a turkey feather bought in a craft shop you know for kids wanting to play indian chief at halloween i use it also to clean between my keyboard crevices handy thing run cleaner sheets after a major print job which is dense 200 pages else once a week you can buy these in amazon you can use each of these sheets five or ten times and still get cleaning from them they are impregnated with a substance which catches toner and dust those are the two killers of good output and if you dont do it you ask for trouble think of it as the equivalent of not defragging your hard drive if you dont defrag once a week your machine will slow to a crawl the sheets prevent that black line you so often see in unkempt faxes toner is a kind of dust its so fine that by the time you see little black spots its almost too late get the cleaning sheets any printer needs this i like those lintfree old flour towels our mothers used to have for cleaning the plate got any old makeup brushes clean them and use them to dust inside the adf especially the rollers do not use solvent on the rollers unless you like a dysfunctional machine at most use a dampened sheet which has no lint better still just a soft blush brush which is very clean dirty adfs are a major cause of jams takes a few minutes while on a phone call or watching something on tv once a week consumables i think the brother toner runs about 70 and it lasts a long time they say 3000 pages but ive gotten a lot more than that i still keep the old toners in case i suddenly need one shake it from side to side maybe once a month or two to make it last longer the toner problem isnt so much that it runs out but that it sticks to the sides when the print quality looks bad the toner cartridge needs a little rocking from side to side do it over the sink unless you have black carpets the drum unit is maybe 100120 and it too has a much longer life than brother recommends though they tell you to ignore the change drum soon warning until you see degradation you cant tolerate my old mfc 9700 h'"
      ]
     },
     "execution_count": 35,
     "metadata": {},
     "output_type": "execute_result"
    }
   ],
   "source": [
    "# see record\n",
    "display(amz_rev[(amz_rev['reviewTime']=='2012-09-11') & (amz_rev['asin']=='B001YTK3XK')])\n",
    "\n",
    "# view data \n",
    "amz_rev[(amz_rev['reviewTime']=='2012-09-11') & (amz_rev['asin']=='B001YTK3XK')]['reviewText'].values[0]"
   ]
  },
  {
   "attachments": {},
   "cell_type": "markdown",
   "metadata": {},
   "source": [
    "***\n",
    "## <a id='toc4_2_'></a>[Text Cleaning](#toc0_)\n",
    "\n",
    "We specifically explore: \n",
    "1. Tokenization\n",
    "2. Stopword Removal\n",
    "3. Stemming and Lemmatization\n",
    "4. Handling Noise and Irrelevant Information\n",
    "\n",
    "We do this for only the `reviewText` columns and the `description` columns. \n"
   ]
  },
  {
   "cell_type": "code",
   "execution_count": 36,
   "metadata": {},
   "outputs": [
    {
     "data": {
      "text/html": [
       "<div>\n",
       "<style scoped>\n",
       "    .dataframe tbody tr th:only-of-type {\n",
       "        vertical-align: middle;\n",
       "    }\n",
       "\n",
       "    .dataframe tbody tr th {\n",
       "        vertical-align: top;\n",
       "    }\n",
       "\n",
       "    .dataframe thead th {\n",
       "        text-align: right;\n",
       "    }\n",
       "</style>\n",
       "<table border=\"1\" class=\"dataframe\">\n",
       "  <thead>\n",
       "    <tr style=\"text-align: right;\">\n",
       "      <th></th>\n",
       "      <th>reviewerID</th>\n",
       "      <th>reviewerName</th>\n",
       "      <th>reviewTime</th>\n",
       "      <th>asin</th>\n",
       "      <th>reviewText</th>\n",
       "      <th>category</th>\n",
       "      <th>overall</th>\n",
       "      <th>normalized_rating</th>\n",
       "    </tr>\n",
       "  </thead>\n",
       "  <tbody>\n",
       "    <tr>\n",
       "      <th>696553</th>\n",
       "      <td>A12R54MKO17TW0</td>\n",
       "      <td>J. Bynum</td>\n",
       "      <td>2012-01-09</td>\n",
       "      <td>0001393774</td>\n",
       "      <td>keith green  songs for the shepherd his previo...</td>\n",
       "      <td>cds_and_vinyl</td>\n",
       "      <td>5.0</td>\n",
       "      <td>1.0</td>\n",
       "    </tr>\n",
       "    <tr>\n",
       "      <th>840939</th>\n",
       "      <td>A3SNL7UJY7GWBI</td>\n",
       "      <td>Lady Leatherneck</td>\n",
       "      <td>2016-02-11</td>\n",
       "      <td>0001393774</td>\n",
       "      <td>thank you jesus lord god that brother greens m...</td>\n",
       "      <td>cds_and_vinyl</td>\n",
       "      <td>5.0</td>\n",
       "      <td>1.0</td>\n",
       "    </tr>\n",
       "    <tr>\n",
       "      <th>887328</th>\n",
       "      <td>AEKGGV851HY3K</td>\n",
       "      <td>Avid Reader</td>\n",
       "      <td>2005-11-01</td>\n",
       "      <td>0001393774</td>\n",
       "      <td>keith green had a passionate love for jesus th...</td>\n",
       "      <td>cds_and_vinyl</td>\n",
       "      <td>5.0</td>\n",
       "      <td>1.0</td>\n",
       "    </tr>\n",
       "    <tr>\n",
       "      <th>3587154</th>\n",
       "      <td>AFR9EUQIILJLC</td>\n",
       "      <td>libertyinmo</td>\n",
       "      <td>2015-01-19</td>\n",
       "      <td>0001526863</td>\n",
       "      <td>great way for children and adults to memorize ...</td>\n",
       "      <td>movies_and_tv</td>\n",
       "      <td>5.0</td>\n",
       "      <td>1.0</td>\n",
       "    </tr>\n",
       "    <tr>\n",
       "      <th>3713974</th>\n",
       "      <td>A1J0AEZCHZIWOL</td>\n",
       "      <td>GBC93</td>\n",
       "      <td>2015-03-09</td>\n",
       "      <td>0005000009</td>\n",
       "      <td>great documentary very recommended</td>\n",
       "      <td>movies_and_tv</td>\n",
       "      <td>5.0</td>\n",
       "      <td>1.0</td>\n",
       "    </tr>\n",
       "    <tr>\n",
       "      <th>3629903</th>\n",
       "      <td>A19UQOTRTZC7ZX</td>\n",
       "      <td>frantac</td>\n",
       "      <td>2015-04-04</td>\n",
       "      <td>0005000009</td>\n",
       "      <td>old ugly bad choice</td>\n",
       "      <td>movies_and_tv</td>\n",
       "      <td>1.0</td>\n",
       "      <td>0.0</td>\n",
       "    </tr>\n",
       "  </tbody>\n",
       "</table>\n",
       "</div>"
      ],
      "text/plain": [
       "             reviewerID      reviewerName reviewTime        asin  \\\n",
       "696553   A12R54MKO17TW0          J. Bynum 2012-01-09  0001393774   \n",
       "840939   A3SNL7UJY7GWBI  Lady Leatherneck 2016-02-11  0001393774   \n",
       "887328    AEKGGV851HY3K       Avid Reader 2005-11-01  0001393774   \n",
       "3587154   AFR9EUQIILJLC       libertyinmo 2015-01-19  0001526863   \n",
       "3713974  A1J0AEZCHZIWOL             GBC93 2015-03-09  0005000009   \n",
       "3629903  A19UQOTRTZC7ZX           frantac 2015-04-04  0005000009   \n",
       "\n",
       "                                                reviewText       category  \\\n",
       "696553   keith green  songs for the shepherd his previo...  cds_and_vinyl   \n",
       "840939   thank you jesus lord god that brother greens m...  cds_and_vinyl   \n",
       "887328   keith green had a passionate love for jesus th...  cds_and_vinyl   \n",
       "3587154  great way for children and adults to memorize ...  movies_and_tv   \n",
       "3713974                 great documentary very recommended  movies_and_tv   \n",
       "3629903                                old ugly bad choice  movies_and_tv   \n",
       "\n",
       "         overall  normalized_rating  \n",
       "696553       5.0                1.0  \n",
       "840939       5.0                1.0  \n",
       "887328       5.0                1.0  \n",
       "3587154      5.0                1.0  \n",
       "3713974      5.0                1.0  \n",
       "3629903      1.0                0.0  "
      ]
     },
     "metadata": {},
     "output_type": "display_data"
    }
   ],
   "source": [
    "display(amz_rev.head(6))"
   ]
  },
  {
   "attachments": {},
   "cell_type": "markdown",
   "metadata": {},
   "source": [
    "### <a id='toc4_2_1_'></a>[Tokenization](#toc0_)\n",
    "\n",
    "**Tokenization**: Tokenization is the process of splitting text into smaller chunks, called tokens. Tokens are usually words, sentences, or individual characters. Tokenization is a crucial step in text analysis, as the meaning of a word can fundamentally change based on the tokens surrounding it.\n"
   ]
  },
  {
   "cell_type": "code",
   "execution_count": 37,
   "metadata": {},
   "outputs": [
    {
     "name": "stderr",
     "output_type": "stream",
     "text": [
      "[nltk_data] Downloading package punkt to\n",
      "[nltk_data]     /Users/pavansingh/nltk_data...\n",
      "[nltk_data]   Package punkt is already up-to-date!\n"
     ]
    }
   ],
   "source": [
    "import nltk\n",
    "from nltk.tokenize import word_tokenize\n",
    "nltk.download('punkt')\n",
    "\n",
    "# Assuming amz_rev.reviewText are Pandas Series\n",
    "# Tokenize the text using a loop\n",
    "\n",
    "tokens_reviewText = []\n",
    "for text in amz_rev.reviewText:\n",
    "    if isinstance(text, str):\n",
    "        tokens_reviewText.append(word_tokenize(text))\n",
    "    else:\n",
    "        tokens_reviewText.append([])"
   ]
  },
  {
   "cell_type": "code",
   "execution_count": 38,
   "metadata": {},
   "outputs": [
    {
     "name": "stdout",
     "output_type": "stream",
     "text": [
      "Shape of tokens_reviewText: 4035503\n",
      "Shape of reviewText: 4035503\n"
     ]
    }
   ],
   "source": [
    "# shape of tokens\n",
    "print(\"Shape of tokens_reviewText:\", len(tokens_reviewText))\n",
    "\n",
    "# shape of reviewText\n",
    "print(\"Shape of reviewText:\", len(amz_rev.reviewText))"
   ]
  },
  {
   "cell_type": "code",
   "execution_count": 39,
   "metadata": {},
   "outputs": [
    {
     "name": "stdout",
     "output_type": "stream",
     "text": [
      "Some output of review text tokens: [['keith', 'green', 'songs', 'for', 'the', 'shepherd', 'his', 'previous', 'albums', 'were', 'more', 'focused', 'on', 'encouragement', 'and', 'correction', 'towards', 'the', 'church', 'this', 'his', 'last', 'is', 'focused', 'on', 'praise', 'this', 'one', 'is', 'still', 'not', 'as', 'great', 'as', 'his', 'first', 'album', 'but', 'it', 'is', 'a', 'strong', 'enough', 'praise', 'album', 'to', 'earn', 'five', 'stars'], ['thank', 'you', 'jesus', 'lord', 'god', 'that', 'brother', 'greens', 'music', 'is', 'still', 'sounding', 'though', 'he', 'is', 'home', 'with', 'you', 'now']]\n"
     ]
    }
   ],
   "source": [
    "# Print the tokens\n",
    "print(\"Some output of review text tokens:\", tokens_reviewText[0:2])"
   ]
  },
  {
   "attachments": {},
   "cell_type": "markdown",
   "metadata": {},
   "source": [
    "### <a id='toc4_2_2_'></a>[ Stopword Removal](#toc0_)\n",
    "\n",
    "**Stopword Removal**: Stopwords are words that are commonly used in the English language, such as \"the,\" \"a,\" \"an,\" \"is,\" and \"are.\" These words are often removed from text during preprocessing as they can negatively impact downstream analysis, such as natural language processing and machine learning.\n"
   ]
  },
  {
   "cell_type": "code",
   "execution_count": 40,
   "metadata": {},
   "outputs": [
    {
     "name": "stderr",
     "output_type": "stream",
     "text": [
      "[nltk_data] Downloading package stopwords to\n",
      "[nltk_data]     /Users/pavansingh/nltk_data...\n",
      "[nltk_data]   Package stopwords is already up-to-date!\n"
     ]
    }
   ],
   "source": [
    "import nltk\n",
    "from nltk.corpus import stopwords\n",
    "from nltk.tokenize import word_tokenize\n",
    "nltk.download('stopwords')\n",
    "\n",
    "# Get the set of English stopwords\n",
    "stopword_set = set(stopwords.words('english'))\n",
    "\n",
    "# Remove stopwords from the tokens\n",
    "filtered_tokens_reviewText = [[word for word in tokens if word.lower() not in stopword_set] for tokens in tokens_reviewText]"
   ]
  },
  {
   "cell_type": "code",
   "execution_count": 41,
   "metadata": {},
   "outputs": [
    {
     "name": "stdout",
     "output_type": "stream",
     "text": [
      "Review Text tokens after stop word removal: [['keith', 'green', 'songs', 'shepherd', 'previous', 'albums', 'focused', 'encouragement', 'correction', 'towards', 'church', 'last', 'focused', 'praise', 'one', 'still', 'great', 'first', 'album', 'strong', 'enough', 'praise', 'album', 'earn', 'five', 'stars'], ['thank', 'jesus', 'lord', 'god', 'brother', 'greens', 'music', 'still', 'sounding', 'though', 'home']]\n"
     ]
    }
   ],
   "source": [
    "\n",
    "# Print the filtered tokens\n",
    "print(\"Review Text tokens after stop word removal:\", filtered_tokens_reviewText[0:2])"
   ]
  },
  {
   "attachments": {},
   "cell_type": "markdown",
   "metadata": {},
   "source": [
    "### <a id='toc4_2_3_'></a>[Stemming and Lemmatization](#toc0_)\n",
    "\n",
    "\n",
    "**Stemming and Lemmatization**: Stemming is the process of reducing a word to its stem, or its root form. For example, \"fishing,\" \"fished,\" \"fisher\" all reduce to the stem \"fish.\" Lemmatization is similar to stemming, but it brings context to the words. So, it links words with similar meaning to one word. For example, \"better\" and \"good\" are lemmatized to \"good.\"\n",
    "\n",
    "Stemming involves removing prefixes and suffixes from words to obtain the root form. For example, the word \"running\" would be stemmed to \"run.\" Stemming is a simpler and faster process but may result in the root form not being an actual word. This can lead to potential loss of meaning or incorrect interpretations.\n",
    "\n",
    "On the other hand, lemmatiation aims to determine the lemma or dictionary form of a word. It takes into account the word's context and part of speech, ensuring that the resulting lemma is a valid word. For example, the word \"running\" would be lemmatized to \"run.\" Lemmatization provides more accurate results but can be computationally more expensive compared to stemming.\n",
    "\n",
    "If preserving the exact meaning and interpretability of words is crucial for your recommender system, lemmatization would be a better choice. However, if speed and simplicity are more important, stemming could be sufficient."
   ]
  },
  {
   "cell_type": "code",
   "execution_count": 42,
   "metadata": {},
   "outputs": [
    {
     "name": "stderr",
     "output_type": "stream",
     "text": [
      "[nltk_data] Downloading package punkt to\n",
      "[nltk_data]     /Users/pavansingh/nltk_data...\n",
      "[nltk_data]   Package punkt is already up-to-date!\n"
     ]
    }
   ],
   "source": [
    "from nltk.stem import PorterStemmer, WordNetLemmatizer\n",
    "from nltk.tokenize import word_tokenize\n",
    "nltk.download('punkt')\n",
    "\n",
    "# Stemming\n",
    "stemmer = PorterStemmer()\n",
    "stemmed_words_revText = [[stemmer.stem(word) for word in tokens] for tokens in filtered_tokens_reviewText]\n",
    "\n",
    "# Lemmatization\n",
    "lemmatizer = WordNetLemmatizer()\n",
    "lemmatized_words_revText = [[lemmatizer.lemmatize(word) for word in tokens] for tokens in filtered_tokens_reviewText]\n"
   ]
  },
  {
   "cell_type": "code",
   "execution_count": 43,
   "metadata": {},
   "outputs": [
    {
     "name": "stdout",
     "output_type": "stream",
     "text": [
      "Original words: [['keith', 'green', 'songs', 'shepherd', 'previous', 'albums', 'focused', 'encouragement', 'correction', 'towards', 'church', 'last', 'focused', 'praise', 'one', 'still', 'great', 'first', 'album', 'strong', 'enough', 'praise', 'album', 'earn', 'five', 'stars'], ['thank', 'jesus', 'lord', 'god', 'brother', 'greens', 'music', 'still', 'sounding', 'though', 'home']]\n",
      "Stemmed words: [['keith', 'green', 'song', 'shepherd', 'previou', 'album', 'focus', 'encourag', 'correct', 'toward', 'church', 'last', 'focus', 'prais', 'one', 'still', 'great', 'first', 'album', 'strong', 'enough', 'prais', 'album', 'earn', 'five', 'star'], ['thank', 'jesu', 'lord', 'god', 'brother', 'green', 'music', 'still', 'sound', 'though', 'home']]\n",
      "Lemmatized words: [['keith', 'green', 'song', 'shepherd', 'previous', 'album', 'focused', 'encouragement', 'correction', 'towards', 'church', 'last', 'focused', 'praise', 'one', 'still', 'great', 'first', 'album', 'strong', 'enough', 'praise', 'album', 'earn', 'five', 'star'], ['thank', 'jesus', 'lord', 'god', 'brother', 'green', 'music', 'still', 'sounding', 'though', 'home']]\n"
     ]
    }
   ],
   "source": [
    "print(\"Original words:\", filtered_tokens_reviewText[0:2])\n",
    "print(\"Stemmed words:\", stemmed_words_revText[0:2])\n",
    "print(\"Lemmatized words:\", lemmatized_words_revText[0:2])"
   ]
  },
  {
   "attachments": {},
   "cell_type": "markdown",
   "metadata": {},
   "source": [
    "***\n",
    "# <a id='toc6_'></a>[Creating New Dataset and Saving](#toc0_)\n",
    "\n",
    "We create a new dataset using all the cleaning and processing done above and save it as a csv file called `data_clean.csv`."
   ]
  },
  {
   "cell_type": "code",
   "execution_count": 44,
   "metadata": {},
   "outputs": [
    {
     "name": "stdout",
     "output_type": "stream",
     "text": [
      "Shape of stemmed_words_revText: 4035503\n",
      "Shape of lemmatized_words_revText: 4035503\n",
      "Shape of filtered_tokens_reviewText: 4035503\n"
     ]
    }
   ],
   "source": [
    "# get shapes of all generated dataframes\n",
    "print(\"Shape of stemmed_words_revText:\", len(stemmed_words_revText))\n",
    "print(\"Shape of lemmatized_words_revText:\", len(lemmatized_words_revText))\n",
    "print(\"Shape of filtered_tokens_reviewText:\", len(filtered_tokens_reviewText))"
   ]
  },
  {
   "cell_type": "code",
   "execution_count": 45,
   "metadata": {},
   "outputs": [],
   "source": [
    "# attach stemmed words to dataframe\n",
    "amz_rev['stemmed_words_revText'] = stemmed_words_revText\n",
    "\n",
    "# attach lemmitized words to dataframe\n",
    "amz_rev['lemmatized_words_revText'] = lemmatized_words_revText\n",
    "\n",
    "# attach filtered tokens to dataframe\n",
    "amz_rev['filtered_tokens_revText'] = filtered_tokens_reviewText\n"
   ]
  },
  {
   "cell_type": "code",
   "execution_count": 57,
   "metadata": {},
   "outputs": [
    {
     "data": {
      "text/html": [
       "<div>\n",
       "<style scoped>\n",
       "    .dataframe tbody tr th:only-of-type {\n",
       "        vertical-align: middle;\n",
       "    }\n",
       "\n",
       "    .dataframe tbody tr th {\n",
       "        vertical-align: top;\n",
       "    }\n",
       "\n",
       "    .dataframe thead th {\n",
       "        text-align: right;\n",
       "    }\n",
       "</style>\n",
       "<table border=\"1\" class=\"dataframe\">\n",
       "  <thead>\n",
       "    <tr style=\"text-align: right;\">\n",
       "      <th></th>\n",
       "      <th>reviewerID</th>\n",
       "      <th>reviewerName</th>\n",
       "      <th>reviewTime</th>\n",
       "      <th>asin</th>\n",
       "      <th>reviewText</th>\n",
       "      <th>category</th>\n",
       "      <th>overall</th>\n",
       "      <th>normalized_rating</th>\n",
       "      <th>stemmed_words_revText</th>\n",
       "      <th>lemmatized_words_revText</th>\n",
       "      <th>filtered_tokens_revText</th>\n",
       "    </tr>\n",
       "  </thead>\n",
       "  <tbody>\n",
       "    <tr>\n",
       "      <th>696553</th>\n",
       "      <td>A12R54MKO17TW0</td>\n",
       "      <td>J. Bynum</td>\n",
       "      <td>2012-01-09</td>\n",
       "      <td>0001393774</td>\n",
       "      <td>keith green  songs for the shepherd his previo...</td>\n",
       "      <td>cds_and_vinyl</td>\n",
       "      <td>5.0</td>\n",
       "      <td>1.0</td>\n",
       "      <td>[keith, green, song, shepherd, previou, album,...</td>\n",
       "      <td>[keith, green, song, shepherd, previous, album...</td>\n",
       "      <td>[keith, green, songs, shepherd, previous, albu...</td>\n",
       "    </tr>\n",
       "    <tr>\n",
       "      <th>840939</th>\n",
       "      <td>A3SNL7UJY7GWBI</td>\n",
       "      <td>Lady Leatherneck</td>\n",
       "      <td>2016-02-11</td>\n",
       "      <td>0001393774</td>\n",
       "      <td>thank you jesus lord god that brother greens m...</td>\n",
       "      <td>cds_and_vinyl</td>\n",
       "      <td>5.0</td>\n",
       "      <td>1.0</td>\n",
       "      <td>[thank, jesu, lord, god, brother, green, music...</td>\n",
       "      <td>[thank, jesus, lord, god, brother, green, musi...</td>\n",
       "      <td>[thank, jesus, lord, god, brother, greens, mus...</td>\n",
       "    </tr>\n",
       "    <tr>\n",
       "      <th>887328</th>\n",
       "      <td>AEKGGV851HY3K</td>\n",
       "      <td>Avid Reader</td>\n",
       "      <td>2005-11-01</td>\n",
       "      <td>0001393774</td>\n",
       "      <td>keith green had a passionate love for jesus th...</td>\n",
       "      <td>cds_and_vinyl</td>\n",
       "      <td>5.0</td>\n",
       "      <td>1.0</td>\n",
       "      <td>[keith, green, passion, love, jesu, evid, life...</td>\n",
       "      <td>[keith, green, passionate, love, jesus, eviden...</td>\n",
       "      <td>[keith, green, passionate, love, jesus, eviden...</td>\n",
       "    </tr>\n",
       "    <tr>\n",
       "      <th>3587154</th>\n",
       "      <td>AFR9EUQIILJLC</td>\n",
       "      <td>libertyinmo</td>\n",
       "      <td>2015-01-19</td>\n",
       "      <td>0001526863</td>\n",
       "      <td>great way for children and adults to memorize ...</td>\n",
       "      <td>movies_and_tv</td>\n",
       "      <td>5.0</td>\n",
       "      <td>1.0</td>\n",
       "      <td>[great, way, children, adult, memor, bibl, ver...</td>\n",
       "      <td>[great, way, child, adult, memorize, bible, ve...</td>\n",
       "      <td>[great, way, children, adults, memorize, bible...</td>\n",
       "    </tr>\n",
       "    <tr>\n",
       "      <th>3713974</th>\n",
       "      <td>A1J0AEZCHZIWOL</td>\n",
       "      <td>GBC93</td>\n",
       "      <td>2015-03-09</td>\n",
       "      <td>0005000009</td>\n",
       "      <td>great documentary very recommended</td>\n",
       "      <td>movies_and_tv</td>\n",
       "      <td>5.0</td>\n",
       "      <td>1.0</td>\n",
       "      <td>[great, documentari, recommend]</td>\n",
       "      <td>[great, documentary, recommended]</td>\n",
       "      <td>[great, documentary, recommended]</td>\n",
       "    </tr>\n",
       "    <tr>\n",
       "      <th>3629903</th>\n",
       "      <td>A19UQOTRTZC7ZX</td>\n",
       "      <td>frantac</td>\n",
       "      <td>2015-04-04</td>\n",
       "      <td>0005000009</td>\n",
       "      <td>old ugly bad choice</td>\n",
       "      <td>movies_and_tv</td>\n",
       "      <td>1.0</td>\n",
       "      <td>0.0</td>\n",
       "      <td>[old, ugli, bad, choic]</td>\n",
       "      <td>[old, ugly, bad, choice]</td>\n",
       "      <td>[old, ugly, bad, choice]</td>\n",
       "    </tr>\n",
       "  </tbody>\n",
       "</table>\n",
       "</div>"
      ],
      "text/plain": [
       "             reviewerID      reviewerName reviewTime        asin  \\\n",
       "696553   A12R54MKO17TW0          J. Bynum 2012-01-09  0001393774   \n",
       "840939   A3SNL7UJY7GWBI  Lady Leatherneck 2016-02-11  0001393774   \n",
       "887328    AEKGGV851HY3K       Avid Reader 2005-11-01  0001393774   \n",
       "3587154   AFR9EUQIILJLC       libertyinmo 2015-01-19  0001526863   \n",
       "3713974  A1J0AEZCHZIWOL             GBC93 2015-03-09  0005000009   \n",
       "3629903  A19UQOTRTZC7ZX           frantac 2015-04-04  0005000009   \n",
       "\n",
       "                                                reviewText       category  \\\n",
       "696553   keith green  songs for the shepherd his previo...  cds_and_vinyl   \n",
       "840939   thank you jesus lord god that brother greens m...  cds_and_vinyl   \n",
       "887328   keith green had a passionate love for jesus th...  cds_and_vinyl   \n",
       "3587154  great way for children and adults to memorize ...  movies_and_tv   \n",
       "3713974                 great documentary very recommended  movies_and_tv   \n",
       "3629903                                old ugly bad choice  movies_and_tv   \n",
       "\n",
       "         overall  normalized_rating  \\\n",
       "696553       5.0                1.0   \n",
       "840939       5.0                1.0   \n",
       "887328       5.0                1.0   \n",
       "3587154      5.0                1.0   \n",
       "3713974      5.0                1.0   \n",
       "3629903      1.0                0.0   \n",
       "\n",
       "                                     stemmed_words_revText  \\\n",
       "696553   [keith, green, song, shepherd, previou, album,...   \n",
       "840939   [thank, jesu, lord, god, brother, green, music...   \n",
       "887328   [keith, green, passion, love, jesu, evid, life...   \n",
       "3587154  [great, way, children, adult, memor, bibl, ver...   \n",
       "3713974                    [great, documentari, recommend]   \n",
       "3629903                            [old, ugli, bad, choic]   \n",
       "\n",
       "                                  lemmatized_words_revText  \\\n",
       "696553   [keith, green, song, shepherd, previous, album...   \n",
       "840939   [thank, jesus, lord, god, brother, green, musi...   \n",
       "887328   [keith, green, passionate, love, jesus, eviden...   \n",
       "3587154  [great, way, child, adult, memorize, bible, ve...   \n",
       "3713974                  [great, documentary, recommended]   \n",
       "3629903                           [old, ugly, bad, choice]   \n",
       "\n",
       "                                   filtered_tokens_revText  \n",
       "696553   [keith, green, songs, shepherd, previous, albu...  \n",
       "840939   [thank, jesus, lord, god, brother, greens, mus...  \n",
       "887328   [keith, green, passionate, love, jesus, eviden...  \n",
       "3587154  [great, way, children, adults, memorize, bible...  \n",
       "3713974                  [great, documentary, recommended]  \n",
       "3629903                           [old, ugly, bad, choice]  "
      ]
     },
     "execution_count": 57,
     "metadata": {},
     "output_type": "execute_result"
    }
   ],
   "source": [
    "# see resulting dataframe\n",
    "amz_rev.head(6)"
   ]
  },
  {
   "cell_type": "code",
   "execution_count": 59,
   "metadata": {},
   "outputs": [
    {
     "name": "stdout",
     "output_type": "stream",
     "text": [
      "Shape of cleaned data: (4035503, 11)\n",
      "\n",
      "Number of unique products: 787192\n",
      "\n",
      "Number of unique users: 203238\n",
      "\n",
      "Number of unique categories: 28\n",
      "\n",
      "Number of reviews per category:\n",
      " video_games                   312409\n",
      "arts_crafts                   307979\n",
      "office_products               298753\n",
      "patio_lawn_and_garden         284202\n",
      "grocery_and_gourmet_food      260506\n",
      "cds_and_vinyl                 256067\n",
      "tools_and_home_improvement    232943\n",
      "kindle_store                  223939\n",
      "movies_and_tv                 184548\n",
      "automotive                    183731\n",
      "cell_phones                   176943\n",
      "toys_and_games                170947\n",
      "pet_supplies                  164386\n",
      "sports_and_outdoors           158620\n",
      "home_and_kitchen              141080\n",
      "electronics                   140111\n",
      "musical_instruments           139877\n",
      "digital_music                 112194\n",
      "prime_pantry                  109072\n",
      "clothing_shoes_and_jewelry     79625\n",
      "industrial                     60520\n",
      "luxury_beauty                  21871\n",
      "software                        9680\n",
      "gift_cards                      2029\n",
      "magazine_subscriptions          1650\n",
      "beauty                          1117\n",
      "fashion                          579\n",
      "appliances                       125\n",
      "Name: category, dtype: int64\n",
      "\n",
      "Columns available: Index(['reviewerID', 'reviewerName', 'reviewTime', 'asin', 'reviewText',\n",
      "       'category', 'overall', 'normalized_rating', 'stemmed_words_revText',\n",
      "       'lemmatized_words_revText', 'filtered_tokens_revText'],\n",
      "      dtype='object')\n"
     ]
    }
   ],
   "source": [
    "# save cleaned data\n",
    "amz_rev.to_csv(\"Data/amz_rev_cleaned_1.csv\", index=False)\n",
    "\n",
    "# stats of cleaned data\n",
    "print(\"Shape of cleaned data:\", amz_rev.shape)\n",
    "print(\"\\nNumber of unique products:\", amz_rev['asin'].unique().size)\n",
    "print(\"\\nNumber of unique users:\", amz_rev['reviewerID'].unique().size)\n",
    "print(\"\\nNumber of unique categories:\", amz_rev['category'].unique().size)\n",
    "print(\"\\nNumber of reviews per category:\\n\", amz_rev['category'].value_counts())\n",
    "print(\"\\nColumns available:\", amz_rev.columns)"
   ]
  },
  {
   "cell_type": "code",
   "execution_count": 60,
   "metadata": {},
   "outputs": [
    {
     "ename": "",
     "evalue": "",
     "output_type": "error",
     "traceback": [
      "\u001b[1;31mThe Kernel crashed while executing code in the the current cell or a previous cell. Please review the code in the cell(s) to identify a possible cause of the failure. Click <a href='https://aka.ms/vscodeJupyterKernelCrash'>here</a> for more info. View Jupyter <a href='command:jupyter.viewOutput'>log</a> for further details."
     ]
    }
   ],
   "source": [
    "# create a smaller dataframe by randomly sampling 10% of the data\n",
    "amz_rev_sample = amz_rev.sample(frac=0.05, random_state=42)\n",
    "\n",
    "# save sampled data\n",
    "amz_rev_sample.to_csv(\"Data/amz_rev_sample_1.csv\", index=False)"
   ]
  }
 ],
 "metadata": {
  "kernelspec": {
   "display_name": "base",
   "language": "python",
   "name": "python3"
  },
  "language_info": {
   "codemirror_mode": {
    "name": "ipython",
    "version": 3
   },
   "file_extension": ".py",
   "mimetype": "text/x-python",
   "name": "python",
   "nbconvert_exporter": "python",
   "pygments_lexer": "ipython3",
   "version": "3.9.12"
  },
  "orig_nbformat": 4,
  "vscode": {
   "interpreter": {
    "hash": "592720dbed1256d2a23d8b00e5ee6ece89b12c02a81b97be893b807d9576d7c4"
   }
  }
 },
 "nbformat": 4,
 "nbformat_minor": 2
}
