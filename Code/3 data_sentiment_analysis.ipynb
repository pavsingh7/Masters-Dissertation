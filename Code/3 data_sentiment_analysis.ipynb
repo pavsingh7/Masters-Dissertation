{
 "cells": [
  {
   "attachments": {},
   "cell_type": "markdown",
   "metadata": {},
   "source": [
    "*** \n",
    "\n",
    "# <a id='toc5_'></a>[Sentiment Analysis](#toc0_)\n",
    "\n",
    "We perform sentiment analysis on the reviewText column. We conduct one types of sentiment analysis: \n",
    "\n",
    "1. Sentiment Analysis using Lexicon-based Methods\n"
   ]
  },
  {
   "cell_type": "code",
   "execution_count": 25,
   "metadata": {},
   "outputs": [],
   "source": [
    "# reset the working directory\n",
    "%reset -f\n",
    "\n",
    "# import modules\n",
    "import pandas as pd\n",
    "import numpy as np\n",
    "import matplotlib.pyplot as plt\n",
    "import matplotlib.cm as cm\n",
    "import seaborn as sns\n",
    "import warnings\n",
    "warnings.filterwarnings('ignore')\n",
    "import re\n",
    "import nltk"
   ]
  },
  {
   "cell_type": "code",
   "execution_count": 26,
   "metadata": {},
   "outputs": [],
   "source": [
    "# read in data from csv file\n",
    "amz_data = pd.read_csv('/Users/pavansingh/Library/CloudStorage/GoogleDrive-pavansingho23@gmail.com/My Drive/Portfolio/Masters-Dissertation/Code/Data/amz_rev_cleaned_1.csv')\n",
    "\n",
    "# read in sample file\n",
    "# amz_data = pd.read_csv('/Users/pavansingh/Library/CloudStorage/GoogleDrive-pavansingho23@gmail.com/My Drive/Portfolio/Masters-Dissertation/Code/Data/amz_rev_sample_1.csv')\n"
   ]
  },
  {
   "cell_type": "code",
   "execution_count": 27,
   "metadata": {},
   "outputs": [
    {
     "data": {
      "text/html": [
       "<div>\n",
       "<style scoped>\n",
       "    .dataframe tbody tr th:only-of-type {\n",
       "        vertical-align: middle;\n",
       "    }\n",
       "\n",
       "    .dataframe tbody tr th {\n",
       "        vertical-align: top;\n",
       "    }\n",
       "\n",
       "    .dataframe thead th {\n",
       "        text-align: right;\n",
       "    }\n",
       "</style>\n",
       "<table border=\"1\" class=\"dataframe\">\n",
       "  <thead>\n",
       "    <tr style=\"text-align: right;\">\n",
       "      <th></th>\n",
       "      <th>reviewerID</th>\n",
       "      <th>reviewerName</th>\n",
       "      <th>reviewTime</th>\n",
       "      <th>asin</th>\n",
       "      <th>reviewText</th>\n",
       "      <th>category</th>\n",
       "      <th>overall</th>\n",
       "      <th>normalized_rating</th>\n",
       "      <th>stemmed_words_revText</th>\n",
       "      <th>lemmatized_words_revText</th>\n",
       "      <th>filtered_tokens_revText</th>\n",
       "    </tr>\n",
       "  </thead>\n",
       "  <tbody>\n",
       "    <tr>\n",
       "      <th>0</th>\n",
       "      <td>A12R54MKO17TW0</td>\n",
       "      <td>J. Bynum</td>\n",
       "      <td>2012-01-09</td>\n",
       "      <td>0001393774</td>\n",
       "      <td>keith green  songs for the shepherd his previo...</td>\n",
       "      <td>cds_and_vinyl</td>\n",
       "      <td>5.0</td>\n",
       "      <td>1.0</td>\n",
       "      <td>['keith', 'green', 'song', 'shepherd', 'previo...</td>\n",
       "      <td>['keith', 'green', 'song', 'shepherd', 'previo...</td>\n",
       "      <td>['keith', 'green', 'songs', 'shepherd', 'previ...</td>\n",
       "    </tr>\n",
       "    <tr>\n",
       "      <th>1</th>\n",
       "      <td>A3SNL7UJY7GWBI</td>\n",
       "      <td>Lady Leatherneck</td>\n",
       "      <td>2016-02-11</td>\n",
       "      <td>0001393774</td>\n",
       "      <td>thank you jesus lord god that brother greens m...</td>\n",
       "      <td>cds_and_vinyl</td>\n",
       "      <td>5.0</td>\n",
       "      <td>1.0</td>\n",
       "      <td>['thank', 'jesu', 'lord', 'god', 'brother', 'g...</td>\n",
       "      <td>['thank', 'jesus', 'lord', 'god', 'brother', '...</td>\n",
       "      <td>['thank', 'jesus', 'lord', 'god', 'brother', '...</td>\n",
       "    </tr>\n",
       "    <tr>\n",
       "      <th>2</th>\n",
       "      <td>AEKGGV851HY3K</td>\n",
       "      <td>Avid Reader</td>\n",
       "      <td>2005-11-01</td>\n",
       "      <td>0001393774</td>\n",
       "      <td>keith green had a passionate love for jesus th...</td>\n",
       "      <td>cds_and_vinyl</td>\n",
       "      <td>5.0</td>\n",
       "      <td>1.0</td>\n",
       "      <td>['keith', 'green', 'passion', 'love', 'jesu', ...</td>\n",
       "      <td>['keith', 'green', 'passionate', 'love', 'jesu...</td>\n",
       "      <td>['keith', 'green', 'passionate', 'love', 'jesu...</td>\n",
       "    </tr>\n",
       "    <tr>\n",
       "      <th>3</th>\n",
       "      <td>AFR9EUQIILJLC</td>\n",
       "      <td>libertyinmo</td>\n",
       "      <td>2015-01-19</td>\n",
       "      <td>0001526863</td>\n",
       "      <td>great way for children and adults to memorize ...</td>\n",
       "      <td>movies_and_tv</td>\n",
       "      <td>5.0</td>\n",
       "      <td>1.0</td>\n",
       "      <td>['great', 'way', 'children', 'adult', 'memor',...</td>\n",
       "      <td>['great', 'way', 'child', 'adult', 'memorize',...</td>\n",
       "      <td>['great', 'way', 'children', 'adults', 'memori...</td>\n",
       "    </tr>\n",
       "  </tbody>\n",
       "</table>\n",
       "</div>"
      ],
      "text/plain": [
       "       reviewerID      reviewerName  reviewTime        asin  \\\n",
       "0  A12R54MKO17TW0          J. Bynum  2012-01-09  0001393774   \n",
       "1  A3SNL7UJY7GWBI  Lady Leatherneck  2016-02-11  0001393774   \n",
       "2   AEKGGV851HY3K       Avid Reader  2005-11-01  0001393774   \n",
       "3   AFR9EUQIILJLC       libertyinmo  2015-01-19  0001526863   \n",
       "\n",
       "                                          reviewText       category  overall  \\\n",
       "0  keith green  songs for the shepherd his previo...  cds_and_vinyl      5.0   \n",
       "1  thank you jesus lord god that brother greens m...  cds_and_vinyl      5.0   \n",
       "2  keith green had a passionate love for jesus th...  cds_and_vinyl      5.0   \n",
       "3  great way for children and adults to memorize ...  movies_and_tv      5.0   \n",
       "\n",
       "   normalized_rating                              stemmed_words_revText  \\\n",
       "0                1.0  ['keith', 'green', 'song', 'shepherd', 'previo...   \n",
       "1                1.0  ['thank', 'jesu', 'lord', 'god', 'brother', 'g...   \n",
       "2                1.0  ['keith', 'green', 'passion', 'love', 'jesu', ...   \n",
       "3                1.0  ['great', 'way', 'children', 'adult', 'memor',...   \n",
       "\n",
       "                            lemmatized_words_revText  \\\n",
       "0  ['keith', 'green', 'song', 'shepherd', 'previo...   \n",
       "1  ['thank', 'jesus', 'lord', 'god', 'brother', '...   \n",
       "2  ['keith', 'green', 'passionate', 'love', 'jesu...   \n",
       "3  ['great', 'way', 'child', 'adult', 'memorize',...   \n",
       "\n",
       "                             filtered_tokens_revText  \n",
       "0  ['keith', 'green', 'songs', 'shepherd', 'previ...  \n",
       "1  ['thank', 'jesus', 'lord', 'god', 'brother', '...  \n",
       "2  ['keith', 'green', 'passionate', 'love', 'jesu...  \n",
       "3  ['great', 'way', 'children', 'adults', 'memori...  "
      ]
     },
     "execution_count": 27,
     "metadata": {},
     "output_type": "execute_result"
    }
   ],
   "source": [
    "# view data\n",
    "amz_data.head(4)"
   ]
  },
  {
   "cell_type": "code",
   "execution_count": 28,
   "metadata": {},
   "outputs": [
    {
     "name": "stdout",
     "output_type": "stream",
     "text": [
      "Shape of data => (4035503, 11)\n",
      "Number of unique products => 787192\n",
      "Number of unique users => 203238\n"
     ]
    }
   ],
   "source": [
    "# data summary\n",
    "print(\"Shape of data =>\", amz_data.shape)\n",
    "print(\"Number of unique products =>\", amz_data['asin'].nunique())\n",
    "print(\"Number of unique users =>\", amz_data['reviewerID'].nunique())"
   ]
  },
  {
   "cell_type": "code",
   "execution_count": 29,
   "metadata": {},
   "outputs": [
    {
     "data": {
      "text/html": [
       "<div>\n",
       "<style scoped>\n",
       "    .dataframe tbody tr th:only-of-type {\n",
       "        vertical-align: middle;\n",
       "    }\n",
       "\n",
       "    .dataframe tbody tr th {\n",
       "        vertical-align: top;\n",
       "    }\n",
       "\n",
       "    .dataframe thead th {\n",
       "        text-align: right;\n",
       "    }\n",
       "</style>\n",
       "<table border=\"1\" class=\"dataframe\">\n",
       "  <thead>\n",
       "    <tr style=\"text-align: right;\">\n",
       "      <th></th>\n",
       "      <th>reviewerID</th>\n",
       "      <th>reviewerName</th>\n",
       "      <th>reviewTime</th>\n",
       "      <th>asin</th>\n",
       "      <th>reviewText</th>\n",
       "      <th>category</th>\n",
       "      <th>overall</th>\n",
       "      <th>normalized_rating</th>\n",
       "      <th>stemmed_words_revText</th>\n",
       "      <th>lemmatized_words_revText</th>\n",
       "      <th>filtered_tokens_revText</th>\n",
       "    </tr>\n",
       "  </thead>\n",
       "  <tbody>\n",
       "    <tr>\n",
       "      <th>0</th>\n",
       "      <td>A12R54MKO17TW0</td>\n",
       "      <td>J. Bynum</td>\n",
       "      <td>2012-01-09</td>\n",
       "      <td>0001393774</td>\n",
       "      <td>keith green  songs for the shepherd his previo...</td>\n",
       "      <td>cds_and_vinyl</td>\n",
       "      <td>5.0</td>\n",
       "      <td>1.0</td>\n",
       "      <td>[keith, green, song, shepherd, previou, album,...</td>\n",
       "      <td>[keith, green, song, shepherd, previous, album...</td>\n",
       "      <td>[keith, green, songs, shepherd, previous, albu...</td>\n",
       "    </tr>\n",
       "    <tr>\n",
       "      <th>1</th>\n",
       "      <td>A3SNL7UJY7GWBI</td>\n",
       "      <td>Lady Leatherneck</td>\n",
       "      <td>2016-02-11</td>\n",
       "      <td>0001393774</td>\n",
       "      <td>thank you jesus lord god that brother greens m...</td>\n",
       "      <td>cds_and_vinyl</td>\n",
       "      <td>5.0</td>\n",
       "      <td>1.0</td>\n",
       "      <td>[thank, jesu, lord, god, brother, green, music...</td>\n",
       "      <td>[thank, jesus, lord, god, brother, green, musi...</td>\n",
       "      <td>[thank, jesus, lord, god, brother, greens, mus...</td>\n",
       "    </tr>\n",
       "    <tr>\n",
       "      <th>2</th>\n",
       "      <td>AEKGGV851HY3K</td>\n",
       "      <td>Avid Reader</td>\n",
       "      <td>2005-11-01</td>\n",
       "      <td>0001393774</td>\n",
       "      <td>keith green had a passionate love for jesus th...</td>\n",
       "      <td>cds_and_vinyl</td>\n",
       "      <td>5.0</td>\n",
       "      <td>1.0</td>\n",
       "      <td>[keith, green, passion, love, jesu, evid, life...</td>\n",
       "      <td>[keith, green, passionate, love, jesus, eviden...</td>\n",
       "      <td>[keith, green, passionate, love, jesus, eviden...</td>\n",
       "    </tr>\n",
       "    <tr>\n",
       "      <th>3</th>\n",
       "      <td>AFR9EUQIILJLC</td>\n",
       "      <td>libertyinmo</td>\n",
       "      <td>2015-01-19</td>\n",
       "      <td>0001526863</td>\n",
       "      <td>great way for children and adults to memorize ...</td>\n",
       "      <td>movies_and_tv</td>\n",
       "      <td>5.0</td>\n",
       "      <td>1.0</td>\n",
       "      <td>[great, way, children, adult, memor, bibl, ver...</td>\n",
       "      <td>[great, way, child, adult, memorize, bible, ve...</td>\n",
       "      <td>[great, way, children, adults, memorize, bible...</td>\n",
       "    </tr>\n",
       "  </tbody>\n",
       "</table>\n",
       "</div>"
      ],
      "text/plain": [
       "       reviewerID      reviewerName  reviewTime        asin  \\\n",
       "0  A12R54MKO17TW0          J. Bynum  2012-01-09  0001393774   \n",
       "1  A3SNL7UJY7GWBI  Lady Leatherneck  2016-02-11  0001393774   \n",
       "2   AEKGGV851HY3K       Avid Reader  2005-11-01  0001393774   \n",
       "3   AFR9EUQIILJLC       libertyinmo  2015-01-19  0001526863   \n",
       "\n",
       "                                          reviewText       category  overall  \\\n",
       "0  keith green  songs for the shepherd his previo...  cds_and_vinyl      5.0   \n",
       "1  thank you jesus lord god that brother greens m...  cds_and_vinyl      5.0   \n",
       "2  keith green had a passionate love for jesus th...  cds_and_vinyl      5.0   \n",
       "3  great way for children and adults to memorize ...  movies_and_tv      5.0   \n",
       "\n",
       "   normalized_rating                              stemmed_words_revText  \\\n",
       "0                1.0  [keith, green, song, shepherd, previou, album,...   \n",
       "1                1.0  [thank, jesu, lord, god, brother, green, music...   \n",
       "2                1.0  [keith, green, passion, love, jesu, evid, life...   \n",
       "3                1.0  [great, way, children, adult, memor, bibl, ver...   \n",
       "\n",
       "                            lemmatized_words_revText  \\\n",
       "0  [keith, green, song, shepherd, previous, album...   \n",
       "1  [thank, jesus, lord, god, brother, green, musi...   \n",
       "2  [keith, green, passionate, love, jesus, eviden...   \n",
       "3  [great, way, child, adult, memorize, bible, ve...   \n",
       "\n",
       "                             filtered_tokens_revText  \n",
       "0  [keith, green, songs, shepherd, previous, albu...  \n",
       "1  [thank, jesus, lord, god, brother, greens, mus...  \n",
       "2  [keith, green, passionate, love, jesus, eviden...  \n",
       "3  [great, way, children, adults, memorize, bible...  "
      ]
     },
     "execution_count": 29,
     "metadata": {},
     "output_type": "execute_result"
    }
   ],
   "source": [
    "import ast\n",
    "\n",
    "# Change to list of words for: filtered_tokens_revText\n",
    "amz_data['filtered_tokens_revText'] = amz_data['filtered_tokens_revText'].apply(lambda x: ast.literal_eval(x))\n",
    "\n",
    "# Change to list of words for: stemmed_words_revText\n",
    "amz_data['stemmed_words_revText'] = amz_data['stemmed_words_revText'].apply(lambda x: ast.literal_eval(x))\n",
    "\n",
    "# Change to list of words for: lemmatized_words_revText\n",
    "amz_data['lemmatized_words_revText'] = amz_data['lemmatized_words_revText'].apply(lambda x: ast.literal_eval(x))\n",
    "\n",
    "# view data\n",
    "amz_data.head(4)\n"
   ]
  },
  {
   "attachments": {},
   "cell_type": "markdown",
   "metadata": {},
   "source": [
    "\n",
    "## <a id='toc5_1_'></a>[Sentiment Analysis using Lexicon-based Methods](#toc0_)\n",
    "\n",
    "First we use lexicon-based methods to perform sentiment analysis. Lexicon-based methods use a lexicon, or a collection of words and phrases associated with emotions, to assign sentiment scores to a body of text.\n"
   ]
  },
  {
   "attachments": {},
   "cell_type": "markdown",
   "metadata": {},
   "source": [
    "### <a id='toc5_1_1_'></a>[VADER](#toc0_)\n",
    "\n",
    "We use the VADER (Valence Aware Dictionary and Sentiment Reasoner) lexicon to perform sentiment analysis on the reviewText column. VADER is a lexicon and rule-based sentiment analysis tool that is specifically attuned to sentiments expressed in social media. It is available in the NLTK package and can be applied directly to unlabeled text data.\n",
    "\n",
    "VADER utilizes a sentiment lexicon containing words with sentiment scores. However, VADER goes beyond simply assigning positive or negative labels to words. It considers the intensity of sentiment and incorporates linguistic rules to handle negations, intensifiers, and other linguistic features. This makes VADER particularly suitable for analyzing sentiment in social media text, where linguistic nuances and context play a significant role"
   ]
  },
  {
   "cell_type": "code",
   "execution_count": 30,
   "metadata": {},
   "outputs": [
    {
     "name": "stderr",
     "output_type": "stream",
     "text": [
      "[nltk_data] Error loading vader_lexicon: <urlopen error [Errno 8]\n",
      "[nltk_data]     nodename nor servname provided, or not known>\n"
     ]
    }
   ],
   "source": [
    "import nltk\n",
    "nltk.download('vader_lexicon')\n",
    "from nltk.sentiment import SentimentIntensityAnalyzer\n",
    "\n",
    "# instance of the VADER sentiment analyzer\n",
    "sia = SentimentIntensityAnalyzer()\n",
    "\n",
    "# Iterate through tokenized reviews and analyze the sentiment for each one\n",
    "sentiments_vader_revText = []\n",
    "for review in amz_data['reviewText']:\n",
    "    if isinstance(review, str):  # Check if the review is a string\n",
    "        sentiment = sia.polarity_scores(review)\n",
    "    else:\n",
    "        sentiment = sia.polarity_scores('')  # Replace NaN with an empty string\n",
    "    sentiments_vader_revText.append(sentiment)\n",
    "\n",
    "# store the sentiment scores in the dataframe\n",
    "amz_data['sentiments_vader_revText'] = sentiments_vader_revText"
   ]
  },
  {
   "cell_type": "code",
   "execution_count": 31,
   "metadata": {},
   "outputs": [
    {
     "data": {
      "text/plain": [
       "array([{'neg': 0.035, 'neu': 0.675, 'pos': 0.289, 'compound': 0.9374},\n",
       "       {'neg': 0.0, 'neu': 0.787, 'pos': 0.213, 'compound': 0.5574},\n",
       "       {'neg': 0.049, 'neu': 0.687, 'pos': 0.264, 'compound': 0.9792},\n",
       "       {'neg': 0.0, 'neu': 0.676, 'pos': 0.324, 'compound': 0.9186}],\n",
       "      dtype=object)"
      ]
     },
     "execution_count": 31,
     "metadata": {},
     "output_type": "execute_result"
    }
   ],
   "source": [
    "# see some results\n",
    "amz_data.sentiments_vader_revText.head(4).values"
   ]
  },
  {
   "attachments": {},
   "cell_type": "markdown",
   "metadata": {},
   "source": [
    "NumPy array containing sentiment analysis results. Each element in the array represents the sentiment scores for a single review. These sentiment scores are generated by VADER (Valence Aware Dictionary and sEntiment Reasoner), which is a popular rule-based model used for sentiment analysis. The scores are typically between -1 and 1, where values closer to 1 indicate more positive sentiment, values closer to -1 indicate more negative sentiment, and values around 0 indicate neutral sentiment. The compound score represents an overall sentiment intensity, combining the individual sentiment scores. The compound score in VADER sentiment analysis typically varies between -1 and 1. A compound score of 1 indicates extremely positive sentiment, while a score of -1 indicates extremely negative sentiment. Scores close to 0 represent more neutral or balanced sentiment.\n",
    "\n",
    "\n",
    "\n"
   ]
  },
  {
   "cell_type": "code",
   "execution_count": 32,
   "metadata": {},
   "outputs": [
    {
     "data": {
      "text/html": [
       "<div>\n",
       "<style scoped>\n",
       "    .dataframe tbody tr th:only-of-type {\n",
       "        vertical-align: middle;\n",
       "    }\n",
       "\n",
       "    .dataframe tbody tr th {\n",
       "        vertical-align: top;\n",
       "    }\n",
       "\n",
       "    .dataframe thead th {\n",
       "        text-align: right;\n",
       "    }\n",
       "</style>\n",
       "<table border=\"1\" class=\"dataframe\">\n",
       "  <thead>\n",
       "    <tr style=\"text-align: right;\">\n",
       "      <th></th>\n",
       "      <th>reviewerID</th>\n",
       "      <th>asin</th>\n",
       "      <th>reviewText</th>\n",
       "      <th>overall</th>\n",
       "      <th>sentiments_vader_revText</th>\n",
       "    </tr>\n",
       "  </thead>\n",
       "  <tbody>\n",
       "    <tr>\n",
       "      <th>0</th>\n",
       "      <td>A12R54MKO17TW0</td>\n",
       "      <td>0001393774</td>\n",
       "      <td>keith green  songs for the shepherd his previo...</td>\n",
       "      <td>5.0</td>\n",
       "      <td>{'neg': 0.035, 'neu': 0.675, 'pos': 0.289, 'co...</td>\n",
       "    </tr>\n",
       "    <tr>\n",
       "      <th>1</th>\n",
       "      <td>A3SNL7UJY7GWBI</td>\n",
       "      <td>0001393774</td>\n",
       "      <td>thank you jesus lord god that brother greens m...</td>\n",
       "      <td>5.0</td>\n",
       "      <td>{'neg': 0.0, 'neu': 0.787, 'pos': 0.213, 'comp...</td>\n",
       "    </tr>\n",
       "    <tr>\n",
       "      <th>2</th>\n",
       "      <td>AEKGGV851HY3K</td>\n",
       "      <td>0001393774</td>\n",
       "      <td>keith green had a passionate love for jesus th...</td>\n",
       "      <td>5.0</td>\n",
       "      <td>{'neg': 0.049, 'neu': 0.687, 'pos': 0.264, 'co...</td>\n",
       "    </tr>\n",
       "    <tr>\n",
       "      <th>3</th>\n",
       "      <td>AFR9EUQIILJLC</td>\n",
       "      <td>0001526863</td>\n",
       "      <td>great way for children and adults to memorize ...</td>\n",
       "      <td>5.0</td>\n",
       "      <td>{'neg': 0.0, 'neu': 0.676, 'pos': 0.324, 'comp...</td>\n",
       "    </tr>\n",
       "  </tbody>\n",
       "</table>\n",
       "</div>"
      ],
      "text/plain": [
       "       reviewerID        asin  \\\n",
       "0  A12R54MKO17TW0  0001393774   \n",
       "1  A3SNL7UJY7GWBI  0001393774   \n",
       "2   AEKGGV851HY3K  0001393774   \n",
       "3   AFR9EUQIILJLC  0001526863   \n",
       "\n",
       "                                          reviewText  overall  \\\n",
       "0  keith green  songs for the shepherd his previo...      5.0   \n",
       "1  thank you jesus lord god that brother greens m...      5.0   \n",
       "2  keith green had a passionate love for jesus th...      5.0   \n",
       "3  great way for children and adults to memorize ...      5.0   \n",
       "\n",
       "                            sentiments_vader_revText  \n",
       "0  {'neg': 0.035, 'neu': 0.675, 'pos': 0.289, 'co...  \n",
       "1  {'neg': 0.0, 'neu': 0.787, 'pos': 0.213, 'comp...  \n",
       "2  {'neg': 0.049, 'neu': 0.687, 'pos': 0.264, 'co...  \n",
       "3  {'neg': 0.0, 'neu': 0.676, 'pos': 0.324, 'comp...  "
      ]
     },
     "execution_count": 32,
     "metadata": {},
     "output_type": "execute_result"
    }
   ],
   "source": [
    "# see dataframe\n",
    "amz_data[['reviewerID', 'asin', 'reviewText', 'overall', 'sentiments_vader_revText']].head(4)"
   ]
  },
  {
   "attachments": {},
   "cell_type": "markdown",
   "metadata": {},
   "source": [
    "### <a id='toc5_1_2_'></a>[TextBlob](#toc0_)\n",
    "\n",
    "We also use the TextBlob library to perform sentiment analysis on the reviewText column. TextBlob is a Python library for processing textual data. It provides a simple API for diving into common natural language processing (NLP) tasks such as part-of-speech tagging, noun phrase extraction, sentiment analysis, classification, translation, and more. TextBlob is built on top of NLTK and Pattern and provides an easy-to-use interface to the NLTK library. We use the sentiment analysis functionality of TextBlob to calculate the polarity and subjectivity scores for each review in the reviewText column. \n",
    "\n",
    "TextBlob's sentiment analysis algorithm is based on a pre-trained model that has been trained on a large dataset. The model uses a combination of linguistic rules, pattern matching, and machine learning techniques like Naive Bayes classifiers"
   ]
  },
  {
   "cell_type": "code",
   "execution_count": 33,
   "metadata": {},
   "outputs": [],
   "source": [
    "from textblob import TextBlob\n",
    "\n",
    "sentiments_textblob_revText = []\n",
    "subjectivities_textblob_revText = []\n",
    "\n",
    "for review in amz_data['reviewText']:\n",
    "    if isinstance(review, str):\n",
    "        blob = TextBlob(review)\n",
    "        sentiment = blob.sentiment.polarity\n",
    "        subjectivity = blob.sentiment.subjectivity\n",
    "    else:\n",
    "        blob = TextBlob('')\n",
    "        sentiment = blob.sentiment.polarity\n",
    "        subjectivity = blob.sentiment.subjectivity\n",
    "\n",
    "    sentiments_textblob_revText.append(sentiment)\n",
    "    subjectivities_textblob_revText.append(subjectivity)\n",
    "\n",
    "amz_data['sentiments_textblob_revText'] = sentiments_textblob_revText\n",
    "amz_data['subjectivities_textblob_revText'] = subjectivities_textblob_revText\n"
   ]
  },
  {
   "cell_type": "code",
   "execution_count": 34,
   "metadata": {},
   "outputs": [
    {
     "name": "stdout",
     "output_type": "stream",
     "text": [
      "[0.20208333 0.         0.24886364 0.275     ]\n",
      "[0.41875 0.      0.4875  0.6625 ]\n"
     ]
    }
   ],
   "source": [
    "# see some results - sentiment\n",
    "print(amz_data.sentiments_textblob_revText.head(4).values)\n",
    "\n",
    "# see some results - subjectivity\n",
    "print(amz_data.subjectivities_textblob_revText.head(4).values)"
   ]
  },
  {
   "attachments": {},
   "cell_type": "markdown",
   "metadata": {},
   "source": [
    "TextBlob's sentiment analysis is based on a machine learning algorithm trained on a large dataset of labeled data. The algorithm learns patterns and linguistic features from the data to classify text into different sentiment categories, such as positive, negative, or neutral.\n",
    "\n",
    "**Polarity**: It indicates the sentiment of the text on a scale from -1 to 1. A polarity score close to -1 indicates negative sentiment, a score close to 1 indicates positive sentiment, and a score around 0 indicates neutral sentiment.\n",
    "\n",
    "**Subjectivity**: It measures the subjectivity of the text on a scale from 0 to 1. A subjectivity score of 0 means the text is objective and factual, while a score of 1 means the text is highly subjective and opinionated.\n",
    "\n",
    "**TextBlob uses a trained model to analyze the sentiment of the input text based on the learned patterns and features. It takes into account not only individual words but also the context and grammar of the text.**\n",
    "\n"
   ]
  },
  {
   "attachments": {},
   "cell_type": "markdown",
   "metadata": {},
   "source": [
    "\n",
    "### <a id='toc5_1_3_'></a>[Bing, AFINN, and NRC](#toc0_)\n",
    "\n",
    "The BING lexicon, for example, classifies words as either positive or negative. bing assigns a numerical sentiment score to words, where a positive score indicates positive sentiment and a negative score indicates negative sentiment. NRC extends this approach by providing a more comprehensive list of words and associating them with multiple sentiment dimensions, such as anger, joy, fear, etc.\n",
    "\n"
   ]
  },
  {
   "attachments": {},
   "cell_type": "markdown",
   "metadata": {},
   "source": [
    "#### AFINN"
   ]
  },
  {
   "cell_type": "code",
   "execution_count": 35,
   "metadata": {},
   "outputs": [
    {
     "name": "stdout",
     "output_type": "stream",
     "text": [
      "Shape of AFINN: (2477, 2)\n",
      "Unique Sentiments: [-2 -3  2  1 -1  3  4 -4 -5  5  0]\n"
     ]
    },
    {
     "data": {
      "text/html": [
       "<div>\n",
       "<style scoped>\n",
       "    .dataframe tbody tr th:only-of-type {\n",
       "        vertical-align: middle;\n",
       "    }\n",
       "\n",
       "    .dataframe tbody tr th {\n",
       "        vertical-align: top;\n",
       "    }\n",
       "\n",
       "    .dataframe thead th {\n",
       "        text-align: right;\n",
       "    }\n",
       "</style>\n",
       "<table border=\"1\" class=\"dataframe\">\n",
       "  <thead>\n",
       "    <tr style=\"text-align: right;\">\n",
       "      <th></th>\n",
       "      <th>word</th>\n",
       "      <th>value</th>\n",
       "    </tr>\n",
       "  </thead>\n",
       "  <tbody>\n",
       "    <tr>\n",
       "      <th>0</th>\n",
       "      <td>abandon</td>\n",
       "      <td>-2</td>\n",
       "    </tr>\n",
       "    <tr>\n",
       "      <th>1</th>\n",
       "      <td>abandoned</td>\n",
       "      <td>-2</td>\n",
       "    </tr>\n",
       "    <tr>\n",
       "      <th>2</th>\n",
       "      <td>abandons</td>\n",
       "      <td>-2</td>\n",
       "    </tr>\n",
       "  </tbody>\n",
       "</table>\n",
       "</div>"
      ],
      "text/plain": [
       "        word  value\n",
       "0    abandon     -2\n",
       "1  abandoned     -2\n",
       "2   abandons     -2"
      ]
     },
     "metadata": {},
     "output_type": "display_data"
    }
   ],
   "source": [
    "# read lexicons in\n",
    "afinn = pd.read_csv('/Users/pavansingh/Library/CloudStorage/GoogleDrive-pavansingho23@gmail.com/My Drive/Portfolio/Masters-Dissertation/Data/Afinn.csv')\n",
    "\n",
    "# AFINN\n",
    "print(\"Shape of AFINN:\", afinn.shape)\n",
    "print(\"Unique Sentiments:\", afinn.value.unique())\n",
    "display(afinn.head(3))\n",
    "afinn_dict = dict(zip(afinn['word'], afinn['value']))"
   ]
  },
  {
   "cell_type": "code",
   "execution_count": 36,
   "metadata": {},
   "outputs": [],
   "source": [
    "# Get the sentiment score for each review using AFINN\n",
    "sentiment_scores_afinn = []\n",
    "\n",
    "for review_tokens in amz_data['filtered_tokens_revText']:\n",
    "    sentiment_score = sum(afinn_dict.get(word, 0) for word in review_tokens)\n",
    "    sentiment_scores_afinn.append(sentiment_score)\n",
    "\n",
    "# Add the sentiment scores to the dataframe\n",
    "amz_data['sentiment_score_afinn_revText'] = sentiment_scores_afinn\n"
   ]
  },
  {
   "cell_type": "code",
   "execution_count": 37,
   "metadata": {},
   "outputs": [
    {
     "data": {
      "text/html": [
       "<div>\n",
       "<style scoped>\n",
       "    .dataframe tbody tr th:only-of-type {\n",
       "        vertical-align: middle;\n",
       "    }\n",
       "\n",
       "    .dataframe tbody tr th {\n",
       "        vertical-align: top;\n",
       "    }\n",
       "\n",
       "    .dataframe thead th {\n",
       "        text-align: right;\n",
       "    }\n",
       "</style>\n",
       "<table border=\"1\" class=\"dataframe\">\n",
       "  <thead>\n",
       "    <tr style=\"text-align: right;\">\n",
       "      <th></th>\n",
       "      <th>reviewerID</th>\n",
       "      <th>reviewText</th>\n",
       "      <th>overall</th>\n",
       "      <th>sentiment_score_afinn_revText</th>\n",
       "    </tr>\n",
       "  </thead>\n",
       "  <tbody>\n",
       "    <tr>\n",
       "      <th>0</th>\n",
       "      <td>A12R54MKO17TW0</td>\n",
       "      <td>keith green  songs for the shepherd his previo...</td>\n",
       "      <td>5.0</td>\n",
       "      <td>17</td>\n",
       "    </tr>\n",
       "    <tr>\n",
       "      <th>1</th>\n",
       "      <td>A3SNL7UJY7GWBI</td>\n",
       "      <td>thank you jesus lord god that brother greens m...</td>\n",
       "      <td>5.0</td>\n",
       "      <td>4</td>\n",
       "    </tr>\n",
       "    <tr>\n",
       "      <th>2</th>\n",
       "      <td>AEKGGV851HY3K</td>\n",
       "      <td>keith green had a passionate love for jesus th...</td>\n",
       "      <td>5.0</td>\n",
       "      <td>17</td>\n",
       "    </tr>\n",
       "    <tr>\n",
       "      <th>3</th>\n",
       "      <td>AFR9EUQIILJLC</td>\n",
       "      <td>great way for children and adults to memorize ...</td>\n",
       "      <td>5.0</td>\n",
       "      <td>6</td>\n",
       "    </tr>\n",
       "  </tbody>\n",
       "</table>\n",
       "</div>"
      ],
      "text/plain": [
       "       reviewerID                                         reviewText  overall  \\\n",
       "0  A12R54MKO17TW0  keith green  songs for the shepherd his previo...      5.0   \n",
       "1  A3SNL7UJY7GWBI  thank you jesus lord god that brother greens m...      5.0   \n",
       "2   AEKGGV851HY3K  keith green had a passionate love for jesus th...      5.0   \n",
       "3   AFR9EUQIILJLC  great way for children and adults to memorize ...      5.0   \n",
       "\n",
       "   sentiment_score_afinn_revText  \n",
       "0                             17  \n",
       "1                              4  \n",
       "2                             17  \n",
       "3                              6  "
      ]
     },
     "execution_count": 37,
     "metadata": {},
     "output_type": "execute_result"
    }
   ],
   "source": [
    "# see data\n",
    "amz_data[['reviewerID', 'reviewText', 'overall', 'sentiment_score_afinn_revText']].head(4)"
   ]
  },
  {
   "attachments": {},
   "cell_type": "markdown",
   "metadata": {},
   "source": [
    "#### BING"
   ]
  },
  {
   "cell_type": "code",
   "execution_count": 38,
   "metadata": {},
   "outputs": [
    {
     "name": "stdout",
     "output_type": "stream",
     "text": [
      "Shape of Bing: (6786, 2)\n",
      "Unique Sentiments: ['negative' 'positive']\n"
     ]
    },
    {
     "data": {
      "text/html": [
       "<div>\n",
       "<style scoped>\n",
       "    .dataframe tbody tr th:only-of-type {\n",
       "        vertical-align: middle;\n",
       "    }\n",
       "\n",
       "    .dataframe tbody tr th {\n",
       "        vertical-align: top;\n",
       "    }\n",
       "\n",
       "    .dataframe thead th {\n",
       "        text-align: right;\n",
       "    }\n",
       "</style>\n",
       "<table border=\"1\" class=\"dataframe\">\n",
       "  <thead>\n",
       "    <tr style=\"text-align: right;\">\n",
       "      <th></th>\n",
       "      <th>word</th>\n",
       "      <th>sentiment</th>\n",
       "    </tr>\n",
       "  </thead>\n",
       "  <tbody>\n",
       "    <tr>\n",
       "      <th>0</th>\n",
       "      <td>faces</td>\n",
       "      <td>negative</td>\n",
       "    </tr>\n",
       "    <tr>\n",
       "      <th>1</th>\n",
       "      <td>abnormal</td>\n",
       "      <td>negative</td>\n",
       "    </tr>\n",
       "    <tr>\n",
       "      <th>2</th>\n",
       "      <td>abolish</td>\n",
       "      <td>negative</td>\n",
       "    </tr>\n",
       "  </tbody>\n",
       "</table>\n",
       "</div>"
      ],
      "text/plain": [
       "       word sentiment\n",
       "0     faces  negative\n",
       "1  abnormal  negative\n",
       "2   abolish  negative"
      ]
     },
     "metadata": {},
     "output_type": "display_data"
    }
   ],
   "source": [
    "# read in \n",
    "bing = pd.read_csv('/Users/pavansingh/Library/CloudStorage/GoogleDrive-pavansingho23@gmail.com/My Drive/Portfolio/Masters-Dissertation/Data/Bing.csv')\n",
    "\n",
    "# BING\n",
    "print(\"Shape of Bing:\", bing.shape)\n",
    "print(\"Unique Sentiments:\", bing.sentiment.unique())\n",
    "display(bing.head(3))\n",
    "bing_dict = dict(zip(bing['word'], bing['sentiment']))"
   ]
  },
  {
   "cell_type": "code",
   "execution_count": 39,
   "metadata": {},
   "outputs": [],
   "source": [
    "# Get the sentiment score for each review using bing\n",
    "sentiment_scores_bing_revText = []\n",
    "\n",
    "for review_tokens in amz_data['filtered_tokens_revText']:\n",
    "    sentiment_score = sum(-1 if bing_dict.get(word, '') == 'negative' else 1 if bing_dict.get(word, '') == 'positive' else 0 for word in review_tokens)\n",
    "    sentiment_scores_bing_revText.append(sentiment_score)\n",
    "\n",
    "# Add the sentiment scores to the dataframe\n",
    "amz_data['sentiment_score_bing_revText'] = sentiment_scores_bing_revText\n"
   ]
  },
  {
   "cell_type": "code",
   "execution_count": 40,
   "metadata": {},
   "outputs": [
    {
     "data": {
      "text/html": [
       "<div>\n",
       "<style scoped>\n",
       "    .dataframe tbody tr th:only-of-type {\n",
       "        vertical-align: middle;\n",
       "    }\n",
       "\n",
       "    .dataframe tbody tr th {\n",
       "        vertical-align: top;\n",
       "    }\n",
       "\n",
       "    .dataframe thead th {\n",
       "        text-align: right;\n",
       "    }\n",
       "</style>\n",
       "<table border=\"1\" class=\"dataframe\">\n",
       "  <thead>\n",
       "    <tr style=\"text-align: right;\">\n",
       "      <th></th>\n",
       "      <th>reviewerID</th>\n",
       "      <th>reviewText</th>\n",
       "      <th>overall</th>\n",
       "      <th>sentiment_score_bing_revText</th>\n",
       "    </tr>\n",
       "  </thead>\n",
       "  <tbody>\n",
       "    <tr>\n",
       "      <th>0</th>\n",
       "      <td>A12R54MKO17TW0</td>\n",
       "      <td>keith green  songs for the shepherd his previo...</td>\n",
       "      <td>5.0</td>\n",
       "      <td>6</td>\n",
       "    </tr>\n",
       "    <tr>\n",
       "      <th>1</th>\n",
       "      <td>A3SNL7UJY7GWBI</td>\n",
       "      <td>thank you jesus lord god that brother greens m...</td>\n",
       "      <td>5.0</td>\n",
       "      <td>1</td>\n",
       "    </tr>\n",
       "    <tr>\n",
       "      <th>2</th>\n",
       "      <td>AEKGGV851HY3K</td>\n",
       "      <td>keith green had a passionate love for jesus th...</td>\n",
       "      <td>5.0</td>\n",
       "      <td>9</td>\n",
       "    </tr>\n",
       "    <tr>\n",
       "      <th>3</th>\n",
       "      <td>AFR9EUQIILJLC</td>\n",
       "      <td>great way for children and adults to memorize ...</td>\n",
       "      <td>5.0</td>\n",
       "      <td>3</td>\n",
       "    </tr>\n",
       "  </tbody>\n",
       "</table>\n",
       "</div>"
      ],
      "text/plain": [
       "       reviewerID                                         reviewText  overall  \\\n",
       "0  A12R54MKO17TW0  keith green  songs for the shepherd his previo...      5.0   \n",
       "1  A3SNL7UJY7GWBI  thank you jesus lord god that brother greens m...      5.0   \n",
       "2   AEKGGV851HY3K  keith green had a passionate love for jesus th...      5.0   \n",
       "3   AFR9EUQIILJLC  great way for children and adults to memorize ...      5.0   \n",
       "\n",
       "   sentiment_score_bing_revText  \n",
       "0                             6  \n",
       "1                             1  \n",
       "2                             9  \n",
       "3                             3  "
      ]
     },
     "execution_count": 40,
     "metadata": {},
     "output_type": "execute_result"
    }
   ],
   "source": [
    "# see data\n",
    "amz_data[['reviewerID', 'reviewText', 'overall','sentiment_score_bing_revText']].head(4)"
   ]
  },
  {
   "attachments": {},
   "cell_type": "markdown",
   "metadata": {},
   "source": [
    "#### NRC"
   ]
  },
  {
   "cell_type": "code",
   "execution_count": 41,
   "metadata": {},
   "outputs": [
    {
     "name": "stdout",
     "output_type": "stream",
     "text": [
      "Shape of NRC: (13901, 2)\n",
      "Unique Sentiments: ['trust' 'fear' 'negative' 'sadness' 'anger' 'surprise' 'positive'\n",
      " 'disgust' 'joy' 'anticipation']\n"
     ]
    },
    {
     "data": {
      "text/html": [
       "<div>\n",
       "<style scoped>\n",
       "    .dataframe tbody tr th:only-of-type {\n",
       "        vertical-align: middle;\n",
       "    }\n",
       "\n",
       "    .dataframe tbody tr th {\n",
       "        vertical-align: top;\n",
       "    }\n",
       "\n",
       "    .dataframe thead th {\n",
       "        text-align: right;\n",
       "    }\n",
       "</style>\n",
       "<table border=\"1\" class=\"dataframe\">\n",
       "  <thead>\n",
       "    <tr style=\"text-align: right;\">\n",
       "      <th></th>\n",
       "      <th>word</th>\n",
       "      <th>sentiment</th>\n",
       "    </tr>\n",
       "  </thead>\n",
       "  <tbody>\n",
       "    <tr>\n",
       "      <th>0</th>\n",
       "      <td>abacus</td>\n",
       "      <td>trust</td>\n",
       "    </tr>\n",
       "    <tr>\n",
       "      <th>1</th>\n",
       "      <td>abandon</td>\n",
       "      <td>fear</td>\n",
       "    </tr>\n",
       "    <tr>\n",
       "      <th>2</th>\n",
       "      <td>abandon</td>\n",
       "      <td>negative</td>\n",
       "    </tr>\n",
       "  </tbody>\n",
       "</table>\n",
       "</div>"
      ],
      "text/plain": [
       "      word sentiment\n",
       "0   abacus     trust\n",
       "1  abandon      fear\n",
       "2  abandon  negative"
      ]
     },
     "metadata": {},
     "output_type": "display_data"
    }
   ],
   "source": [
    "# read in \n",
    "nrc = pd.read_csv('/Users/pavansingh/Library/CloudStorage/GoogleDrive-pavansingho23@gmail.com/My Drive/Portfolio/Masters-Dissertation/Data/NRC.csv')\n",
    "\n",
    "# NRC\n",
    "print(\"Shape of NRC:\", nrc.shape)\n",
    "print(\"Unique Sentiments:\", nrc.sentiment.unique())\n",
    "display(nrc.head(3))\n",
    "nrc_dict = dict(zip(nrc['word'], nrc['sentiment']))"
   ]
  },
  {
   "cell_type": "code",
   "execution_count": 42,
   "metadata": {},
   "outputs": [],
   "source": [
    "unique_sentiments = ['trust', 'fear', 'negative', 'sadness', 'anger', 'surprise', 'positive', 'disgust', 'joy', 'anticipation']\n",
    "\n",
    "# Get the sentiment score for each review using NRC\n",
    "sentiment_scores_nrc_revText = []\n",
    "\n",
    "# Calculate sentiment score and overall sentiment for each review using NRC lexicon\n",
    "for review_tokens in amz_data['filtered_tokens_revText']:\n",
    "    review_sentiment_scores = {sentiment: 0 for sentiment in unique_sentiments}\n",
    "    for word in review_tokens:\n",
    "        word_sentiments = nrc_dict.get(word, [])\n",
    "        for sentiment in unique_sentiments:\n",
    "            if sentiment in word_sentiments:\n",
    "                review_sentiment_scores[sentiment] += 1\n",
    "\n",
    "    overall_sentiment = max(review_sentiment_scores, key=review_sentiment_scores.get)\n",
    "    sentiment_scores_nrc_revText.append(overall_sentiment)\n",
    "\n",
    "# Add the sentiment scores to the dataframe\n",
    "amz_data['sentiment_score_nrc_revText'] = sentiment_scores_nrc_revText"
   ]
  },
  {
   "cell_type": "code",
   "execution_count": 43,
   "metadata": {},
   "outputs": [
    {
     "data": {
      "text/html": [
       "<div>\n",
       "<style scoped>\n",
       "    .dataframe tbody tr th:only-of-type {\n",
       "        vertical-align: middle;\n",
       "    }\n",
       "\n",
       "    .dataframe tbody tr th {\n",
       "        vertical-align: top;\n",
       "    }\n",
       "\n",
       "    .dataframe thead th {\n",
       "        text-align: right;\n",
       "    }\n",
       "</style>\n",
       "<table border=\"1\" class=\"dataframe\">\n",
       "  <thead>\n",
       "    <tr style=\"text-align: right;\">\n",
       "      <th></th>\n",
       "      <th>reviewerID</th>\n",
       "      <th>reviewText</th>\n",
       "      <th>overall</th>\n",
       "      <th>sentiment_score_bing_revText</th>\n",
       "    </tr>\n",
       "  </thead>\n",
       "  <tbody>\n",
       "    <tr>\n",
       "      <th>0</th>\n",
       "      <td>A12R54MKO17TW0</td>\n",
       "      <td>keith green  songs for the shepherd his previo...</td>\n",
       "      <td>5.0</td>\n",
       "      <td>6</td>\n",
       "    </tr>\n",
       "    <tr>\n",
       "      <th>1</th>\n",
       "      <td>A3SNL7UJY7GWBI</td>\n",
       "      <td>thank you jesus lord god that brother greens m...</td>\n",
       "      <td>5.0</td>\n",
       "      <td>1</td>\n",
       "    </tr>\n",
       "    <tr>\n",
       "      <th>2</th>\n",
       "      <td>AEKGGV851HY3K</td>\n",
       "      <td>keith green had a passionate love for jesus th...</td>\n",
       "      <td>5.0</td>\n",
       "      <td>9</td>\n",
       "    </tr>\n",
       "    <tr>\n",
       "      <th>3</th>\n",
       "      <td>AFR9EUQIILJLC</td>\n",
       "      <td>great way for children and adults to memorize ...</td>\n",
       "      <td>5.0</td>\n",
       "      <td>3</td>\n",
       "    </tr>\n",
       "  </tbody>\n",
       "</table>\n",
       "</div>"
      ],
      "text/plain": [
       "       reviewerID                                         reviewText  overall  \\\n",
       "0  A12R54MKO17TW0  keith green  songs for the shepherd his previo...      5.0   \n",
       "1  A3SNL7UJY7GWBI  thank you jesus lord god that brother greens m...      5.0   \n",
       "2   AEKGGV851HY3K  keith green had a passionate love for jesus th...      5.0   \n",
       "3   AFR9EUQIILJLC  great way for children and adults to memorize ...      5.0   \n",
       "\n",
       "   sentiment_score_bing_revText  \n",
       "0                             6  \n",
       "1                             1  \n",
       "2                             9  \n",
       "3                             3  "
      ]
     },
     "execution_count": 43,
     "metadata": {},
     "output_type": "execute_result"
    }
   ],
   "source": [
    "amz_data[['reviewerID', 'reviewText', 'overall', 'sentiment_score_bing_revText']].head(4)"
   ]
  },
  {
   "attachments": {},
   "cell_type": "markdown",
   "metadata": {},
   "source": [
    "#### Final Data Frame with BING, AFINN and NRC Sentiment Scores"
   ]
  },
  {
   "cell_type": "code",
   "execution_count": 44,
   "metadata": {},
   "outputs": [
    {
     "data": {
      "text/html": [
       "<div>\n",
       "<style scoped>\n",
       "    .dataframe tbody tr th:only-of-type {\n",
       "        vertical-align: middle;\n",
       "    }\n",
       "\n",
       "    .dataframe tbody tr th {\n",
       "        vertical-align: top;\n",
       "    }\n",
       "\n",
       "    .dataframe thead th {\n",
       "        text-align: right;\n",
       "    }\n",
       "</style>\n",
       "<table border=\"1\" class=\"dataframe\">\n",
       "  <thead>\n",
       "    <tr style=\"text-align: right;\">\n",
       "      <th></th>\n",
       "      <th>reviewerName</th>\n",
       "      <th>reviewText</th>\n",
       "      <th>overall</th>\n",
       "      <th>sentiment_score_afinn_revText</th>\n",
       "      <th>sentiment_score_bing_revText</th>\n",
       "      <th>sentiment_score_nrc_revText</th>\n",
       "    </tr>\n",
       "  </thead>\n",
       "  <tbody>\n",
       "    <tr>\n",
       "      <th>0</th>\n",
       "      <td>J. Bynum</td>\n",
       "      <td>keith green  songs for the shepherd his previo...</td>\n",
       "      <td>5.0</td>\n",
       "      <td>17</td>\n",
       "      <td>6</td>\n",
       "      <td>trust</td>\n",
       "    </tr>\n",
       "    <tr>\n",
       "      <th>1</th>\n",
       "      <td>Lady Leatherneck</td>\n",
       "      <td>thank you jesus lord god that brother greens m...</td>\n",
       "      <td>5.0</td>\n",
       "      <td>4</td>\n",
       "      <td>1</td>\n",
       "      <td>trust</td>\n",
       "    </tr>\n",
       "    <tr>\n",
       "      <th>2</th>\n",
       "      <td>Avid Reader</td>\n",
       "      <td>keith green had a passionate love for jesus th...</td>\n",
       "      <td>5.0</td>\n",
       "      <td>17</td>\n",
       "      <td>9</td>\n",
       "      <td>trust</td>\n",
       "    </tr>\n",
       "    <tr>\n",
       "      <th>3</th>\n",
       "      <td>libertyinmo</td>\n",
       "      <td>great way for children and adults to memorize ...</td>\n",
       "      <td>5.0</td>\n",
       "      <td>6</td>\n",
       "      <td>3</td>\n",
       "      <td>trust</td>\n",
       "    </tr>\n",
       "  </tbody>\n",
       "</table>\n",
       "</div>"
      ],
      "text/plain": [
       "       reviewerName                                         reviewText  \\\n",
       "0          J. Bynum  keith green  songs for the shepherd his previo...   \n",
       "1  Lady Leatherneck  thank you jesus lord god that brother greens m...   \n",
       "2       Avid Reader  keith green had a passionate love for jesus th...   \n",
       "3       libertyinmo  great way for children and adults to memorize ...   \n",
       "\n",
       "   overall  sentiment_score_afinn_revText  sentiment_score_bing_revText  \\\n",
       "0      5.0                             17                             6   \n",
       "1      5.0                              4                             1   \n",
       "2      5.0                             17                             9   \n",
       "3      5.0                              6                             3   \n",
       "\n",
       "  sentiment_score_nrc_revText  \n",
       "0                       trust  \n",
       "1                       trust  \n",
       "2                       trust  \n",
       "3                       trust  "
      ]
     },
     "execution_count": 44,
     "metadata": {},
     "output_type": "execute_result"
    }
   ],
   "source": [
    "# see data \n",
    "amz_data[['reviewerName',  'reviewText','overall', 'sentiment_score_afinn_revText',\n",
    "        'sentiment_score_bing_revText',  'sentiment_score_nrc_revText']].head(4)"
   ]
  },
  {
   "cell_type": "code",
   "execution_count": 45,
   "metadata": {},
   "outputs": [],
   "source": [
    "# save data as csv\n",
    "amz_data.to_csv(\"/Users/pavansingh/Library/CloudStorage/GoogleDrive-pavansingho23@gmail.com/My Drive/Portfolio/Masters-Dissertation/Code/Data/amz_with_senti_1.csv\", index=False)\n",
    "\n",
    "# create a smaller dataframe by randomly sampling 10% of the data\n",
    "amz_rev_sample = amz_data.sample(frac=0.1, random_state=42)\n",
    "\n",
    "# save data as csv\n",
    "amz_rev_sample.to_csv(\"/Users/pavansingh/Library/CloudStorage/GoogleDrive-pavansingho23@gmail.com/My Drive/Portfolio/Masters-Dissertation/Code/Data/amz_with_senti_sample_1.csv\", index=False)"
   ]
  }
 ],
 "metadata": {
  "kernelspec": {
   "display_name": "base",
   "language": "python",
   "name": "python3"
  },
  "language_info": {
   "codemirror_mode": {
    "name": "ipython",
    "version": 3
   },
   "file_extension": ".py",
   "mimetype": "text/x-python",
   "name": "python",
   "nbconvert_exporter": "python",
   "pygments_lexer": "ipython3",
   "version": "3.9.12"
  },
  "orig_nbformat": 4
 },
 "nbformat": 4,
 "nbformat_minor": 2
}
