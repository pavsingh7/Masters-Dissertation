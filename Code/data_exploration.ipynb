{
 "cells": [
  {
   "attachments": {},
   "cell_type": "markdown",
   "metadata": {},
   "source": [
    "# Data Explorations\n",
    "## MSc Advanced Analytics Dissertation\n",
    "\n",
    "Here we are looking at taking our sample of the amazon reviews dataset and exploring it. We divide the section into two parts. \n",
    "\n",
    "1. A quick overview of the data - shape, size, features etc.\n",
    "2. A more detailed look at the data - distributions, correlations etc."
   ]
  },
  {
   "cell_type": "code",
   "execution_count": null,
   "metadata": {
    "vscode": {
     "languageId": "plaintext"
    }
   },
   "outputs": [],
   "source": []
  }
 ],
 "metadata": {
  "language_info": {
   "name": "python"
  },
  "orig_nbformat": 4
 },
 "nbformat": 4,
 "nbformat_minor": 2
}
